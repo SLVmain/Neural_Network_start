{
  "cells": [
    {
      "cell_type": "markdown",
      "metadata": {
        "id": "view-in-github",
        "colab_type": "text"
      },
      "source": [
        "<a href=\"https://colab.research.google.com/github/SLVmain/Neural_Network_start/blob/Les_04/HW_04_part2_ipynb%22.ipynb\" target=\"_parent\"><img src=\"https://colab.research.google.com/assets/colab-badge.svg\" alt=\"Open In Colab\"/></a>"
      ]
    },
    {
      "cell_type": "markdown",
      "metadata": {
        "id": "GJqW1sHnm591"
      },
      "source": [
        "# Введение в искусственные нейронные сети\n",
        "# Урок 4. Сверточные нейронные сети\n",
        "# Часть 2"
      ]
    },
    {
      "cell_type": "markdown",
      "metadata": {
        "id": "PHqn01Vpm5-c"
      },
      "source": [
        "## Практическое задание\n",
        "\n",
        "Вариант 2. (сложный)\n",
        "- реализовать нейронную сеть или стек из сверток (Concatenate) на сifar10.\n",
        "- оценить рост точности при увеличении ширины сети (больше ядер), больше нитей.\n",
        "- оценить рост точности при увеличении глубины сети (больше слоев)\n",
        "    </li>\n",
        "</ol>"
      ]
    },
    {
      "cell_type": "code",
      "execution_count": 1,
      "metadata": {
        "id": "0CMCfvAPdJct"
      },
      "outputs": [],
      "source": [
        "import matplotlib.pyplot as plt\n",
        "import numpy as np\n",
        "import tensorflow as tf\n",
        "from __future__ import print_function\n",
        "import tensorflow.keras as keras\n",
        "from tensorflow.keras.datasets import cifar10\n",
        "from tensorflow.keras.preprocessing.image import ImageDataGenerator\n",
        "from tensorflow.keras.models import Sequential, Model\n",
        "from tensorflow.keras.layers import Dense, Dropout, Activation, Flatten, Concatenate\n",
        "from tensorflow.keras.layers import Conv2D, MaxPooling2D, Input, GlobalMaxPooling2D, AveragePooling2D, GlobalAveragePooling2D\n",
        "from tensorflow.keras.optimizers import Adam\n",
        "import os\n",
        "from tensorflow.keras import utils\n",
        "from tensorflow.keras.utils import to_categorical, plot_model \n",
        "import random"
      ]
    },
    {
      "cell_type": "code",
      "source": [
        "def plot_accuracy(history):\n",
        "  plt.plot(history.history['accuracy'], label='accuracy')\n",
        "  plt.plot(history.history['val_accuracy'], label='val_accuracy')\n",
        "  #plt.ylim([0, 10])\n",
        "  plt.xlabel('Epoch')\n",
        "  plt.ylabel('accuracy')\n",
        "  plt.legend()\n",
        "  plt.grid(True)\n",
        "  plt.show()"
      ],
      "metadata": {
        "id": "tmxsyYMvK90m"
      },
      "execution_count": 2,
      "outputs": []
    },
    {
      "cell_type": "code",
      "execution_count": 3,
      "metadata": {
        "id": "kiRCJY0WdGph",
        "colab": {
          "base_uri": "https://localhost:8080/"
        },
        "outputId": "b3d34582-2158-4959-e834-5ca6f606b1fd"
      },
      "outputs": [
        {
          "output_type": "stream",
          "name": "stdout",
          "text": [
            "Downloading data from https://www.cs.toronto.edu/~kriz/cifar-10-python.tar.gz\n",
            "170500096/170498071 [==============================] - 4s 0us/step\n",
            "170508288/170498071 [==============================] - 4s 0us/step\n"
          ]
        }
      ],
      "source": [
        "(x_train, y_train), (x_test, y_test) = cifar10.load_data()\n",
        "\n",
        "classes = ['самолет', 'автомобиль', 'птица', 'кот', 'олень', 'собака', 'лягушка', 'лошадь', 'корабль', 'грузовик']\n",
        "\n",
        "x_train = x_train.astype('float32')\n",
        "x_test = x_test.astype('float32')\n",
        "x_train /= 255\n",
        "x_test /= 255\n",
        "\n",
        "y_train = utils.to_categorical(y_train, 10)\n",
        "y_test = utils.to_categorical(y_test, 10)"
      ]
    },
    {
      "cell_type": "code",
      "execution_count": 4,
      "metadata": {
        "colab": {
          "base_uri": "https://localhost:8080/"
        },
        "id": "TmYVZwZFE35W",
        "outputId": "0027b9b6-d79b-4647-d0c8-71dcb52f7945"
      },
      "outputs": [
        {
          "output_type": "stream",
          "name": "stdout",
          "text": [
            "x_train shape: (50000, 32, 32, 3)\n",
            "50000 тренировочные примеры\n",
            "10000 тестовые примеры\n"
          ]
        },
        {
          "output_type": "execute_result",
          "data": {
            "text/plain": [
              "array([0., 0., 0., 0., 0., 0., 1., 0., 0., 0.], dtype=float32)"
            ]
          },
          "metadata": {},
          "execution_count": 4
        }
      ],
      "source": [
        "print('x_train shape:', x_train.shape)\n",
        "print(x_train.shape[0], 'тренировочные примеры')\n",
        "print(x_test.shape[0], 'тестовые примеры')\n",
        "y_train[0]"
      ]
    },
    {
      "cell_type": "code",
      "source": [
        "metrics_list_cifar = []"
      ],
      "metadata": {
        "id": "7bfhgZcqLtgc"
      },
      "execution_count": 5,
      "outputs": []
    },
    {
      "cell_type": "markdown",
      "metadata": {
        "id": "VfWax9igoidq"
      },
      "source": [
        "Строим сеть из трех нитей"
      ]
    },
    {
      "cell_type": "code",
      "source": [
        "input_size = x_train.shape[1:]"
      ],
      "metadata": {
        "id": "AQNHrqlp-lcy"
      },
      "execution_count": 6,
      "outputs": []
    },
    {
      "cell_type": "code",
      "execution_count": 14,
      "metadata": {
        "colab": {
          "base_uri": "https://localhost:8080/",
          "height": 661
        },
        "id": "DoXtYL12hXTK",
        "outputId": "0ffce54f-ef6f-4c2c-c7f7-a20729ea94c5"
      },
      "outputs": [
        {
          "output_type": "execute_result",
          "data": {
            "image/png": "[encoded data removed]",
            "text/plain": [
              "<IPython.core.display.Image object>"
            ]
          },
          "metadata": {},
          "execution_count": 14
        }
      ],
      "source": [
        "#построим модель с урока\n",
        "first_input = Input(shape=input_size)\n",
        "x11= Conv2D(10,3,activation='relu')(first_input)\n",
        "x11= Flatten()(x11)\n",
        "first_dense = Dense(1, )(x11)\n",
        "\n",
        "second_input = Input(shape=input_size)\n",
        "x22= Flatten()(second_input)\n",
        "second_dense = Dense(1, )(x22)\n",
        "\n",
        "merge_one = Concatenate()([first_dense, second_dense])\n",
        "\n",
        "third_input = Input(shape=input_size)\n",
        "x33= Flatten()(third_input)\n",
        "x33 = Dense(1, )(x33)\n",
        "\n",
        "merge_two = Concatenate(axis=1)([merge_one, x33])\n",
        "merge_two=Dense(10, activation='softmax')(merge_two)\n",
        "\n",
        "\n",
        "model_stek = Model(inputs=[first_input, second_input, third_input], outputs=merge_two)\n",
        "ada_grad = tf.keras.optimizers.Adagrad(learning_rate=0.1, epsilon=1e-08, decay=0.0)\n",
        "model_stek.compile(optimizer=ada_grad, loss=tf.keras.losses.CategoricalCrossentropy(),\n",
        "              metrics=['accuracy'])\n",
        "\n",
        "\n",
        "plot_model(model_stek,'model_stek.png')\n"
      ]
    },
    {
      "cell_type": "code",
      "execution_count": 15,
      "metadata": {
        "id": "riX8YnRGNqXr",
        "colab": {
          "base_uri": "https://localhost:8080/"
        },
        "outputId": "b602a019-8ad3-4ccd-8156-ffa00cc54fe6"
      },
      "outputs": [
        {
          "output_type": "stream",
          "name": "stdout",
          "text": [
            "Model: \"model_2\"\n",
            "__________________________________________________________________________________________________\n",
            " Layer (type)                   Output Shape         Param #     Connected to                     \n",
            "==================================================================================================\n",
            " input_8 (InputLayer)           [(None, 32, 32, 3)]  0           []                               \n",
            "                                                                                                  \n",
            " conv2d_3 (Conv2D)              (None, 30, 30, 10)   280         ['input_8[0][0]']                \n",
            "                                                                                                  \n",
            " input_9 (InputLayer)           [(None, 32, 32, 3)]  0           []                               \n",
            "                                                                                                  \n",
            " flatten_7 (Flatten)            (None, 9000)         0           ['conv2d_3[0][0]']               \n",
            "                                                                                                  \n",
            " flatten_8 (Flatten)            (None, 3072)         0           ['input_9[0][0]']                \n",
            "                                                                                                  \n",
            " input_10 (InputLayer)          [(None, 32, 32, 3)]  0           []                               \n",
            "                                                                                                  \n",
            " dense_9 (Dense)                (None, 1)            9001        ['flatten_7[0][0]']              \n",
            "                                                                                                  \n",
            " dense_10 (Dense)               (None, 1)            3073        ['flatten_8[0][0]']              \n",
            "                                                                                                  \n",
            " flatten_9 (Flatten)            (None, 3072)         0           ['input_10[0][0]']               \n",
            "                                                                                                  \n",
            " concatenate_5 (Concatenate)    (None, 2)            0           ['dense_9[0][0]',                \n",
            "                                                                  'dense_10[0][0]']               \n",
            "                                                                                                  \n",
            " dense_11 (Dense)               (None, 1)            3073        ['flatten_9[0][0]']              \n",
            "                                                                                                  \n",
            " concatenate_6 (Concatenate)    (None, 3)            0           ['concatenate_5[0][0]',          \n",
            "                                                                  'dense_11[0][0]']               \n",
            "                                                                                                  \n",
            " dense_12 (Dense)               (None, 10)           40          ['concatenate_6[0][0]']          \n",
            "                                                                                                  \n",
            "==================================================================================================\n",
            "Total params: 15,467\n",
            "Trainable params: 15,467\n",
            "Non-trainable params: 0\n",
            "__________________________________________________________________________________________________\n"
          ]
        }
      ],
      "source": [
        "model_stek.summary()"
      ]
    },
    {
      "cell_type": "code",
      "execution_count": 16,
      "metadata": {
        "colab": {
          "base_uri": "https://localhost:8080/"
        },
        "id": "bodoQSkkjzUa",
        "outputId": "5bc29681-433b-4e27-82e5-d3a699c420e9"
      },
      "outputs": [
        {
          "output_type": "stream",
          "name": "stdout",
          "text": [
            "Epoch 1/20\n",
            "1250/1250 [==============================] - 5s 4ms/step - loss: 2.3491 - accuracy: 0.2207 - val_loss: 2.0709 - val_accuracy: 0.2254\n",
            "Epoch 2/20\n",
            "1250/1250 [==============================] - 4s 3ms/step - loss: 1.9759 - accuracy: 0.2636 - val_loss: 1.9361 - val_accuracy: 0.2812\n",
            "Epoch 3/20\n",
            "1250/1250 [==============================] - 4s 3ms/step - loss: 1.9129 - accuracy: 0.2948 - val_loss: 1.9413 - val_accuracy: 0.2818\n",
            "Epoch 4/20\n",
            "1250/1250 [==============================] - 4s 3ms/step - loss: 1.8701 - accuracy: 0.3146 - val_loss: 1.8592 - val_accuracy: 0.3289\n",
            "Epoch 5/20\n",
            "1250/1250 [==============================] - 4s 3ms/step - loss: 1.8429 - accuracy: 0.3268 - val_loss: 1.8406 - val_accuracy: 0.3329\n",
            "Epoch 6/20\n",
            "1250/1250 [==============================] - 4s 3ms/step - loss: 1.8185 - accuracy: 0.3332 - val_loss: 1.8347 - val_accuracy: 0.3185\n",
            "Epoch 7/20\n",
            "1250/1250 [==============================] - 4s 3ms/step - loss: 1.8016 - accuracy: 0.3379 - val_loss: 1.8031 - val_accuracy: 0.3340\n",
            "Epoch 8/20\n",
            "1250/1250 [==============================] - 4s 3ms/step - loss: 1.7887 - accuracy: 0.3405 - val_loss: 1.7910 - val_accuracy: 0.3409\n",
            "Epoch 9/20\n",
            "1250/1250 [==============================] - 4s 3ms/step - loss: 1.7791 - accuracy: 0.3400 - val_loss: 1.7929 - val_accuracy: 0.3350\n",
            "Epoch 10/20\n",
            "1250/1250 [==============================] - 4s 3ms/step - loss: 1.7727 - accuracy: 0.3417 - val_loss: 1.7825 - val_accuracy: 0.3402\n",
            "Epoch 11/20\n",
            "1250/1250 [==============================] - 4s 3ms/step - loss: 1.7667 - accuracy: 0.3428 - val_loss: 1.7935 - val_accuracy: 0.3370\n",
            "Epoch 12/20\n",
            "1250/1250 [==============================] - 4s 3ms/step - loss: 1.7625 - accuracy: 0.3442 - val_loss: 1.7714 - val_accuracy: 0.3390\n",
            "Epoch 13/20\n",
            "1250/1250 [==============================] - 4s 3ms/step - loss: 1.7575 - accuracy: 0.3459 - val_loss: 1.7724 - val_accuracy: 0.3418\n",
            "Epoch 14/20\n",
            "1250/1250 [==============================] - 4s 3ms/step - loss: 1.7546 - accuracy: 0.3461 - val_loss: 1.7655 - val_accuracy: 0.3438\n",
            "Epoch 15/20\n",
            "1250/1250 [==============================] - 4s 3ms/step - loss: 1.7499 - accuracy: 0.3477 - val_loss: 1.7808 - val_accuracy: 0.3394\n",
            "Epoch 16/20\n",
            "1250/1250 [==============================] - 4s 3ms/step - loss: 1.7471 - accuracy: 0.3474 - val_loss: 1.7637 - val_accuracy: 0.3424\n",
            "Epoch 17/20\n",
            "1250/1250 [==============================] - 4s 4ms/step - loss: 1.7447 - accuracy: 0.3491 - val_loss: 1.7730 - val_accuracy: 0.3356\n",
            "Epoch 18/20\n",
            "1250/1250 [==============================] - 4s 3ms/step - loss: 1.7406 - accuracy: 0.3494 - val_loss: 1.7568 - val_accuracy: 0.3501\n",
            "Epoch 19/20\n",
            "1250/1250 [==============================] - 4s 3ms/step - loss: 1.7393 - accuracy: 0.3490 - val_loss: 1.7540 - val_accuracy: 0.3455\n",
            "Epoch 20/20\n",
            "1250/1250 [==============================] - 4s 3ms/step - loss: 1.7365 - accuracy: 0.3503 - val_loss: 1.7517 - val_accuracy: 0.3437\n"
          ]
        }
      ],
      "source": [
        "hist = model_stek.fit([x_train,x_train,x_train],y_train, epochs = 20, validation_split=0.2, verbose=1)"
      ]
    },
    {
      "cell_type": "code",
      "source": [
        "metrics_list_cifar = metrics_list_cifar + [['3 concat', '_', round(model_stek.evaluate([x_test, x_test, x_test], y_test, verbose = 0)[1], 3)]]\n",
        "metrics_list_cifar"
      ],
      "metadata": {
        "id": "rMFCnAksAb0n",
        "colab": {
          "base_uri": "https://localhost:8080/"
        },
        "outputId": "a4603aa9-0059-4e94-c9af-b5a7286cd5ad"
      },
      "execution_count": 17,
      "outputs": [
        {
          "output_type": "execute_result",
          "data": {
            "text/plain": [
              "[['3 concat', '_', 0.372], ['3 concat', '_', 0.352]]"
            ]
          },
          "metadata": {},
          "execution_count": 17
        }
      ]
    },
    {
      "cell_type": "code",
      "source": [
        "#добавим еще модель\n",
        "first_input = Input(shape=input_size)\n",
        "x11= Conv2D(10,3,activation='relu')(first_input)\n",
        "x11= Flatten()(x11)\n",
        "first_dense = Dense(1, )(x11)\n",
        "\n",
        "second_input = Input(shape=input_size)\n",
        "x22= Flatten()(second_input)\n",
        "second_dense = Dense(1, )(x22)\n",
        "\n",
        "merge_one = Concatenate()([first_dense, second_dense])\n",
        "\n",
        "third_input = Input(shape=input_size)\n",
        "x33= Flatten()(third_input)\n",
        "x33 = Dense(1, )(x33)\n",
        "\n",
        "merge_two = Concatenate(axis=1)([merge_one, x33])\n",
        "\n",
        "forth_input = Input(shape=input_size)\n",
        "x44= Conv2D(10,3,activation='relu')(forth_input)\n",
        "x44= Flatten()(x44)\n",
        "forth_dense = Dense(1, )(x44)\n",
        "\n",
        "\n",
        "merge_three = Concatenate(axis=1)([merge_two, x44])\n",
        "merge_three=Dense(10, activation='softmax')(merge_three)\n",
        "\n",
        "\n",
        "\n",
        "model_stek1 = Model(inputs=[first_input, second_input, third_input, forth_input], outputs=merge_three)\n",
        "ada_grad = tf.keras.optimizers.Adagrad(learning_rate=0.1, epsilon=1e-08, decay=0.0)\n",
        "model_stek1.compile(optimizer=ada_grad, loss=tf.keras.losses.CategoricalCrossentropy(),\n",
        "              metrics=['accuracy'])\n",
        "\n",
        "\n",
        "plot_model(model_stek1,'model_stek1.png')"
      ],
      "metadata": {
        "colab": {
          "base_uri": "https://localhost:8080/",
          "height": 758
        },
        "id": "7SRrTZrAMrrI",
        "outputId": "7f70f2c6-7473-4529-d411-657c260db2be"
      },
      "execution_count": 20,
      "outputs": [
        {
          "output_type": "execute_result",
          "data": {
            "image/png": "[encoded data removed]",
            "text/plain": [
              "<IPython.core.display.Image object>"
            ]
          },
          "metadata": {},
          "execution_count": 20
        }
      ]
    },
    {
      "cell_type": "code",
      "source": [
        "hist1 = model_stek1.fit([x_train, x_train, x_train, x_train],y_train, epochs = 20, validation_split=0.2, verbose=1)"
      ],
      "metadata": {
        "colab": {
          "base_uri": "https://localhost:8080/"
        },
        "id": "Bdt72aKjQABZ",
        "outputId": "c95c3625-fa98-4676-e5d4-b41797f22d29"
      },
      "execution_count": 21,
      "outputs": [
        {
          "output_type": "stream",
          "name": "stdout",
          "text": [
            "Epoch 1/20\n",
            "1250/1250 [==============================] - 6s 4ms/step - loss: 1.8017 - accuracy: 0.3474 - val_loss: 1.6234 - val_accuracy: 0.4219\n",
            "Epoch 2/20\n",
            "1250/1250 [==============================] - 5s 4ms/step - loss: 1.5417 - accuracy: 0.4569 - val_loss: 1.5171 - val_accuracy: 0.4630\n",
            "Epoch 3/20\n",
            "1250/1250 [==============================] - 5s 4ms/step - loss: 1.4588 - accuracy: 0.4850 - val_loss: 1.5488 - val_accuracy: 0.4463\n",
            "Epoch 4/20\n",
            "1250/1250 [==============================] - 5s 4ms/step - loss: 1.4170 - accuracy: 0.4980 - val_loss: 1.5193 - val_accuracy: 0.4708\n",
            "Epoch 5/20\n",
            "1250/1250 [==============================] - 5s 4ms/step - loss: 1.3876 - accuracy: 0.5080 - val_loss: 1.4800 - val_accuracy: 0.4730\n",
            "Epoch 6/20\n",
            "1250/1250 [==============================] - 5s 4ms/step - loss: 1.3645 - accuracy: 0.5173 - val_loss: 1.4975 - val_accuracy: 0.4745\n",
            "Epoch 7/20\n",
            "1250/1250 [==============================] - 5s 4ms/step - loss: 1.3477 - accuracy: 0.5194 - val_loss: 1.4635 - val_accuracy: 0.4768\n",
            "Epoch 8/20\n",
            "1250/1250 [==============================] - 5s 4ms/step - loss: 1.3317 - accuracy: 0.5259 - val_loss: 1.4796 - val_accuracy: 0.4730\n",
            "Epoch 9/20\n",
            "1250/1250 [==============================] - 5s 4ms/step - loss: 1.3198 - accuracy: 0.5298 - val_loss: 1.4604 - val_accuracy: 0.4821\n",
            "Epoch 10/20\n",
            "1250/1250 [==============================] - 5s 4ms/step - loss: 1.3096 - accuracy: 0.5360 - val_loss: 1.4625 - val_accuracy: 0.4837\n",
            "Epoch 11/20\n",
            "1250/1250 [==============================] - 5s 4ms/step - loss: 1.2984 - accuracy: 0.5380 - val_loss: 1.4533 - val_accuracy: 0.4870\n",
            "Epoch 12/20\n",
            "1250/1250 [==============================] - 5s 4ms/step - loss: 1.2883 - accuracy: 0.5404 - val_loss: 1.5089 - val_accuracy: 0.4691\n",
            "Epoch 13/20\n",
            "1250/1250 [==============================] - 5s 4ms/step - loss: 1.2812 - accuracy: 0.5434 - val_loss: 1.4624 - val_accuracy: 0.4831\n",
            "Epoch 14/20\n",
            "1250/1250 [==============================] - 5s 4ms/step - loss: 1.2722 - accuracy: 0.5480 - val_loss: 1.4556 - val_accuracy: 0.4860\n",
            "Epoch 15/20\n",
            "1250/1250 [==============================] - 5s 4ms/step - loss: 1.2659 - accuracy: 0.5510 - val_loss: 1.4621 - val_accuracy: 0.4828\n",
            "Epoch 16/20\n",
            "1250/1250 [==============================] - 5s 4ms/step - loss: 1.2596 - accuracy: 0.5534 - val_loss: 1.4659 - val_accuracy: 0.4837\n",
            "Epoch 17/20\n",
            "1250/1250 [==============================] - 5s 4ms/step - loss: 1.2507 - accuracy: 0.5563 - val_loss: 1.4654 - val_accuracy: 0.4831\n",
            "Epoch 18/20\n",
            "1250/1250 [==============================] - 5s 4ms/step - loss: 1.2461 - accuracy: 0.5561 - val_loss: 1.4724 - val_accuracy: 0.4872\n",
            "Epoch 19/20\n",
            "1250/1250 [==============================] - 5s 4ms/step - loss: 1.2387 - accuracy: 0.5601 - val_loss: 1.4575 - val_accuracy: 0.4841\n",
            "Epoch 20/20\n",
            "1250/1250 [==============================] - 5s 4ms/step - loss: 1.2343 - accuracy: 0.5604 - val_loss: 1.4814 - val_accuracy: 0.4842\n"
          ]
        }
      ]
    },
    {
      "cell_type": "code",
      "source": [
        "metrics_list_cifar = metrics_list_cifar + [['4 concat', '_', round(model_stek1.evaluate([x_test, x_test, x_test, x_test], y_test, verbose = 0)[1], 3)]]\n",
        "metrics_list_cifar"
      ],
      "metadata": {
        "colab": {
          "base_uri": "https://localhost:8080/"
        },
        "id": "yaeApiJeQ6c7",
        "outputId": "1376b544-8d55-43a1-e8eb-f9d255e1e228"
      },
      "execution_count": 22,
      "outputs": [
        {
          "output_type": "execute_result",
          "data": {
            "text/plain": [
              "[['3 concat', '_', 0.372], ['3 concat', '_', 0.352], ['4 concat', '_', 0.48]]"
            ]
          },
          "metadata": {},
          "execution_count": 22
        }
      ]
    },
    {
      "cell_type": "markdown",
      "source": [
        "4-ая модель улучшила точность\n",
        "добавим больше ядер"
      ],
      "metadata": {
        "id": "otMt72YCRJeH"
      }
    },
    {
      "cell_type": "code",
      "source": [
        "first_input1 = Input(shape=input_size)\n",
        "x111= Conv2D(128,3,activation='relu')(first_input1)\n",
        "x111= Flatten()(x111)\n",
        "first_dense1 = Dense(1, )(x111)\n",
        "\n",
        "second_input1 = Input(shape=input_size)\n",
        "x222= Flatten()(second_input1)\n",
        "second_dense1 = Dense(1, )(x222)\n",
        "\n",
        "merge_one1 = Concatenate()([first_dense1, second_dense1])\n",
        "\n",
        "third_input1 = Input(shape=input_size)\n",
        "x333= Flatten()(third_input1)\n",
        "x333 = Dense(1, )(x333)\n",
        "\n",
        "merge_two1 = Concatenate(axis=1)([merge_one1, x333])\n",
        "\n",
        "forth_input1 = Input(shape=input_size)\n",
        "x444= Conv2D(256,3,activation='relu')(forth_input1)\n",
        "x444= Flatten()(x444)\n",
        "forth_dense1 = Dense(1, )(x444)\n",
        "\n",
        "\n",
        "merge_three1 = Concatenate(axis=1)([merge_two1, x444])\n",
        "merge_three1=Dense(10, activation='softmax')(merge_three1)\n",
        "\n",
        "\n",
        "\n",
        "model_stek2 = Model(inputs=[first_input1, second_input1, third_input1, forth_input1], outputs=merge_three1)\n",
        "ada_grad = tf.keras.optimizers.Adagrad(learning_rate=0.1, epsilon=1e-08, decay=0.0)\n",
        "model_stek2.compile(optimizer=ada_grad, loss=tf.keras.losses.CategoricalCrossentropy(),\n",
        "              metrics=['accuracy'])"
      ],
      "metadata": {
        "id": "QpXzyHFQRYwq"
      },
      "execution_count": 23,
      "outputs": []
    },
    {
      "cell_type": "code",
      "source": [
        "hist2 = model_stek2.fit([x_train, x_train, x_train, x_train],y_train, epochs = 20, validation_split=0.2, verbose=1)"
      ],
      "metadata": {
        "colab": {
          "base_uri": "https://localhost:8080/"
        },
        "id": "rvMhqBwDSVNu",
        "outputId": "35f2e214-fe0d-4ce9-e98d-02e326da61fc"
      },
      "execution_count": 24,
      "outputs": [
        {
          "output_type": "stream",
          "name": "stdout",
          "text": [
            "Epoch 1/20\n",
            "1250/1250 [==============================] - 10s 7ms/step - loss: 1.9313 - accuracy: 0.3019 - val_loss: 1.7004 - val_accuracy: 0.3833\n",
            "Epoch 2/20\n",
            "1250/1250 [==============================] - 9s 7ms/step - loss: 1.6218 - accuracy: 0.4115 - val_loss: 1.5411 - val_accuracy: 0.4421\n",
            "Epoch 3/20\n",
            "1250/1250 [==============================] - 9s 7ms/step - loss: 1.4752 - accuracy: 0.4696 - val_loss: 1.5088 - val_accuracy: 0.4540\n",
            "Epoch 4/20\n",
            "1250/1250 [==============================] - 9s 7ms/step - loss: 1.3824 - accuracy: 0.5045 - val_loss: 1.4421 - val_accuracy: 0.4857\n",
            "Epoch 5/20\n",
            "1250/1250 [==============================] - 8s 7ms/step - loss: 1.3232 - accuracy: 0.5241 - val_loss: 1.4781 - val_accuracy: 0.4764\n",
            "Epoch 6/20\n",
            "1250/1250 [==============================] - 8s 7ms/step - loss: 1.2676 - accuracy: 0.5458 - val_loss: 1.4089 - val_accuracy: 0.5076\n",
            "Epoch 7/20\n",
            "1250/1250 [==============================] - 8s 7ms/step - loss: 1.2014 - accuracy: 0.5741 - val_loss: 1.3939 - val_accuracy: 0.5191\n",
            "Epoch 8/20\n",
            "1250/1250 [==============================] - 8s 7ms/step - loss: 1.1300 - accuracy: 0.6020 - val_loss: 1.3640 - val_accuracy: 0.5221\n",
            "Epoch 9/20\n",
            "1250/1250 [==============================] - 8s 7ms/step - loss: 1.0654 - accuracy: 0.6257 - val_loss: 1.4027 - val_accuracy: 0.5172\n",
            "Epoch 10/20\n",
            "1250/1250 [==============================] - 8s 7ms/step - loss: 1.0063 - accuracy: 0.6484 - val_loss: 1.3662 - val_accuracy: 0.5360\n",
            "Epoch 11/20\n",
            "1250/1250 [==============================] - 8s 7ms/step - loss: 0.9530 - accuracy: 0.6647 - val_loss: 1.3709 - val_accuracy: 0.5394\n",
            "Epoch 12/20\n",
            "1250/1250 [==============================] - 8s 7ms/step - loss: 0.9065 - accuracy: 0.6827 - val_loss: 1.3727 - val_accuracy: 0.5411\n",
            "Epoch 13/20\n",
            "1250/1250 [==============================] - 8s 7ms/step - loss: 0.8579 - accuracy: 0.6986 - val_loss: 1.4004 - val_accuracy: 0.5453\n",
            "Epoch 14/20\n",
            "1250/1250 [==============================] - 9s 7ms/step - loss: 0.8130 - accuracy: 0.7174 - val_loss: 1.3731 - val_accuracy: 0.5560\n",
            "Epoch 15/20\n",
            "1250/1250 [==============================] - 8s 7ms/step - loss: 0.7658 - accuracy: 0.7363 - val_loss: 1.4077 - val_accuracy: 0.5476\n",
            "Epoch 16/20\n",
            "1250/1250 [==============================] - 8s 7ms/step - loss: 0.7212 - accuracy: 0.7497 - val_loss: 1.4254 - val_accuracy: 0.5539\n",
            "Epoch 17/20\n",
            "1250/1250 [==============================] - 8s 7ms/step - loss: 0.6764 - accuracy: 0.7674 - val_loss: 1.4381 - val_accuracy: 0.5517\n",
            "Epoch 18/20\n",
            "1250/1250 [==============================] - 8s 7ms/step - loss: 0.6352 - accuracy: 0.7828 - val_loss: 1.4577 - val_accuracy: 0.5547\n",
            "Epoch 19/20\n",
            "1250/1250 [==============================] - 8s 7ms/step - loss: 0.5940 - accuracy: 0.7992 - val_loss: 1.4625 - val_accuracy: 0.5551\n",
            "Epoch 20/20\n",
            "1250/1250 [==============================] - 8s 7ms/step - loss: 0.5567 - accuracy: 0.8140 - val_loss: 1.5373 - val_accuracy: 0.5522\n"
          ]
        }
      ]
    },
    {
      "cell_type": "code",
      "source": [
        "metrics_list_cifar = metrics_list_cifar + [['4 concat', '128-256', round(model_stek2.evaluate([x_test, x_test, x_test, x_test], y_test, verbose = 0)[1], 3)]]\n"
      ],
      "metadata": {
        "id": "Z80MCAhSSf63"
      },
      "execution_count": 25,
      "outputs": []
    },
    {
      "cell_type": "code",
      "source": [
        "metrics_list_cifar"
      ],
      "metadata": {
        "colab": {
          "base_uri": "https://localhost:8080/"
        },
        "id": "7tpo1vO6TGgM",
        "outputId": "dda24ea7-c077-4a18-9f11-91ddf4a01ae8"
      },
      "execution_count": 26,
      "outputs": [
        {
          "output_type": "execute_result",
          "data": {
            "text/plain": [
              "[['3 concat', '_', 0.372],\n",
              " ['3 concat', '_', 0.352],\n",
              " ['4 concat', '_', 0.48],\n",
              " ['4 concat', '128-256', 0.547]]"
            ]
          },
          "metadata": {},
          "execution_count": 26
        }
      ]
    },
    {
      "cell_type": "markdown",
      "source": [
        "увеличение ядер увеличило точность до 0.547"
      ],
      "metadata": {
        "id": "GFRF3tQeTQO3"
      }
    },
    {
      "cell_type": "code",
      "execution_count": 27,
      "metadata": {
        "id": "b7v3Y0EqxTd_"
      },
      "outputs": [],
      "source": [
        "#возьмем сеть из первой части домашки и сделаем стек из параллельных сетей\n",
        "\n",
        "\n",
        "first_input2 = Input(shape=input_size)\n",
        "x1111= Conv2D(256, 3, padding='same',activation='relu')(first_input2)\n",
        "x1111 = Conv2D(256, 3, padding='same', activation='relu')(x1111)\n",
        "x1111 = MaxPooling2D()(x1111)\n",
        "x1111 = Dropout(0.4)(x1111)\n",
        "x1111= Flatten()(x1111)\n",
        "first_dense2 = Dense(1, )(x1111)\n",
        "\n",
        "\n",
        "second_input2 = Input(shape=input_size)\n",
        "x2222 = Conv2D(128, 3, padding='same', activation='relu')(second_input2)\n",
        "x2222 = Conv2D(128, 3, padding='same', activation='relu')(x2222)\n",
        "x2222 = MaxPooling2D()(x2222)\n",
        "x2222 = Dropout(0.4)(x2222)\n",
        "\n",
        "x2222= Flatten()(x2222)\n",
        "second_dense2 = Dense(1, )(x2222)\n",
        "\n",
        "merge_one2 = Concatenate()([first_dense2, second_dense2])\n",
        "\n",
        "third_input2 = Input(shape=input_size)\n",
        "x3333 = Conv2D(64, 3, padding='same', activation='relu')(third_input2)\n",
        "x3333 = Conv2D(64, 3, padding='same', activation='relu')(x3333)\n",
        "x3333 = Dropout(0.4)(x3333)\n",
        "x3333= Flatten()(x3333)\n",
        "x3333 = Dense(1, )(x3333)\n",
        "    \n",
        "\n",
        "merge_two2 = Concatenate(axis=1)([merge_one2, x3333])\n",
        "\n",
        "forth_input2 = Input(shape=input_size)\n",
        "x4444= Conv2D(32, 3, padding='same', activation='relu')(forth_input2)\n",
        "x4444 = Conv2D(32, 3, padding='same', activation='relu')(x4444)\n",
        "x4444 = Dropout(0.4)(x4444)\n",
        "x4444= Flatten()(x4444)\n",
        "forth_dense2 = Dense(1, )(x4444)\n",
        "\n",
        "\n",
        "merge_three2 = Concatenate(axis=1)([merge_two2, x4444])\n",
        "\n",
        "\n",
        "merge_three2 = Dense(1024, activation='relu')(merge_three2)\n",
        "merge_three2 = Dropout(0.2)(merge_three2)\n",
        "merge_three2 = Dense(512, activation='relu')(merge_three2)\n",
        "merge_three2=Dense(10, activation='softmax')(merge_three2)\n",
        "\n",
        "\n",
        "model_stek3 = Model(inputs=[first_input2, second_input2, third_input2, forth_input2], outputs=merge_three2)\n",
        "ada_grad = tf.keras.optimizers.Adagrad(learning_rate=0.1, epsilon=1e-08, decay=0.0)\n",
        "model_stek3.compile(optimizer=ada_grad, loss=tf.keras.losses.CategoricalCrossentropy(),\n",
        "              metrics=['accuracy'])"
      ]
    },
    {
      "cell_type": "code",
      "source": [
        "hist3 = model_stek3.fit([x_train, x_train, x_train, x_train],y_train, epochs = 20, validation_split=0.2, verbose=1)"
      ],
      "metadata": {
        "colab": {
          "base_uri": "https://localhost:8080/"
        },
        "id": "aK2kor81XAjq",
        "outputId": "29a4f7c4-8145-4500-80a8-b4432d73eecb"
      },
      "execution_count": 28,
      "outputs": [
        {
          "output_type": "stream",
          "name": "stdout",
          "text": [
            "Epoch 1/20\n",
            "1250/1250 [==============================] - 29s 23ms/step - loss: 2.0187 - accuracy: 0.2271 - val_loss: 1.7267 - val_accuracy: 0.3583\n",
            "Epoch 2/20\n",
            "1250/1250 [==============================] - 27s 22ms/step - loss: 1.5690 - accuracy: 0.4193 - val_loss: 1.4864 - val_accuracy: 0.4570\n",
            "Epoch 3/20\n",
            "1250/1250 [==============================] - 27s 22ms/step - loss: 1.3670 - accuracy: 0.4963 - val_loss: 1.2933 - val_accuracy: 0.5193\n",
            "Epoch 4/20\n",
            "1250/1250 [==============================] - 28s 22ms/step - loss: 1.2234 - accuracy: 0.5495 - val_loss: 1.2003 - val_accuracy: 0.5658\n",
            "Epoch 5/20\n",
            "1250/1250 [==============================] - 27s 22ms/step - loss: 1.0932 - accuracy: 0.6013 - val_loss: 1.1802 - val_accuracy: 0.5731\n",
            "Epoch 6/20\n",
            "1250/1250 [==============================] - 27s 22ms/step - loss: 0.9486 - accuracy: 0.6560 - val_loss: 1.1031 - val_accuracy: 0.6110\n",
            "Epoch 7/20\n",
            "1250/1250 [==============================] - 27s 22ms/step - loss: 0.8005 - accuracy: 0.7081 - val_loss: 1.0817 - val_accuracy: 0.6197\n",
            "Epoch 8/20\n",
            "1250/1250 [==============================] - 27s 22ms/step - loss: 0.6451 - accuracy: 0.7657 - val_loss: 1.1354 - val_accuracy: 0.6254\n",
            "Epoch 9/20\n",
            "1250/1250 [==============================] - 27s 22ms/step - loss: 0.4977 - accuracy: 0.8215 - val_loss: 1.1848 - val_accuracy: 0.6290\n",
            "Epoch 10/20\n",
            "1250/1250 [==============================] - 27s 22ms/step - loss: 0.3858 - accuracy: 0.8619 - val_loss: 1.2737 - val_accuracy: 0.6210\n",
            "Epoch 11/20\n",
            "1250/1250 [==============================] - 27s 22ms/step - loss: 0.2922 - accuracy: 0.8978 - val_loss: 1.4375 - val_accuracy: 0.6248\n",
            "Epoch 12/20\n",
            "1250/1250 [==============================] - 27s 22ms/step - loss: 0.2349 - accuracy: 0.9170 - val_loss: 1.4091 - val_accuracy: 0.6292\n",
            "Epoch 13/20\n",
            "1250/1250 [==============================] - 27s 22ms/step - loss: 0.1850 - accuracy: 0.9358 - val_loss: 1.5030 - val_accuracy: 0.6270\n",
            "Epoch 14/20\n",
            "1250/1250 [==============================] - 27s 22ms/step - loss: 0.1621 - accuracy: 0.9451 - val_loss: 1.6031 - val_accuracy: 0.6212\n",
            "Epoch 15/20\n",
            "1250/1250 [==============================] - 27s 22ms/step - loss: 0.1364 - accuracy: 0.9538 - val_loss: 1.5919 - val_accuracy: 0.6321\n",
            "Epoch 16/20\n",
            "1250/1250 [==============================] - 27s 22ms/step - loss: 0.1193 - accuracy: 0.9589 - val_loss: 1.6258 - val_accuracy: 0.6387\n",
            "Epoch 17/20\n",
            "1250/1250 [==============================] - 27s 22ms/step - loss: 0.0994 - accuracy: 0.9661 - val_loss: 1.7029 - val_accuracy: 0.6331\n",
            "Epoch 18/20\n",
            "1250/1250 [==============================] - 27s 22ms/step - loss: 0.0939 - accuracy: 0.9693 - val_loss: 1.7718 - val_accuracy: 0.6315\n",
            "Epoch 19/20\n",
            "1250/1250 [==============================] - 28s 22ms/step - loss: 0.0790 - accuracy: 0.9736 - val_loss: 1.7722 - val_accuracy: 0.6456\n",
            "Epoch 20/20\n",
            "1250/1250 [==============================] - 27s 22ms/step - loss: 0.0728 - accuracy: 0.9763 - val_loss: 1.8227 - val_accuracy: 0.6455\n"
          ]
        }
      ]
    },
    {
      "cell_type": "code",
      "source": [
        "metrics_list_cifar = metrics_list_cifar + [['4 concat', '1_part_model', round(model_stek3.evaluate([x_test, x_test, x_test, x_test], y_test, verbose = 0)[1], 3)]]"
      ],
      "metadata": {
        "id": "L0Lu9yD9Xaa1"
      },
      "execution_count": 29,
      "outputs": []
    },
    {
      "cell_type": "code",
      "source": [
        "metrics_list_cifar"
      ],
      "metadata": {
        "colab": {
          "base_uri": "https://localhost:8080/"
        },
        "id": "t59rN5HOYTLD",
        "outputId": "85fabed6-f65f-44ad-c6b1-fb16cf887500"
      },
      "execution_count": 30,
      "outputs": [
        {
          "output_type": "execute_result",
          "data": {
            "text/plain": [
              "[['3 concat', '_', 0.372],\n",
              " ['3 concat', '_', 0.352],\n",
              " ['4 concat', '_', 0.48],\n",
              " ['4 concat', '128-256', 0.547],\n",
              " ['4 concat', '1_part_model', 0.641]]"
            ]
          },
          "metadata": {},
          "execution_count": 30
        }
      ]
    },
    {
      "cell_type": "markdown",
      "source": [
        "модель повысила точность по сравнению с model_stek2, но в сравнении с моделью из первой части домашнего задания, где слои работали последовательно (точность была 0,78), она проигрывает, что и понятно, так как идея была как раз в последовательной обратотке слоев."
      ],
      "metadata": {
        "id": "yG6zPkn1YGQg"
      }
    },
    {
      "cell_type": "code",
      "source": [
        "#добавим две модели: с уменьшающимся последовательным кол-вом фильтров и вторая - с повышающимся кол-вом фильтров\n",
        "first_input3 = Input(shape=input_size)\n",
        "x11111= Conv2D(256, 3, padding='same',activation='relu')(first_input3)\n",
        "x11111 = Conv2D(256, 3, padding='same', activation='relu')(x11111)\n",
        "x11111 = MaxPooling2D()(x11111)\n",
        "x11111 = Dropout(0.4)(x11111)\n",
        "x11111 = Conv2D(128, 3, padding='same',activation='relu')(x11111)\n",
        "x11111 = Conv2D(128, 3, padding='same', activation='relu')(x11111)\n",
        "x11111 = MaxPooling2D()(x11111)\n",
        "x11111 = Dropout(0.4)(x11111)\n",
        "x11111= Conv2D(64, 3, padding='same',activation='relu')(x11111)\n",
        "x11111 = Conv2D(64, 3, padding='same', activation='relu')(x11111)\n",
        "x11111 = Dropout(0.4)(x11111)\n",
        "x11111= Conv2D(32, 3, padding='same',activation='relu')(x11111)\n",
        "x11111 = Conv2D(32, 3, padding='same', activation='relu')(x11111)\n",
        "x11111 = Dropout(0.4)(x11111)\n",
        "x11111= Flatten()(x11111)\n",
        "first_dense3 = Dense(1, )(x11111)\n",
        "\n",
        "second_input3 = Input(shape=input_size)\n",
        "x22222= Conv2D(32, 3, padding='same',activation='relu')(second_input3)\n",
        "x22222 = Conv2D(32, 3, padding='same', activation='relu')(x22222)\n",
        "x22222 = MaxPooling2D()(x22222)\n",
        "x22222 = Dropout(0.4)(x22222)\n",
        "x22222 = Conv2D(64, 3, padding='same',activation='relu')(x22222)\n",
        "x22222 = Conv2D(64, 3, padding='same', activation='relu')(x22222)\n",
        "x22222 = MaxPooling2D()(x22222)\n",
        "x22222 = Dropout(0.4)(x22222)\n",
        "x22222= Conv2D(128, 3, padding='same',activation='relu')(x22222)\n",
        "x22222 = Conv2D(128, 3, padding='same', activation='relu')(x22222)\n",
        "x22222 = Dropout(0.4)(x22222)\n",
        "x22222= Conv2D(256, 3, padding='same',activation='relu')(x22222)\n",
        "x22222 = Conv2D(256, 3, padding='same', activation='relu')(x22222)\n",
        "x22222 = Dropout(0.4)(x22222)\n",
        "x22222= Flatten()(x22222)\n",
        "second_dense3 = Dense(1, )(x22222)\n",
        "\n",
        "\n",
        "merge_three3 = Concatenate()([first_dense3, second_dense3])\n",
        "\n",
        "\n",
        "merge_three3 = Dense(1024, activation='relu')(merge_three3)\n",
        "merge_three3 = Dropout(0.2)(merge_three3)\n",
        "merge_three3 = Dense(512, activation='relu')(merge_three3)\n",
        "merge_three3=Dense(10, activation='softmax')(merge_three3)\n",
        "\n",
        "\n",
        "model_stek4 = Model(inputs=[first_input3, second_input3], outputs=merge_three3)\n",
        "ada_grad = tf.keras.optimizers.Adagrad(learning_rate=0.01, epsilon=1e-08, decay=0.0)\n",
        "model_stek4.compile(optimizer=ada_grad, loss=tf.keras.losses.CategoricalCrossentropy(),\n",
        "              metrics=['accuracy'])"
      ],
      "metadata": {
        "id": "p94Kn8tTZ-jp"
      },
      "execution_count": 31,
      "outputs": []
    },
    {
      "cell_type": "code",
      "source": [
        "hist4 = model_stek4.fit([x_train, x_train],y_train, epochs = 20, validation_split=0.2, verbose=1)"
      ],
      "metadata": {
        "colab": {
          "base_uri": "https://localhost:8080/"
        },
        "id": "eZ-PP0aBcxr8",
        "outputId": "25b855bf-9609-4935-eab3-4280bdaa14c9"
      },
      "execution_count": 32,
      "outputs": [
        {
          "output_type": "stream",
          "name": "stdout",
          "text": [
            "Epoch 1/20\n",
            "1250/1250 [==============================] - 24s 18ms/step - loss: 2.2074 - accuracy: 0.1519 - val_loss: 2.1220 - val_accuracy: 0.1699\n",
            "Epoch 2/20\n",
            "1250/1250 [==============================] - 22s 18ms/step - loss: 1.9524 - accuracy: 0.2018 - val_loss: 1.8724 - val_accuracy: 0.2223\n",
            "Epoch 3/20\n",
            "1250/1250 [==============================] - 22s 18ms/step - loss: 1.8731 - accuracy: 0.2308 - val_loss: 1.9674 - val_accuracy: 0.2088\n",
            "Epoch 4/20\n",
            "1250/1250 [==============================] - 22s 18ms/step - loss: 1.8386 - accuracy: 0.2510 - val_loss: 1.8480 - val_accuracy: 0.2500\n",
            "Epoch 5/20\n",
            "1250/1250 [==============================] - 22s 18ms/step - loss: 1.8135 - accuracy: 0.2589 - val_loss: 1.8824 - val_accuracy: 0.2551\n",
            "Epoch 6/20\n",
            "1250/1250 [==============================] - 23s 18ms/step - loss: 1.7896 - accuracy: 0.2705 - val_loss: 1.8211 - val_accuracy: 0.2678\n",
            "Epoch 7/20\n",
            "1250/1250 [==============================] - 22s 18ms/step - loss: 1.7646 - accuracy: 0.2799 - val_loss: 1.7480 - val_accuracy: 0.3107\n",
            "Epoch 8/20\n",
            "1250/1250 [==============================] - 22s 18ms/step - loss: 1.6969 - accuracy: 0.3285 - val_loss: 1.9440 - val_accuracy: 0.3104\n",
            "Epoch 9/20\n",
            "1250/1250 [==============================] - 23s 18ms/step - loss: 1.5658 - accuracy: 0.3921 - val_loss: 1.5110 - val_accuracy: 0.4142\n",
            "Epoch 10/20\n",
            "1250/1250 [==============================] - 22s 18ms/step - loss: 1.4735 - accuracy: 0.4248 - val_loss: 1.5122 - val_accuracy: 0.4378\n",
            "Epoch 11/20\n",
            "1250/1250 [==============================] - 22s 18ms/step - loss: 1.4202 - accuracy: 0.4530 - val_loss: 1.4263 - val_accuracy: 0.4644\n",
            "Epoch 12/20\n",
            "1250/1250 [==============================] - 22s 18ms/step - loss: 1.3707 - accuracy: 0.4775 - val_loss: 1.5485 - val_accuracy: 0.4551\n",
            "Epoch 13/20\n",
            "1250/1250 [==============================] - 22s 18ms/step - loss: 1.3337 - accuracy: 0.4964 - val_loss: 1.3989 - val_accuracy: 0.4956\n",
            "Epoch 14/20\n",
            "1250/1250 [==============================] - 22s 18ms/step - loss: 1.2975 - accuracy: 0.5117 - val_loss: 1.4770 - val_accuracy: 0.4882\n",
            "Epoch 15/20\n",
            "1250/1250 [==============================] - 22s 18ms/step - loss: 1.2659 - accuracy: 0.5267 - val_loss: 1.3063 - val_accuracy: 0.5310\n",
            "Epoch 16/20\n",
            "1250/1250 [==============================] - 22s 18ms/step - loss: 1.2319 - accuracy: 0.5433 - val_loss: 1.2319 - val_accuracy: 0.5552\n",
            "Epoch 17/20\n",
            "1250/1250 [==============================] - 22s 18ms/step - loss: 1.2047 - accuracy: 0.5556 - val_loss: 1.3267 - val_accuracy: 0.5457\n",
            "Epoch 18/20\n",
            "1250/1250 [==============================] - 22s 18ms/step - loss: 1.1705 - accuracy: 0.5701 - val_loss: 1.2854 - val_accuracy: 0.5615\n",
            "Epoch 19/20\n",
            "1250/1250 [==============================] - 22s 18ms/step - loss: 1.1504 - accuracy: 0.5803 - val_loss: 1.2595 - val_accuracy: 0.5666\n",
            "Epoch 20/20\n",
            "1250/1250 [==============================] - 22s 18ms/step - loss: 1.1187 - accuracy: 0.5921 - val_loss: 1.2163 - val_accuracy: 0.5717\n"
          ]
        }
      ]
    },
    {
      "cell_type": "code",
      "source": [
        "metrics_list_cifar = metrics_list_cifar + [['2 concat', '1_part_2 model3_reverse', round(model_stek4.evaluate([x_test, x_test], y_test, verbose = 0)[1], 3)]]"
      ],
      "metadata": {
        "id": "ZeJ1jzCOekhk"
      },
      "execution_count": 33,
      "outputs": []
    },
    {
      "cell_type": "code",
      "source": [
        "metrics_list_cifar"
      ],
      "metadata": {
        "colab": {
          "base_uri": "https://localhost:8080/"
        },
        "id": "EFl2mzqMexMI",
        "outputId": "75711723-5ec9-4ce6-d611-df9ee9e51e50"
      },
      "execution_count": 34,
      "outputs": [
        {
          "output_type": "execute_result",
          "data": {
            "text/plain": [
              "[['3 concat', '_', 0.372],\n",
              " ['3 concat', '_', 0.352],\n",
              " ['4 concat', '_', 0.48],\n",
              " ['4 concat', '128-256', 0.547],\n",
              " ['4 concat', '1_part_model', 0.641],\n",
              " ['2 concat', '1_part_2 model3_reverse', 0.564]]"
            ]
          },
          "metadata": {},
          "execution_count": 34
        }
      ]
    },
    {
      "cell_type": "markdown",
      "source": [
        "точность не улучшилась"
      ],
      "metadata": {
        "id": "wCdMXXbCfFyD"
      }
    },
    {
      "cell_type": "code",
      "source": [
        "#сделаем две одинаковых модели параллельно\n",
        "first_input4 = Input(shape=input_size)\n",
        "x111111= Conv2D(256, 3, padding='same',activation='relu')(first_input4)\n",
        "x111111 = Conv2D(256, 3, padding='same', activation='relu')(x111111)\n",
        "x111111 = MaxPooling2D()(x111111)\n",
        "x111111 = Dropout(0.4)(x111111)\n",
        "x111111 = Conv2D(128, 3, padding='same',activation='relu')(x111111)\n",
        "x111111 = Conv2D(128, 3, padding='same', activation='relu')(x111111)\n",
        "x111111 = MaxPooling2D()(x111111)\n",
        "x111111 = Dropout(0.4)(x111111)\n",
        "x111111= Conv2D(64, 3, padding='same',activation='relu')(x111111)\n",
        "x111111 = Conv2D(64, 3, padding='same', activation='relu')(x111111)\n",
        "x111111 = Dropout(0.4)(x111111)\n",
        "x111111= Conv2D(32, 3, padding='same',activation='relu')(x111111)\n",
        "x111111 = Conv2D(32, 3, padding='same', activation='relu')(x111111)\n",
        "x111111 = Dropout(0.4)(x111111)\n",
        "#x111111= Flatten()(x111111)\n",
        "#first_dense4 = Dense(1, )(x111111)\n",
        "first_dense4 = Flatten()(x111111)\n",
        "\n",
        "second_input4 = Input(shape=input_size)\n",
        "x222222= Conv2D(256, 3, padding='same',activation='relu')(second_input4)\n",
        "x222222 = Conv2D(256, 3, padding='same', activation='relu')(x222222)\n",
        "x222222 = MaxPooling2D()(x222222)\n",
        "x222222 = Dropout(0.4)(x222222)\n",
        "x222222 = Conv2D(128, 3, padding='same',activation='relu')(x222222)\n",
        "x222222 = Conv2D(128, 3, padding='same', activation='relu')(x222222)\n",
        "x222222 = MaxPooling2D()(x222222)\n",
        "x222222 = Dropout(0.4)(x222222)\n",
        "x222222= Conv2D(64, 3, padding='same',activation='relu')(x222222)\n",
        "x222222 = Conv2D(64, 3, padding='same', activation='relu')(x222222)\n",
        "x222222 = Dropout(0.4)(x222222)\n",
        "x222222= Conv2D(32, 3, padding='same',activation='relu')(x222222)\n",
        "x222222 = Conv2D(32, 3, padding='same', activation='relu')(x222222)\n",
        "x222222 = Dropout(0.4)(x222222)\n",
        "#x222222= Flatten()(x222222)\n",
        "#second_dense4 = Dense(1, )(x222222)\n",
        "second_dense4 = Flatten()(x222222)\n",
        "\n",
        "merge_three4 = Concatenate()([first_dense4, second_dense4])\n",
        "\n",
        "\n",
        "\n",
        "merge_three4 = Dense(1024, activation='relu')(merge_three4)\n",
        "merge_three4 = Dropout(0.2)(merge_three4)\n",
        "merge_three4 = Dense(512, activation='relu')(merge_three4)\n",
        "merge_three4=Dense(10, activation='softmax')(merge_three4)\n",
        "\n",
        "\n",
        "model_stek5 = Model(inputs=[first_input4, second_input4], outputs=merge_three4)\n",
        "ada_grad = tf.keras.optimizers.Adagrad(learning_rate=0.01, epsilon=1e-08, decay=0.0)\n",
        "model_stek5.compile(optimizer=ada_grad, loss=tf.keras.losses.CategoricalCrossentropy(),\n",
        "              metrics=['accuracy'])"
      ],
      "metadata": {
        "id": "gf1N3DQCfJBy"
      },
      "execution_count": 35,
      "outputs": []
    },
    {
      "cell_type": "code",
      "source": [
        "hist5 = model_stek5.fit([x_train, x_train],y_train, epochs = 20, validation_split=0.2, verbose=1)"
      ],
      "metadata": {
        "colab": {
          "base_uri": "https://localhost:8080/"
        },
        "id": "PZyhyVECjZEV",
        "outputId": "f52c75e8-56f6-4983-8e68-6d9055c75b76"
      },
      "execution_count": 36,
      "outputs": [
        {
          "output_type": "stream",
          "name": "stdout",
          "text": [
            "Epoch 1/20\n",
            "1250/1250 [==============================] - 33s 25ms/step - loss: 2.1673 - accuracy: 0.1833 - val_loss: 2.0102 - val_accuracy: 0.2802\n",
            "Epoch 2/20\n",
            "1250/1250 [==============================] - 31s 25ms/step - loss: 1.7561 - accuracy: 0.3488 - val_loss: 1.5383 - val_accuracy: 0.4321\n",
            "Epoch 3/20\n",
            "1250/1250 [==============================] - 31s 25ms/step - loss: 1.5149 - accuracy: 0.4441 - val_loss: 1.3661 - val_accuracy: 0.4993\n",
            "Epoch 4/20\n",
            "1250/1250 [==============================] - 31s 25ms/step - loss: 1.3580 - accuracy: 0.5052 - val_loss: 1.2319 - val_accuracy: 0.5515\n",
            "Epoch 5/20\n",
            "1250/1250 [==============================] - 31s 25ms/step - loss: 1.2491 - accuracy: 0.5484 - val_loss: 1.1327 - val_accuracy: 0.5955\n",
            "Epoch 6/20\n",
            "1250/1250 [==============================] - 31s 25ms/step - loss: 1.1577 - accuracy: 0.5812 - val_loss: 1.2419 - val_accuracy: 0.5711\n",
            "Epoch 7/20\n",
            "1250/1250 [==============================] - 31s 25ms/step - loss: 1.0768 - accuracy: 0.6137 - val_loss: 0.9886 - val_accuracy: 0.6436\n",
            "Epoch 8/20\n",
            "1250/1250 [==============================] - 31s 25ms/step - loss: 1.0114 - accuracy: 0.6381 - val_loss: 0.9916 - val_accuracy: 0.6440\n",
            "Epoch 9/20\n",
            "1250/1250 [==============================] - 31s 25ms/step - loss: 0.9449 - accuracy: 0.6608 - val_loss: 0.8906 - val_accuracy: 0.6845\n",
            "Epoch 10/20\n",
            "1250/1250 [==============================] - 31s 25ms/step - loss: 0.8874 - accuracy: 0.6858 - val_loss: 0.8363 - val_accuracy: 0.7066\n",
            "Epoch 11/20\n",
            "1250/1250 [==============================] - 31s 25ms/step - loss: 0.8369 - accuracy: 0.7027 - val_loss: 0.7843 - val_accuracy: 0.7224\n",
            "Epoch 12/20\n",
            "1250/1250 [==============================] - 31s 25ms/step - loss: 0.7891 - accuracy: 0.7197 - val_loss: 0.7564 - val_accuracy: 0.7340\n",
            "Epoch 13/20\n",
            "1250/1250 [==============================] - 31s 25ms/step - loss: 0.7490 - accuracy: 0.7349 - val_loss: 0.7362 - val_accuracy: 0.7425\n",
            "Epoch 14/20\n",
            "1250/1250 [==============================] - 31s 25ms/step - loss: 0.7117 - accuracy: 0.7481 - val_loss: 0.7237 - val_accuracy: 0.7494\n",
            "Epoch 15/20\n",
            "1250/1250 [==============================] - 31s 25ms/step - loss: 0.6793 - accuracy: 0.7584 - val_loss: 0.6768 - val_accuracy: 0.7640\n",
            "Epoch 16/20\n",
            "1250/1250 [==============================] - 31s 25ms/step - loss: 0.6477 - accuracy: 0.7702 - val_loss: 0.6574 - val_accuracy: 0.7736\n",
            "Epoch 17/20\n",
            "1250/1250 [==============================] - 31s 25ms/step - loss: 0.6227 - accuracy: 0.7775 - val_loss: 0.6532 - val_accuracy: 0.7752\n",
            "Epoch 18/20\n",
            "1250/1250 [==============================] - 31s 25ms/step - loss: 0.5960 - accuracy: 0.7903 - val_loss: 0.6574 - val_accuracy: 0.7784\n",
            "Epoch 19/20\n",
            "1250/1250 [==============================] - 31s 25ms/step - loss: 0.5649 - accuracy: 0.7996 - val_loss: 0.6390 - val_accuracy: 0.7813\n",
            "Epoch 20/20\n",
            "1250/1250 [==============================] - 31s 25ms/step - loss: 0.5384 - accuracy: 0.8082 - val_loss: 0.6329 - val_accuracy: 0.7858\n"
          ]
        }
      ]
    },
    {
      "cell_type": "code",
      "source": [
        "metrics_list_cifar = metrics_list_cifar + [['2 concat', '1_part_2 model3', round(model_stek5.evaluate([x_test, x_test], y_test, verbose = 0)[1], 3)]]"
      ],
      "metadata": {
        "id": "vhDfsCVNkxGq"
      },
      "execution_count": 37,
      "outputs": []
    },
    {
      "cell_type": "code",
      "source": [
        "metrics_list_cifar"
      ],
      "metadata": {
        "colab": {
          "base_uri": "https://localhost:8080/"
        },
        "id": "KKdsU7sNk38V",
        "outputId": "7b01e942-f6f2-442a-f113-8bd704a25555"
      },
      "execution_count": 38,
      "outputs": [
        {
          "output_type": "execute_result",
          "data": {
            "text/plain": [
              "[['3 concat', '_', 0.372],\n",
              " ['3 concat', '_', 0.352],\n",
              " ['4 concat', '_', 0.48],\n",
              " ['4 concat', '128-256', 0.547],\n",
              " ['4 concat', '1_part_model', 0.641],\n",
              " ['2 concat', '1_part_2 model3_reverse', 0.564],\n",
              " ['2 concat', '1_part_2 model3', 0.78]]"
            ]
          },
          "metadata": {},
          "execution_count": 38
        }
      ]
    },
    {
      "cell_type": "markdown",
      "source": [
        "точность немного улучшилась. Но лучше результат получился у многослойной последовательной модели 5 в первой части - точность 0,80. то есть в данном случае две параллельные модели дали чуже точность, чем одна"
      ],
      "metadata": {
        "id": "CEi1TqBBk-NQ"
      }
    }
  ],
  "metadata": {
    "accelerator": "GPU",
    "colab": {
      "collapsed_sections": [],
      "name": "HW_04_part2.ipynb\"",
      "provenance": [],
      "machine_shape": "hm",
      "include_colab_link": true
    },
    "kernelspec": {
      "display_name": "Python 3",
      "name": "python3"
    },
    "language_info": {
      "codemirror_mode": {
        "name": "ipython",
        "version": 3
      },
      "file_extension": ".py",
      "mimetype": "text/x-python",
      "name": "python",
      "nbconvert_exporter": "python",
      "pygments_lexer": "ipython3",
      "version": "3.7.3"
    }
  },
  "nbformat": 4,
  "nbformat_minor": 0
}