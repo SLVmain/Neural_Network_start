{
  "cells": [
    {
      "cell_type": "markdown",
      "metadata": {
        "id": "view-in-github",
        "colab_type": "text"
      },
      "source": [
        "<a href=\"https://colab.research.google.com/github/SLVmain/Neural_Network_start/blob/Les_04/HW_04.ipynb\" target=\"_parent\"><img src=\"https://colab.research.google.com/assets/colab-badge.svg\" alt=\"Open In Colab\"/></a>"
      ]
    },
    {
      "cell_type": "markdown",
      "metadata": {
        "id": "GJqW1sHnm591"
      },
      "source": [
        "# Введение в искусственные нейронные сети\n",
        "# Урок 4. Сверточные нейронные сети\n",
        "\n",
        "# часть 1"
      ]
    },
    {
      "cell_type": "markdown",
      "metadata": {
        "id": "PHqn01Vpm5-c"
      },
      "source": [
        "## Практическое задание\n",
        "\n",
        "Вариант 1. (простой)\n",
        "\n",
        "- обучить сверточную нейронную сеть в стиле AlexNet (с падением размера ядра свертки и последовательностью блоков свертка-пулинг  (conv-pool)-(conv-pool)-...) на датасете fashion-mnist или cifar10\n",
        "- оценить рост точности при увеличении ширины сети (больше ядер)\n",
        "- оценить рост точности при увеличении глубины сети (больше слоев)\n",
        "- (опциционально)сравнить с точностью полносвязной сети для этой выборки\n",
        "    </li>\n",
        "\n",
        "Вариант 2. (сложный)\n",
        "- реализовать нейронную сеть или стек из сверток (Concatenate) на сifar10.\n",
        "- оценить рост точности при увеличении ширины сети (больше ядер), больше нитей.\n",
        "- оценить рост точности при увеличении глубины сети (больше слоев)\n",
        "    </li>\n",
        "</ol>"
      ]
    },
    {
      "cell_type": "code",
      "execution_count": 1,
      "metadata": {
        "id": "0CMCfvAPdJct"
      },
      "outputs": [],
      "source": [
        "import matplotlib.pyplot as plt\n",
        "import numpy as np\n",
        "import tensorflow as tf\n",
        "from __future__ import print_function\n",
        "import tensorflow.keras as keras\n",
        "from tensorflow.keras.datasets import cifar10\n",
        "from tensorflow.keras.preprocessing.image import ImageDataGenerator\n",
        "from tensorflow.keras.models import Sequential, Model\n",
        "from tensorflow.keras.layers import Dense, Dropout, Activation, Flatten, Concatenate\n",
        "from tensorflow.keras.layers import Conv2D, MaxPooling2D, Input, GlobalMaxPooling2D, AveragePooling2D, GlobalAveragePooling2D\n",
        "from tensorflow.keras.optimizers import Adam\n",
        "import os\n",
        "from tensorflow.keras import utils\n",
        "from tensorflow.keras.utils import to_categorical, plot_model \n",
        "import random"
      ]
    },
    {
      "cell_type": "code",
      "source": [
        "metrics_list = []"
      ],
      "metadata": {
        "id": "xigIp6ZLJ4A_"
      },
      "execution_count": 2,
      "outputs": []
    },
    {
      "cell_type": "code",
      "source": [
        "def plot_accuracy(history):\n",
        "  plt.plot(history.history['accuracy'], label='accuracy')\n",
        "  plt.plot(history.history['val_accuracy'], label='val_accuracy')\n",
        "  #plt.ylim([0, 10])\n",
        "  plt.xlabel('Epoch')\n",
        "  plt.ylabel('accuracy')\n",
        "  plt.legend()\n",
        "  plt.grid(True)\n",
        "  plt.show()"
      ],
      "metadata": {
        "id": "tmxsyYMvK90m"
      },
      "execution_count": 3,
      "outputs": []
    },
    {
      "cell_type": "code",
      "source": [
        "from tensorflow.keras.datasets import mnist\n",
        "\n",
        "(x_train, y_train), (x_test, y_test) = mnist.load_data()\n",
        "\n",
        "x_train = x_train.astype('float32')\n",
        "x_test = x_test.astype('float32')\n",
        "x_train /= 255 \n",
        "x_test /= 255 \n",
        "\n",
        "y_train = to_categorical(y_train, 10) \n",
        "y_test = to_categorical(y_test, 10) \n",
        "\n",
        "# изменение размерности массива в 4D массив\n",
        "x_train = x_train.reshape(x_train.shape[0], 28,28,1)\n",
        "x_test = x_test.reshape(x_test.shape[0], 28,28,1)"
      ],
      "metadata": {
        "colab": {
          "base_uri": "https://localhost:8080/"
        },
        "id": "lsm9_g_zHC7b",
        "outputId": "82f6176f-c02f-42e8-db1c-83b23a464e67"
      },
      "execution_count": 4,
      "outputs": [
        {
          "output_type": "stream",
          "name": "stdout",
          "text": [
            "Downloading data from https://storage.googleapis.com/tensorflow/tf-keras-datasets/mnist.npz\n",
            "11493376/11490434 [==============================] - 0s 0us/step\n",
            "11501568/11490434 [==============================] - 0s 0us/step\n"
          ]
        }
      ]
    },
    {
      "cell_type": "code",
      "source": [
        "# построим простую сеть и потестируем количество ядер\n",
        "#  используем mnist, так как на нем быстрее)\n",
        "\n",
        "N = [256, 128, 64, 32] # Кол-во ядер\n",
        "for i in N:\n",
        "  model1 = Sequential()\n",
        "        \n",
        "  model1.add(Conv2D(i, 3, padding='same', input_shape=(28,28,1), activation='relu'))\n",
        "  model1.add(Conv2D(i, 3, padding='same', activation='relu'))\n",
        "  model1.add(MaxPooling2D())\n",
        "\n",
        "  model1.add(Flatten())\n",
        "\n",
        "  model1.add(Dense(1024, activation='relu'))\n",
        "  model1.add(Dense(512, activation='relu'))\n",
        "  model1.add(Dense(10, activation='softmax'))\n",
        "\n",
        "  model1.compile(loss='categorical_crossentropy', optimizer='Adam', metrics=['accuracy'])\n",
        "  model1.fit(x_train, y_train, batch_size=128,  epochs=5, validation_data=(x_test, y_test), verbose=1)\n",
        "  metrics_list = metrics_list + [['Conv2D - 2','pooling - 1', i, 'drop - No', round(model1.evaluate(x_test, y_test, verbose = 0)[1], 3)]]\n",
        "\n"
      ],
      "metadata": {
        "colab": {
          "base_uri": "https://localhost:8080/"
        },
        "id": "J52wEftnMCaG",
        "outputId": "0c5578cf-4758-471d-8409-e19e2f6b9ff7"
      },
      "execution_count": 5,
      "outputs": [
        {
          "output_type": "stream",
          "name": "stdout",
          "text": [
            "Epoch 1/5\n",
            "469/469 [==============================] - 26s 37ms/step - loss: 0.1098 - accuracy: 0.9648 - val_loss: 0.0463 - val_accuracy: 0.9863\n",
            "Epoch 2/5\n",
            "469/469 [==============================] - 17s 35ms/step - loss: 0.0354 - accuracy: 0.9891 - val_loss: 0.0331 - val_accuracy: 0.9894\n",
            "Epoch 3/5\n",
            "469/469 [==============================] - 16s 35ms/step - loss: 0.0186 - accuracy: 0.9940 - val_loss: 0.0493 - val_accuracy: 0.9867\n",
            "Epoch 4/5\n",
            "469/469 [==============================] - 16s 35ms/step - loss: 0.0148 - accuracy: 0.9952 - val_loss: 0.0442 - val_accuracy: 0.9876\n",
            "Epoch 5/5\n",
            "469/469 [==============================] - 16s 35ms/step - loss: 0.0102 - accuracy: 0.9967 - val_loss: 0.0462 - val_accuracy: 0.9878\n",
            "Epoch 1/5\n",
            "469/469 [==============================] - 9s 17ms/step - loss: 0.1166 - accuracy: 0.9635 - val_loss: 0.0447 - val_accuracy: 0.9855\n",
            "Epoch 2/5\n",
            "469/469 [==============================] - 8s 16ms/step - loss: 0.0337 - accuracy: 0.9896 - val_loss: 0.0402 - val_accuracy: 0.9869\n",
            "Epoch 3/5\n",
            "469/469 [==============================] - 8s 16ms/step - loss: 0.0191 - accuracy: 0.9941 - val_loss: 0.0404 - val_accuracy: 0.9872\n",
            "Epoch 4/5\n",
            "469/469 [==============================] - 8s 16ms/step - loss: 0.0145 - accuracy: 0.9955 - val_loss: 0.0434 - val_accuracy: 0.9872\n",
            "Epoch 5/5\n",
            "469/469 [==============================] - 8s 16ms/step - loss: 0.0114 - accuracy: 0.9964 - val_loss: 0.0413 - val_accuracy: 0.9892\n",
            "Epoch 1/5\n",
            "469/469 [==============================] - 5s 10ms/step - loss: 0.1222 - accuracy: 0.9617 - val_loss: 0.0498 - val_accuracy: 0.9828\n",
            "Epoch 2/5\n",
            "469/469 [==============================] - 4s 9ms/step - loss: 0.0349 - accuracy: 0.9895 - val_loss: 0.0330 - val_accuracy: 0.9901\n",
            "Epoch 3/5\n",
            "469/469 [==============================] - 4s 9ms/step - loss: 0.0209 - accuracy: 0.9934 - val_loss: 0.0361 - val_accuracy: 0.9900\n",
            "Epoch 4/5\n",
            "469/469 [==============================] - 4s 9ms/step - loss: 0.0146 - accuracy: 0.9956 - val_loss: 0.0397 - val_accuracy: 0.9893\n",
            "Epoch 5/5\n",
            "469/469 [==============================] - 4s 9ms/step - loss: 0.0104 - accuracy: 0.9964 - val_loss: 0.0399 - val_accuracy: 0.9907\n",
            "Epoch 1/5\n",
            "469/469 [==============================] - 3s 6ms/step - loss: 0.1345 - accuracy: 0.9581 - val_loss: 0.0424 - val_accuracy: 0.9859\n",
            "Epoch 2/5\n",
            "469/469 [==============================] - 3s 6ms/step - loss: 0.0363 - accuracy: 0.9891 - val_loss: 0.0345 - val_accuracy: 0.9879\n",
            "Epoch 3/5\n",
            "469/469 [==============================] - 3s 6ms/step - loss: 0.0217 - accuracy: 0.9934 - val_loss: 0.0378 - val_accuracy: 0.9883\n",
            "Epoch 4/5\n",
            "469/469 [==============================] - 3s 6ms/step - loss: 0.0155 - accuracy: 0.9951 - val_loss: 0.0477 - val_accuracy: 0.9869\n",
            "Epoch 5/5\n",
            "469/469 [==============================] - 3s 6ms/step - loss: 0.0125 - accuracy: 0.9959 - val_loss: 0.0554 - val_accuracy: 0.9854\n"
          ]
        }
      ]
    },
    {
      "cell_type": "code",
      "source": [
        "#добавим слоев\n",
        "model = Sequential()\n",
        "       \n",
        "model.add(Conv2D(256, 3, padding='same', input_shape=(28,28,1), activation='relu'))\n",
        "model.add(Conv2D(256, 3, padding='same', activation='relu'))\n",
        "model.add(MaxPooling2D())\n",
        "    \n",
        "model.add(Conv2D(128, 3, padding='same', activation='relu'))\n",
        "model.add(Conv2D(128, 3, padding='same', activation='relu'))\n",
        "model.add(MaxPooling2D())\n",
        "    \n",
        "model.add(Conv2D(64, 3, padding='same', activation='relu'))\n",
        "model.add(Conv2D(64, 3, padding='same', activation='relu'))\n",
        "    \n",
        "model.add(Conv2D(32, 3, padding='same', activation='relu'))\n",
        "model.add(Conv2D(32, 3, padding='same', activation='relu'))\n",
        "\n",
        "model.add(Flatten())\n",
        "\n",
        "model.add(Dense(1024, activation='relu'))\n",
        "model.add(Dense(512, activation='relu'))\n",
        "model.add(Dense(10, activation='softmax'))"
      ],
      "metadata": {
        "id": "CCuRXQALHuF5"
      },
      "execution_count": 9,
      "outputs": []
    },
    {
      "cell_type": "code",
      "source": [
        "model.compile(loss='categorical_crossentropy', optimizer='Adam', metrics=['accuracy'])"
      ],
      "metadata": {
        "id": "cYFVyOiVHu3W"
      },
      "execution_count": 10,
      "outputs": []
    },
    {
      "cell_type": "code",
      "source": [
        "history = model.fit(x_train, y_train, batch_size=128,  epochs=10, validation_data=(x_test, y_test), verbose=1)"
      ],
      "metadata": {
        "colab": {
          "base_uri": "https://localhost:8080/"
        },
        "id": "mHkSOYdEIncv",
        "outputId": "f8ce2f25-1877-44c4-f48b-b433185014d3"
      },
      "execution_count": 11,
      "outputs": [
        {
          "output_type": "stream",
          "name": "stdout",
          "text": [
            "Epoch 1/10\n",
            "469/469 [==============================] - 16s 33ms/step - loss: 0.1730 - accuracy: 0.9457 - val_loss: 0.0432 - val_accuracy: 0.9864\n",
            "Epoch 2/10\n",
            "469/469 [==============================] - 15s 33ms/step - loss: 0.0490 - accuracy: 0.9854 - val_loss: 0.0442 - val_accuracy: 0.9872\n",
            "Epoch 3/10\n",
            "469/469 [==============================] - 15s 33ms/step - loss: 0.0356 - accuracy: 0.9894 - val_loss: 0.0388 - val_accuracy: 0.9879\n",
            "Epoch 4/10\n",
            "469/469 [==============================] - 15s 33ms/step - loss: 0.0283 - accuracy: 0.9912 - val_loss: 0.0665 - val_accuracy: 0.9804\n",
            "Epoch 5/10\n",
            "469/469 [==============================] - 15s 33ms/step - loss: 0.0261 - accuracy: 0.9921 - val_loss: 0.0227 - val_accuracy: 0.9932\n",
            "Epoch 6/10\n",
            "469/469 [==============================] - 15s 33ms/step - loss: 0.0215 - accuracy: 0.9936 - val_loss: 0.0293 - val_accuracy: 0.9926\n",
            "Epoch 7/10\n",
            "469/469 [==============================] - 15s 33ms/step - loss: 0.0208 - accuracy: 0.9941 - val_loss: 0.0277 - val_accuracy: 0.9915\n",
            "Epoch 8/10\n",
            "469/469 [==============================] - 15s 33ms/step - loss: 0.0150 - accuracy: 0.9957 - val_loss: 0.0430 - val_accuracy: 0.9880\n",
            "Epoch 9/10\n",
            "469/469 [==============================] - 15s 33ms/step - loss: 0.0202 - accuracy: 0.9939 - val_loss: 0.0255 - val_accuracy: 0.9929\n",
            "Epoch 10/10\n",
            "469/469 [==============================] - 15s 33ms/step - loss: 0.0132 - accuracy: 0.9960 - val_loss: 0.0267 - val_accuracy: 0.9923\n"
          ]
        }
      ]
    },
    {
      "cell_type": "code",
      "source": [
        "plot_accuracy(history)"
      ],
      "metadata": {
        "colab": {
          "base_uri": "https://localhost:8080/",
          "height": 279
        },
        "id": "XazL6eNoKwO8",
        "outputId": "b8f4c9cd-0f89-4ebb-e8ae-8a301a25c688"
      },
      "execution_count": 12,
      "outputs": [
        {
          "output_type": "display_data",
          "data": {
            "image/png": "[encoded data removed]",
            "text/plain": [
              "<Figure size 432x288 with 1 Axes>"
            ]
          },
          "metadata": {
            "needs_background": "light"
          }
        }
      ]
    },
    {
      "cell_type": "code",
      "source": [
        "metrics_list = metrics_list + [['Conv2D - 8','pooling - 2', '256-128-64-32', 'drop - No', round(model.evaluate(x_test, y_test, verbose = 0)[1], 3)]]"
      ],
      "metadata": {
        "id": "xxDPBGMxJyE8"
      },
      "execution_count": 13,
      "outputs": []
    },
    {
      "cell_type": "code",
      "source": [
        "metrics_list"
      ],
      "metadata": {
        "colab": {
          "base_uri": "https://localhost:8080/"
        },
        "id": "ZQb4A_pLPYUq",
        "outputId": "8ac69528-a4b6-4907-824f-bd9766a1783f"
      },
      "execution_count": 14,
      "outputs": [
        {
          "output_type": "execute_result",
          "data": {
            "text/plain": [
              "[['Conv2D - 2', 'pooling - 1', 256, 'drop - No', 0.988],\n",
              " ['Conv2D - 2', 'pooling - 1', 128, 'drop - No', 0.989],\n",
              " ['Conv2D - 2', 'pooling - 1', 64, 'drop - No', 0.991],\n",
              " ['Conv2D - 2', 'pooling - 1', 32, 'drop - No', 0.985],\n",
              " ['Conv2D - 8', 'pooling - 2', '256-128-64-32', 'drop - No', 0.992]]"
            ]
          },
          "metadata": {},
          "execution_count": 14
        }
      ]
    },
    {
      "cell_type": "markdown",
      "source": [
        "С увеличением количества ядер и слоев точность увеличивается, но на mnist и простая сеть дает точность 99 процентов.\n",
        "\n",
        "Дальше возьмем cifar10"
      ],
      "metadata": {
        "id": "5AaGLTVBPvP4"
      }
    },
    {
      "cell_type": "code",
      "execution_count": 15,
      "metadata": {
        "id": "kiRCJY0WdGph",
        "colab": {
          "base_uri": "https://localhost:8080/"
        },
        "outputId": "2449632f-c56f-49f8-c2dd-9d2a0888cbaf"
      },
      "outputs": [
        {
          "output_type": "stream",
          "name": "stdout",
          "text": [
            "Downloading data from https://www.cs.toronto.edu/~kriz/cifar-10-python.tar.gz\n",
            "170500096/170498071 [==============================] - 3s 0us/step\n",
            "170508288/170498071 [==============================] - 3s 0us/step\n"
          ]
        }
      ],
      "source": [
        "(x_train, y_train), (x_test, y_test) = cifar10.load_data()\n",
        "\n",
        "classes = ['самолет', 'автомобиль', 'птица', 'кот', 'олень', 'собака', 'лягушка', 'лошадь', 'корабль', 'грузовик']\n",
        "\n",
        "x_train = x_train.astype('float32')\n",
        "x_test = x_test.astype('float32')\n",
        "x_train /= 255\n",
        "x_test /= 255\n",
        "\n",
        "y_train = utils.to_categorical(y_train, 10)\n",
        "y_test = utils.to_categorical(y_test, 10)"
      ]
    },
    {
      "cell_type": "code",
      "execution_count": 16,
      "metadata": {
        "colab": {
          "base_uri": "https://localhost:8080/"
        },
        "id": "TmYVZwZFE35W",
        "outputId": "bdc86ff2-b275-42ac-9daa-9f46a884e0d3"
      },
      "outputs": [
        {
          "output_type": "stream",
          "name": "stdout",
          "text": [
            "x_train shape: (50000, 32, 32, 3)\n",
            "50000 тренировочные примеры\n",
            "10000 тестовые примеры\n"
          ]
        },
        {
          "output_type": "execute_result",
          "data": {
            "text/plain": [
              "array([0., 0., 0., 0., 0., 0., 1., 0., 0., 0.], dtype=float32)"
            ]
          },
          "metadata": {},
          "execution_count": 16
        }
      ],
      "source": [
        "print('x_train shape:', x_train.shape)\n",
        "print(x_train.shape[0], 'тренировочные примеры')\n",
        "print(x_test.shape[0], 'тестовые примеры')\n",
        "y_train[0]"
      ]
    },
    {
      "cell_type": "code",
      "execution_count": 17,
      "metadata": {
        "colab": {
          "base_uri": "https://localhost:8080/"
        },
        "id": "Pky1A7ntD_Ew",
        "outputId": "aa9c8566-c9d5-45de-98c8-ba923061d972"
      },
      "outputs": [
        {
          "output_type": "stream",
          "name": "stdout",
          "text": [
            "Epoch 1/20\n",
            "391/391 [==============================] - 19s 46ms/step - loss: 1.4675 - accuracy: 0.4869 - val_loss: 1.1509 - val_accuracy: 0.5886\n",
            "Epoch 2/20\n",
            "391/391 [==============================] - 17s 43ms/step - loss: 0.9680 - accuracy: 0.6600 - val_loss: 0.9593 - val_accuracy: 0.6621\n",
            "Epoch 3/20\n",
            "391/391 [==============================] - 17s 43ms/step - loss: 0.7583 - accuracy: 0.7345 - val_loss: 0.9132 - val_accuracy: 0.6869\n",
            "Epoch 4/20\n",
            "391/391 [==============================] - 17s 44ms/step - loss: 0.5560 - accuracy: 0.8076 - val_loss: 0.9420 - val_accuracy: 0.6955\n",
            "Epoch 5/20\n",
            "391/391 [==============================] - 17s 43ms/step - loss: 0.3537 - accuracy: 0.8810 - val_loss: 1.0199 - val_accuracy: 0.6973\n",
            "Epoch 6/20\n",
            "391/391 [==============================] - 17s 43ms/step - loss: 0.1809 - accuracy: 0.9408 - val_loss: 1.2223 - val_accuracy: 0.6838\n",
            "Epoch 7/20\n",
            "391/391 [==============================] - 17s 43ms/step - loss: 0.0933 - accuracy: 0.9701 - val_loss: 1.4866 - val_accuracy: 0.6920\n",
            "Epoch 8/20\n",
            "391/391 [==============================] - 17s 43ms/step - loss: 0.0562 - accuracy: 0.9827 - val_loss: 1.6834 - val_accuracy: 0.6814\n",
            "Epoch 9/20\n",
            "391/391 [==============================] - 17s 43ms/step - loss: 0.0582 - accuracy: 0.9815 - val_loss: 1.7561 - val_accuracy: 0.6862\n",
            "Epoch 10/20\n",
            "391/391 [==============================] - 17s 43ms/step - loss: 0.0521 - accuracy: 0.9832 - val_loss: 1.8781 - val_accuracy: 0.6739\n",
            "Epoch 11/20\n",
            "391/391 [==============================] - 17s 43ms/step - loss: 0.0502 - accuracy: 0.9830 - val_loss: 1.9567 - val_accuracy: 0.6799\n",
            "Epoch 12/20\n",
            "391/391 [==============================] - 17s 43ms/step - loss: 0.0382 - accuracy: 0.9870 - val_loss: 2.0810 - val_accuracy: 0.6790\n",
            "Epoch 13/20\n",
            "391/391 [==============================] - 17s 43ms/step - loss: 0.0493 - accuracy: 0.9832 - val_loss: 2.0074 - val_accuracy: 0.6763\n",
            "Epoch 14/20\n",
            "391/391 [==============================] - 17s 43ms/step - loss: 0.0344 - accuracy: 0.9890 - val_loss: 2.2094 - val_accuracy: 0.6940\n",
            "Epoch 15/20\n",
            "391/391 [==============================] - 17s 43ms/step - loss: 0.0371 - accuracy: 0.9880 - val_loss: 2.2762 - val_accuracy: 0.6867\n",
            "Epoch 16/20\n",
            "391/391 [==============================] - 17s 44ms/step - loss: 0.0312 - accuracy: 0.9900 - val_loss: 2.3919 - val_accuracy: 0.6781\n",
            "Epoch 17/20\n",
            "391/391 [==============================] - 17s 43ms/step - loss: 0.0334 - accuracy: 0.9890 - val_loss: 2.4603 - val_accuracy: 0.6728\n",
            "Epoch 18/20\n",
            "391/391 [==============================] - 17s 43ms/step - loss: 0.0366 - accuracy: 0.9874 - val_loss: 2.4562 - val_accuracy: 0.6763\n",
            "Epoch 19/20\n",
            "391/391 [==============================] - 17s 43ms/step - loss: 0.0334 - accuracy: 0.9895 - val_loss: 2.4500 - val_accuracy: 0.6777\n",
            "Epoch 20/20\n",
            "391/391 [==============================] - 17s 43ms/step - loss: 0.0288 - accuracy: 0.9909 - val_loss: 2.6393 - val_accuracy: 0.6741\n",
            "Epoch 1/20\n",
            "391/391 [==============================] - 9s 21ms/step - loss: 1.4308 - accuracy: 0.4929 - val_loss: 1.1919 - val_accuracy: 0.5666\n",
            "Epoch 2/20\n",
            "391/391 [==============================] - 8s 20ms/step - loss: 0.9876 - accuracy: 0.6532 - val_loss: 1.0181 - val_accuracy: 0.6432\n",
            "Epoch 3/20\n",
            "391/391 [==============================] - 8s 20ms/step - loss: 0.7662 - accuracy: 0.7311 - val_loss: 0.8915 - val_accuracy: 0.6900\n",
            "Epoch 4/20\n",
            "391/391 [==============================] - 8s 20ms/step - loss: 0.5509 - accuracy: 0.8092 - val_loss: 0.9310 - val_accuracy: 0.6928\n",
            "Epoch 5/20\n",
            "391/391 [==============================] - 8s 20ms/step - loss: 0.3367 - accuracy: 0.8863 - val_loss: 1.0357 - val_accuracy: 0.6910\n",
            "Epoch 6/20\n",
            "391/391 [==============================] - 8s 20ms/step - loss: 0.1666 - accuracy: 0.9460 - val_loss: 1.2464 - val_accuracy: 0.6854\n",
            "Epoch 7/20\n",
            "391/391 [==============================] - 8s 20ms/step - loss: 0.0860 - accuracy: 0.9732 - val_loss: 1.4878 - val_accuracy: 0.6804\n",
            "Epoch 8/20\n",
            "391/391 [==============================] - 8s 20ms/step - loss: 0.0617 - accuracy: 0.9813 - val_loss: 1.5973 - val_accuracy: 0.6830\n",
            "Epoch 9/20\n",
            "391/391 [==============================] - 8s 20ms/step - loss: 0.0525 - accuracy: 0.9831 - val_loss: 1.7105 - val_accuracy: 0.6841\n",
            "Epoch 10/20\n",
            "391/391 [==============================] - 8s 20ms/step - loss: 0.0467 - accuracy: 0.9854 - val_loss: 1.8973 - val_accuracy: 0.6701\n",
            "Epoch 11/20\n",
            "391/391 [==============================] - 8s 20ms/step - loss: 0.0387 - accuracy: 0.9878 - val_loss: 1.9756 - val_accuracy: 0.6856\n",
            "Epoch 12/20\n",
            "391/391 [==============================] - 8s 20ms/step - loss: 0.0490 - accuracy: 0.9838 - val_loss: 2.1611 - val_accuracy: 0.6726\n",
            "Epoch 13/20\n",
            "391/391 [==============================] - 8s 20ms/step - loss: 0.0375 - accuracy: 0.9876 - val_loss: 2.2963 - val_accuracy: 0.6688\n",
            "Epoch 14/20\n",
            "391/391 [==============================] - 8s 20ms/step - loss: 0.0394 - accuracy: 0.9871 - val_loss: 2.1451 - val_accuracy: 0.6862\n",
            "Epoch 15/20\n",
            "391/391 [==============================] - 8s 20ms/step - loss: 0.0398 - accuracy: 0.9869 - val_loss: 2.2427 - val_accuracy: 0.6776\n",
            "Epoch 16/20\n",
            "391/391 [==============================] - 8s 20ms/step - loss: 0.0328 - accuracy: 0.9893 - val_loss: 2.2311 - val_accuracy: 0.6827\n",
            "Epoch 17/20\n",
            "391/391 [==============================] - 8s 20ms/step - loss: 0.0212 - accuracy: 0.9934 - val_loss: 2.5523 - val_accuracy: 0.6791\n",
            "Epoch 18/20\n",
            "391/391 [==============================] - 8s 20ms/step - loss: 0.0251 - accuracy: 0.9911 - val_loss: 2.5210 - val_accuracy: 0.6846\n",
            "Epoch 19/20\n",
            "391/391 [==============================] - 8s 20ms/step - loss: 0.0408 - accuracy: 0.9869 - val_loss: 2.5081 - val_accuracy: 0.6775\n",
            "Epoch 20/20\n",
            "391/391 [==============================] - 8s 20ms/step - loss: 0.0318 - accuracy: 0.9896 - val_loss: 2.5545 - val_accuracy: 0.6782\n",
            "Epoch 1/20\n",
            "391/391 [==============================] - 5s 12ms/step - loss: 1.4008 - accuracy: 0.5051 - val_loss: 1.1214 - val_accuracy: 0.6026\n",
            "Epoch 2/20\n",
            "391/391 [==============================] - 4s 11ms/step - loss: 0.9514 - accuracy: 0.6650 - val_loss: 0.9373 - val_accuracy: 0.6721\n",
            "Epoch 3/20\n",
            "391/391 [==============================] - 4s 11ms/step - loss: 0.7440 - accuracy: 0.7409 - val_loss: 0.9060 - val_accuracy: 0.6917\n",
            "Epoch 4/20\n",
            "391/391 [==============================] - 4s 11ms/step - loss: 0.5336 - accuracy: 0.8158 - val_loss: 0.9171 - val_accuracy: 0.6970\n",
            "Epoch 5/20\n",
            "391/391 [==============================] - 4s 11ms/step - loss: 0.3309 - accuracy: 0.8893 - val_loss: 0.9963 - val_accuracy: 0.6999\n",
            "Epoch 6/20\n",
            "391/391 [==============================] - 4s 11ms/step - loss: 0.1546 - accuracy: 0.9532 - val_loss: 1.2323 - val_accuracy: 0.6982\n",
            "Epoch 7/20\n",
            "391/391 [==============================] - 4s 11ms/step - loss: 0.0769 - accuracy: 0.9776 - val_loss: 1.3530 - val_accuracy: 0.6959\n",
            "Epoch 8/20\n",
            "391/391 [==============================] - 4s 11ms/step - loss: 0.0544 - accuracy: 0.9842 - val_loss: 1.5428 - val_accuracy: 0.6847\n",
            "Epoch 9/20\n",
            "391/391 [==============================] - 4s 11ms/step - loss: 0.0374 - accuracy: 0.9894 - val_loss: 1.6816 - val_accuracy: 0.6991\n",
            "Epoch 10/20\n",
            "391/391 [==============================] - 4s 11ms/step - loss: 0.0280 - accuracy: 0.9918 - val_loss: 1.8775 - val_accuracy: 0.6911\n",
            "Epoch 11/20\n",
            "391/391 [==============================] - 4s 11ms/step - loss: 0.0544 - accuracy: 0.9822 - val_loss: 1.8079 - val_accuracy: 0.6798\n",
            "Epoch 12/20\n",
            "391/391 [==============================] - 4s 11ms/step - loss: 0.0427 - accuracy: 0.9866 - val_loss: 1.8727 - val_accuracy: 0.6897\n",
            "Epoch 13/20\n",
            "391/391 [==============================] - 4s 11ms/step - loss: 0.0322 - accuracy: 0.9899 - val_loss: 1.9738 - val_accuracy: 0.6932\n",
            "Epoch 14/20\n",
            "391/391 [==============================] - 4s 11ms/step - loss: 0.0314 - accuracy: 0.9899 - val_loss: 2.0245 - val_accuracy: 0.6981\n",
            "Epoch 15/20\n",
            "391/391 [==============================] - 4s 11ms/step - loss: 0.0277 - accuracy: 0.9908 - val_loss: 2.2735 - val_accuracy: 0.6779\n",
            "Epoch 16/20\n",
            "391/391 [==============================] - 4s 11ms/step - loss: 0.0298 - accuracy: 0.9905 - val_loss: 2.1608 - val_accuracy: 0.6880\n",
            "Epoch 17/20\n",
            "391/391 [==============================] - 4s 11ms/step - loss: 0.0230 - accuracy: 0.9929 - val_loss: 2.2806 - val_accuracy: 0.6890\n",
            "Epoch 18/20\n",
            "391/391 [==============================] - 4s 11ms/step - loss: 0.0258 - accuracy: 0.9919 - val_loss: 2.2844 - val_accuracy: 0.6817\n",
            "Epoch 19/20\n",
            "391/391 [==============================] - 4s 11ms/step - loss: 0.0245 - accuracy: 0.9923 - val_loss: 2.5812 - val_accuracy: 0.6833\n",
            "Epoch 20/20\n",
            "391/391 [==============================] - 4s 11ms/step - loss: 0.0256 - accuracy: 0.9916 - val_loss: 2.5941 - val_accuracy: 0.6886\n",
            "Epoch 1/20\n",
            "391/391 [==============================] - 3s 8ms/step - loss: 1.4634 - accuracy: 0.4775 - val_loss: 1.1741 - val_accuracy: 0.5736\n",
            "Epoch 2/20\n",
            "391/391 [==============================] - 3s 7ms/step - loss: 1.0480 - accuracy: 0.6279 - val_loss: 1.0161 - val_accuracy: 0.6335\n",
            "Epoch 3/20\n",
            "391/391 [==============================] - 3s 7ms/step - loss: 0.8707 - accuracy: 0.6936 - val_loss: 0.9711 - val_accuracy: 0.6586\n",
            "Epoch 4/20\n",
            "391/391 [==============================] - 3s 7ms/step - loss: 0.7125 - accuracy: 0.7522 - val_loss: 0.9223 - val_accuracy: 0.6783\n",
            "Epoch 5/20\n",
            "391/391 [==============================] - 3s 7ms/step - loss: 0.5487 - accuracy: 0.8094 - val_loss: 0.9324 - val_accuracy: 0.6880\n",
            "Epoch 6/20\n",
            "391/391 [==============================] - 3s 7ms/step - loss: 0.3791 - accuracy: 0.8704 - val_loss: 1.0465 - val_accuracy: 0.6810\n",
            "Epoch 7/20\n",
            "391/391 [==============================] - 3s 7ms/step - loss: 0.2250 - accuracy: 0.9286 - val_loss: 1.1871 - val_accuracy: 0.6873\n",
            "Epoch 8/20\n",
            "391/391 [==============================] - 3s 7ms/step - loss: 0.1184 - accuracy: 0.9649 - val_loss: 1.3882 - val_accuracy: 0.6834\n",
            "Epoch 9/20\n",
            "391/391 [==============================] - 3s 7ms/step - loss: 0.0700 - accuracy: 0.9805 - val_loss: 1.5467 - val_accuracy: 0.6850\n",
            "Epoch 10/20\n",
            "391/391 [==============================] - 3s 7ms/step - loss: 0.0435 - accuracy: 0.9880 - val_loss: 1.6823 - val_accuracy: 0.6793\n",
            "Epoch 11/20\n",
            "391/391 [==============================] - 3s 7ms/step - loss: 0.0378 - accuracy: 0.9895 - val_loss: 1.8582 - val_accuracy: 0.6782\n",
            "Epoch 12/20\n",
            "391/391 [==============================] - 3s 7ms/step - loss: 0.0560 - accuracy: 0.9814 - val_loss: 1.8931 - val_accuracy: 0.6767\n",
            "Epoch 13/20\n",
            "391/391 [==============================] - 3s 7ms/step - loss: 0.0348 - accuracy: 0.9894 - val_loss: 2.0057 - val_accuracy: 0.6729\n",
            "Epoch 14/20\n",
            "391/391 [==============================] - 3s 7ms/step - loss: 0.0349 - accuracy: 0.9893 - val_loss: 2.0709 - val_accuracy: 0.6789\n",
            "Epoch 15/20\n",
            "391/391 [==============================] - 3s 7ms/step - loss: 0.0362 - accuracy: 0.9883 - val_loss: 2.1123 - val_accuracy: 0.6797\n",
            "Epoch 16/20\n",
            "391/391 [==============================] - 3s 7ms/step - loss: 0.0313 - accuracy: 0.9903 - val_loss: 2.1537 - val_accuracy: 0.6667\n",
            "Epoch 17/20\n",
            "391/391 [==============================] - 3s 7ms/step - loss: 0.0273 - accuracy: 0.9911 - val_loss: 2.3032 - val_accuracy: 0.6779\n",
            "Epoch 18/20\n",
            "391/391 [==============================] - 3s 7ms/step - loss: 0.0265 - accuracy: 0.9916 - val_loss: 2.3269 - val_accuracy: 0.6831\n",
            "Epoch 19/20\n",
            "391/391 [==============================] - 3s 7ms/step - loss: 0.0211 - accuracy: 0.9936 - val_loss: 2.5303 - val_accuracy: 0.6772\n",
            "Epoch 20/20\n",
            "391/391 [==============================] - 3s 7ms/step - loss: 0.0266 - accuracy: 0.9910 - val_loss: 2.5623 - val_accuracy: 0.6656\n",
            "Epoch 1/20\n",
            "391/391 [==============================] - 3s 6ms/step - loss: 1.4091 - accuracy: 0.4966 - val_loss: 1.1754 - val_accuracy: 0.5779\n",
            "Epoch 2/20\n",
            "391/391 [==============================] - 2s 6ms/step - loss: 1.0383 - accuracy: 0.6356 - val_loss: 1.0321 - val_accuracy: 0.6376\n",
            "Epoch 3/20\n",
            "391/391 [==============================] - 2s 5ms/step - loss: 0.8626 - accuracy: 0.6996 - val_loss: 0.9632 - val_accuracy: 0.6665\n",
            "Epoch 4/20\n",
            "391/391 [==============================] - 2s 5ms/step - loss: 0.6948 - accuracy: 0.7601 - val_loss: 0.9371 - val_accuracy: 0.6786\n",
            "Epoch 5/20\n",
            "391/391 [==============================] - 2s 5ms/step - loss: 0.5268 - accuracy: 0.8219 - val_loss: 0.9533 - val_accuracy: 0.6824\n",
            "Epoch 6/20\n",
            "391/391 [==============================] - 2s 5ms/step - loss: 0.3621 - accuracy: 0.8807 - val_loss: 1.0159 - val_accuracy: 0.6917\n",
            "Epoch 7/20\n",
            "391/391 [==============================] - 2s 6ms/step - loss: 0.2164 - accuracy: 0.9329 - val_loss: 1.1925 - val_accuracy: 0.6819\n",
            "Epoch 8/20\n",
            "391/391 [==============================] - 2s 5ms/step - loss: 0.1173 - accuracy: 0.9673 - val_loss: 1.3006 - val_accuracy: 0.6846\n",
            "Epoch 9/20\n",
            "391/391 [==============================] - 2s 6ms/step - loss: 0.0672 - accuracy: 0.9828 - val_loss: 1.4606 - val_accuracy: 0.6903\n",
            "Epoch 10/20\n",
            "391/391 [==============================] - 2s 5ms/step - loss: 0.0349 - accuracy: 0.9922 - val_loss: 1.6225 - val_accuracy: 0.6828\n",
            "Epoch 11/20\n",
            "391/391 [==============================] - 2s 5ms/step - loss: 0.0411 - accuracy: 0.9889 - val_loss: 1.7566 - val_accuracy: 0.6845\n",
            "Epoch 12/20\n",
            "391/391 [==============================] - 2s 5ms/step - loss: 0.0512 - accuracy: 0.9844 - val_loss: 1.7681 - val_accuracy: 0.6748\n",
            "Epoch 13/20\n",
            "391/391 [==============================] - 2s 5ms/step - loss: 0.0449 - accuracy: 0.9863 - val_loss: 1.8539 - val_accuracy: 0.6719\n",
            "Epoch 14/20\n",
            "391/391 [==============================] - 2s 5ms/step - loss: 0.0370 - accuracy: 0.9891 - val_loss: 1.9551 - val_accuracy: 0.6798\n",
            "Epoch 15/20\n",
            "391/391 [==============================] - 2s 5ms/step - loss: 0.0239 - accuracy: 0.9929 - val_loss: 2.0232 - val_accuracy: 0.6830\n",
            "Epoch 16/20\n",
            "391/391 [==============================] - 2s 6ms/step - loss: 0.0244 - accuracy: 0.9926 - val_loss: 2.1080 - val_accuracy: 0.6770\n",
            "Epoch 17/20\n",
            "391/391 [==============================] - 2s 6ms/step - loss: 0.0316 - accuracy: 0.9901 - val_loss: 2.1965 - val_accuracy: 0.6706\n",
            "Epoch 18/20\n",
            "391/391 [==============================] - 2s 5ms/step - loss: 0.0258 - accuracy: 0.9922 - val_loss: 2.2178 - val_accuracy: 0.6768\n",
            "Epoch 19/20\n",
            "391/391 [==============================] - 2s 6ms/step - loss: 0.0295 - accuracy: 0.9907 - val_loss: 2.1598 - val_accuracy: 0.6770\n",
            "Epoch 20/20\n",
            "391/391 [==============================] - 2s 6ms/step - loss: 0.0295 - accuracy: 0.9907 - val_loss: 2.2167 - val_accuracy: 0.6700\n",
            "Epoch 1/20\n",
            "391/391 [==============================] - 2s 5ms/step - loss: 1.5182 - accuracy: 0.4592 - val_loss: 1.2574 - val_accuracy: 0.5473\n",
            "Epoch 2/20\n",
            "391/391 [==============================] - 2s 4ms/step - loss: 1.1544 - accuracy: 0.5919 - val_loss: 1.1355 - val_accuracy: 0.6007\n",
            "Epoch 3/20\n",
            "391/391 [==============================] - 2s 5ms/step - loss: 1.0125 - accuracy: 0.6424 - val_loss: 1.0545 - val_accuracy: 0.6291\n",
            "Epoch 4/20\n",
            "391/391 [==============================] - 2s 5ms/step - loss: 0.8888 - accuracy: 0.6881 - val_loss: 1.0083 - val_accuracy: 0.6482\n",
            "Epoch 5/20\n",
            "391/391 [==============================] - 2s 5ms/step - loss: 0.7856 - accuracy: 0.7251 - val_loss: 0.9505 - val_accuracy: 0.6683\n",
            "Epoch 6/20\n",
            "391/391 [==============================] - 2s 5ms/step - loss: 0.6800 - accuracy: 0.7636 - val_loss: 0.9411 - val_accuracy: 0.6779\n",
            "Epoch 7/20\n",
            "391/391 [==============================] - 2s 5ms/step - loss: 0.5717 - accuracy: 0.8041 - val_loss: 0.9493 - val_accuracy: 0.6821\n",
            "Epoch 8/20\n",
            "391/391 [==============================] - 2s 5ms/step - loss: 0.4632 - accuracy: 0.8454 - val_loss: 0.9934 - val_accuracy: 0.6772\n",
            "Epoch 9/20\n",
            "391/391 [==============================] - 2s 5ms/step - loss: 0.3513 - accuracy: 0.8860 - val_loss: 1.0580 - val_accuracy: 0.6818\n",
            "Epoch 10/20\n",
            "391/391 [==============================] - 2s 5ms/step - loss: 0.2564 - accuracy: 0.9200 - val_loss: 1.1333 - val_accuracy: 0.6772\n",
            "Epoch 11/20\n",
            "391/391 [==============================] - 2s 5ms/step - loss: 0.1712 - accuracy: 0.9508 - val_loss: 1.2862 - val_accuracy: 0.6695\n",
            "Epoch 12/20\n",
            "391/391 [==============================] - 2s 5ms/step - loss: 0.1076 - accuracy: 0.9722 - val_loss: 1.4610 - val_accuracy: 0.6764\n",
            "Epoch 13/20\n",
            "391/391 [==============================] - 2s 5ms/step - loss: 0.0673 - accuracy: 0.9850 - val_loss: 1.5924 - val_accuracy: 0.6727\n",
            "Epoch 14/20\n",
            "391/391 [==============================] - 2s 5ms/step - loss: 0.0517 - accuracy: 0.9875 - val_loss: 1.6209 - val_accuracy: 0.6655\n",
            "Epoch 15/20\n",
            "391/391 [==============================] - 2s 5ms/step - loss: 0.0579 - accuracy: 0.9844 - val_loss: 1.7719 - val_accuracy: 0.6668\n",
            "Epoch 16/20\n",
            "391/391 [==============================] - 2s 5ms/step - loss: 0.0297 - accuracy: 0.9936 - val_loss: 1.8600 - val_accuracy: 0.6733\n",
            "Epoch 17/20\n",
            "391/391 [==============================] - 2s 5ms/step - loss: 0.0379 - accuracy: 0.9900 - val_loss: 1.9275 - val_accuracy: 0.6530\n",
            "Epoch 18/20\n",
            "391/391 [==============================] - 2s 5ms/step - loss: 0.0465 - accuracy: 0.9865 - val_loss: 2.0160 - val_accuracy: 0.6691\n",
            "Epoch 19/20\n",
            "391/391 [==============================] - 2s 5ms/step - loss: 0.0315 - accuracy: 0.9914 - val_loss: 2.1290 - val_accuracy: 0.6704\n",
            "Epoch 20/20\n",
            "391/391 [==============================] - 2s 5ms/step - loss: 0.0445 - accuracy: 0.9862 - val_loss: 2.1598 - val_accuracy: 0.6619\n",
            "Epoch 1/20\n",
            "391/391 [==============================] - 2s 5ms/step - loss: 1.8132 - accuracy: 0.3529 - val_loss: 1.6292 - val_accuracy: 0.4159\n",
            "Epoch 2/20\n",
            "391/391 [==============================] - 2s 4ms/step - loss: 1.5566 - accuracy: 0.4532 - val_loss: 1.5062 - val_accuracy: 0.4697\n",
            "Epoch 3/20\n",
            "391/391 [==============================] - 2s 4ms/step - loss: 1.4338 - accuracy: 0.4965 - val_loss: 1.4291 - val_accuracy: 0.4949\n",
            "Epoch 4/20\n",
            "391/391 [==============================] - 2s 4ms/step - loss: 1.3309 - accuracy: 0.5326 - val_loss: 1.4166 - val_accuracy: 0.4949\n",
            "Epoch 5/20\n",
            "391/391 [==============================] - 2s 4ms/step - loss: 1.2436 - accuracy: 0.5664 - val_loss: 1.3928 - val_accuracy: 0.5079\n",
            "Epoch 6/20\n",
            "391/391 [==============================] - 2s 4ms/step - loss: 1.1537 - accuracy: 0.5980 - val_loss: 1.3757 - val_accuracy: 0.5188\n",
            "Epoch 7/20\n",
            "391/391 [==============================] - 2s 4ms/step - loss: 1.0648 - accuracy: 0.6313 - val_loss: 1.3846 - val_accuracy: 0.5216\n",
            "Epoch 8/20\n",
            "391/391 [==============================] - 2s 4ms/step - loss: 0.9745 - accuracy: 0.6638 - val_loss: 1.4116 - val_accuracy: 0.5245\n",
            "Epoch 9/20\n",
            "391/391 [==============================] - 2s 4ms/step - loss: 0.8754 - accuracy: 0.7002 - val_loss: 1.4430 - val_accuracy: 0.5254\n",
            "Epoch 10/20\n",
            "391/391 [==============================] - 2s 4ms/step - loss: 0.7713 - accuracy: 0.7384 - val_loss: 1.4917 - val_accuracy: 0.5188\n",
            "Epoch 11/20\n",
            "391/391 [==============================] - 2s 4ms/step - loss: 0.6776 - accuracy: 0.7690 - val_loss: 1.5608 - val_accuracy: 0.5191\n",
            "Epoch 12/20\n",
            "391/391 [==============================] - 2s 4ms/step - loss: 0.5745 - accuracy: 0.8098 - val_loss: 1.6851 - val_accuracy: 0.5125\n",
            "Epoch 13/20\n",
            "391/391 [==============================] - 2s 4ms/step - loss: 0.4943 - accuracy: 0.8364 - val_loss: 1.8136 - val_accuracy: 0.5110\n",
            "Epoch 14/20\n",
            "391/391 [==============================] - 2s 4ms/step - loss: 0.4073 - accuracy: 0.8686 - val_loss: 1.9420 - val_accuracy: 0.5067\n",
            "Epoch 15/20\n",
            "391/391 [==============================] - 2s 4ms/step - loss: 0.3328 - accuracy: 0.8931 - val_loss: 2.1266 - val_accuracy: 0.5016\n",
            "Epoch 16/20\n",
            "391/391 [==============================] - 2s 4ms/step - loss: 0.2697 - accuracy: 0.9155 - val_loss: 2.2906 - val_accuracy: 0.4992\n",
            "Epoch 17/20\n",
            "391/391 [==============================] - 2s 4ms/step - loss: 0.2210 - accuracy: 0.9322 - val_loss: 2.4724 - val_accuracy: 0.4996\n",
            "Epoch 18/20\n",
            "391/391 [==============================] - 2s 4ms/step - loss: 0.1829 - accuracy: 0.9440 - val_loss: 2.7035 - val_accuracy: 0.4967\n",
            "Epoch 19/20\n",
            "391/391 [==============================] - 2s 4ms/step - loss: 0.1615 - accuracy: 0.9500 - val_loss: 2.8403 - val_accuracy: 0.4925\n",
            "Epoch 20/20\n",
            "391/391 [==============================] - 2s 4ms/step - loss: 0.1391 - accuracy: 0.9573 - val_loss: 3.0428 - val_accuracy: 0.4830\n",
            "Epoch 1/20\n",
            "391/391 [==============================] - 2s 5ms/step - loss: 1.9024 - accuracy: 0.3186 - val_loss: 1.7583 - val_accuracy: 0.3669\n",
            "Epoch 2/20\n",
            "391/391 [==============================] - 2s 4ms/step - loss: 1.6857 - accuracy: 0.4001 - val_loss: 1.6621 - val_accuracy: 0.4050\n",
            "Epoch 3/20\n",
            "391/391 [==============================] - 2s 4ms/step - loss: 1.5639 - accuracy: 0.4456 - val_loss: 1.5850 - val_accuracy: 0.4395\n",
            "Epoch 4/20\n",
            "391/391 [==============================] - 2s 4ms/step - loss: 1.4684 - accuracy: 0.4804 - val_loss: 1.5566 - val_accuracy: 0.4579\n",
            "Epoch 5/20\n",
            "391/391 [==============================] - 2s 4ms/step - loss: 1.3803 - accuracy: 0.5132 - val_loss: 1.5624 - val_accuracy: 0.4478\n",
            "Epoch 6/20\n",
            "391/391 [==============================] - 2s 4ms/step - loss: 1.3028 - accuracy: 0.5447 - val_loss: 1.5690 - val_accuracy: 0.4524\n",
            "Epoch 7/20\n",
            "391/391 [==============================] - 2s 4ms/step - loss: 1.2244 - accuracy: 0.5718 - val_loss: 1.5604 - val_accuracy: 0.4714\n",
            "Epoch 8/20\n",
            "391/391 [==============================] - 2s 4ms/step - loss: 1.1421 - accuracy: 0.5990 - val_loss: 1.5897 - val_accuracy: 0.4604\n",
            "Epoch 9/20\n",
            "391/391 [==============================] - 2s 4ms/step - loss: 1.0555 - accuracy: 0.6317 - val_loss: 1.6121 - val_accuracy: 0.4689\n",
            "Epoch 10/20\n",
            "391/391 [==============================] - 2s 4ms/step - loss: 0.9658 - accuracy: 0.6660 - val_loss: 1.7221 - val_accuracy: 0.4496\n",
            "Epoch 11/20\n",
            "391/391 [==============================] - 2s 4ms/step - loss: 0.8832 - accuracy: 0.6974 - val_loss: 1.7619 - val_accuracy: 0.4528\n",
            "Epoch 12/20\n",
            "391/391 [==============================] - 2s 4ms/step - loss: 0.7977 - accuracy: 0.7264 - val_loss: 1.8773 - val_accuracy: 0.4488\n",
            "Epoch 13/20\n",
            "391/391 [==============================] - 2s 4ms/step - loss: 0.7129 - accuracy: 0.7552 - val_loss: 2.0043 - val_accuracy: 0.4466\n",
            "Epoch 14/20\n",
            "391/391 [==============================] - 2s 4ms/step - loss: 0.6302 - accuracy: 0.7831 - val_loss: 2.1291 - val_accuracy: 0.4450\n",
            "Epoch 15/20\n",
            "391/391 [==============================] - 2s 4ms/step - loss: 0.5582 - accuracy: 0.8094 - val_loss: 2.2650 - val_accuracy: 0.4402\n",
            "Epoch 16/20\n",
            "391/391 [==============================] - 2s 4ms/step - loss: 0.4902 - accuracy: 0.8311 - val_loss: 2.4373 - val_accuracy: 0.4342\n",
            "Epoch 17/20\n",
            "391/391 [==============================] - 2s 4ms/step - loss: 0.4203 - accuracy: 0.8574 - val_loss: 2.6380 - val_accuracy: 0.4319\n",
            "Epoch 18/20\n",
            "391/391 [==============================] - 2s 4ms/step - loss: 0.3742 - accuracy: 0.8727 - val_loss: 2.8456 - val_accuracy: 0.4286\n",
            "Epoch 19/20\n",
            "391/391 [==============================] - 2s 4ms/step - loss: 0.3298 - accuracy: 0.8886 - val_loss: 3.0800 - val_accuracy: 0.4245\n",
            "Epoch 20/20\n",
            "391/391 [==============================] - 2s 4ms/step - loss: 0.2877 - accuracy: 0.9022 - val_loss: 3.2063 - val_accuracy: 0.4223\n"
          ]
        }
      ],
      "source": [
        "metrics_list_cifar = []\n",
        "N = [256, 128, 64, 32, 16, 8, 2, 1]\n",
        "for i in N:\n",
        "  model2 = Sequential()\n",
        "            \n",
        "  model2.add(Conv2D(i, 3, padding='same', input_shape=(32,32,3), activation='relu'))\n",
        "  model2.add(Conv2D(i, 3, padding='same', activation='relu'))\n",
        "  model2.add(MaxPooling2D())\n",
        "\n",
        "  model2.add(Flatten())\n",
        "\n",
        "  model2.add(Dense(1024, activation='relu'))\n",
        "  #model2.add(Dense(512, activation='relu'))\n",
        "  model2.add(Dense(10, activation='softmax'))\n",
        "\n",
        "  model2.compile(loss='categorical_crossentropy', optimizer='Adam', metrics=['accuracy'])\n",
        "  model2.fit(x_train, y_train, batch_size=128,  epochs=20, validation_data=(x_test, y_test), verbose=1)\n",
        "  metrics_list_cifar = metrics_list_cifar + [['Conv2D - 2','pooling - 1', i, 'drop - No', round(model2.evaluate(x_test, y_test, verbose = 0)[1], 3)]]"
      ]
    },
    {
      "cell_type": "code",
      "execution_count": 18,
      "metadata": {
        "id": "hXTcpsmFzBz-",
        "colab": {
          "base_uri": "https://localhost:8080/"
        },
        "outputId": "d461327a-6eac-43c5-9d6d-c0c8fdc5210e"
      },
      "outputs": [
        {
          "output_type": "execute_result",
          "data": {
            "text/plain": [
              "[['Conv2D - 2', 'pooling - 1', 256, 'drop - No', 0.674],\n",
              " ['Conv2D - 2', 'pooling - 1', 128, 'drop - No', 0.678],\n",
              " ['Conv2D - 2', 'pooling - 1', 64, 'drop - No', 0.689],\n",
              " ['Conv2D - 2', 'pooling - 1', 32, 'drop - No', 0.666],\n",
              " ['Conv2D - 2', 'pooling - 1', 16, 'drop - No', 0.67],\n",
              " ['Conv2D - 2', 'pooling - 1', 8, 'drop - No', 0.662],\n",
              " ['Conv2D - 2', 'pooling - 1', 2, 'drop - No', 0.483],\n",
              " ['Conv2D - 2', 'pooling - 1', 1, 'drop - No', 0.422]]"
            ]
          },
          "metadata": {},
          "execution_count": 18
        }
      ],
      "source": [
        "metrics_list_cifar"
      ]
    },
    {
      "cell_type": "markdown",
      "source": [
        "в целом больше ядер - выше точность, в данном случае максимальная точность на 64\n",
        "\n",
        "добавим в ту же сеть слой dropout"
      ],
      "metadata": {
        "id": "Y15s8JRUWuRk"
      }
    },
    {
      "cell_type": "code",
      "source": [
        "N = [128, 64, 32]\n",
        "for i in N:\n",
        "  model2 = Sequential()\n",
        "            \n",
        "  model2.add(Conv2D(i, 3, padding='same', input_shape=(32,32,3), activation='relu'))\n",
        "  model2.add(Conv2D(i, 3, padding='same', activation='relu'))\n",
        "  model2.add(MaxPooling2D())\n",
        "  model2.add(Dropout(0.4))\n",
        "\n",
        "  model2.add(Flatten())\n",
        "\n",
        "  model2.add(Dense(1024, activation='relu'))\n",
        "  model2.add(Dropout(0.4))\n",
        "  #model2.add(Dense(512, activation='relu'))\n",
        "  model2.add(Dense(10, activation='softmax'))\n",
        "\n",
        "  model2.compile(loss='categorical_crossentropy', optimizer='Adam', metrics=['accuracy'])\n",
        "  model2.fit(x_train, y_train, batch_size=128,  epochs=20, validation_data=(x_test, y_test), verbose=1)\n",
        "  metrics_list_cifar = metrics_list_cifar + [['Conv2D - 2','pooling - 1', i, 'drop - Yes', round(model2.evaluate(x_test, y_test, verbose = 0)[1], 3)]]"
      ],
      "metadata": {
        "colab": {
          "base_uri": "https://localhost:8080/"
        },
        "id": "e8RUTOyWXkOE",
        "outputId": "2aa7870e-2fd8-4a07-eca7-960597e0b75b"
      },
      "execution_count": 19,
      "outputs": [
        {
          "output_type": "stream",
          "name": "stdout",
          "text": [
            "Epoch 1/20\n",
            "391/391 [==============================] - 9s 21ms/step - loss: 1.5286 - accuracy: 0.4531 - val_loss: 1.2040 - val_accuracy: 0.5739\n",
            "Epoch 2/20\n",
            "391/391 [==============================] - 8s 21ms/step - loss: 1.1439 - accuracy: 0.5958 - val_loss: 1.0384 - val_accuracy: 0.6334\n",
            "Epoch 3/20\n",
            "391/391 [==============================] - 8s 20ms/step - loss: 0.9868 - accuracy: 0.6502 - val_loss: 0.9464 - val_accuracy: 0.6647\n",
            "Epoch 4/20\n",
            "391/391 [==============================] - 8s 20ms/step - loss: 0.8757 - accuracy: 0.6936 - val_loss: 0.8719 - val_accuracy: 0.6955\n",
            "Epoch 5/20\n",
            "391/391 [==============================] - 8s 20ms/step - loss: 0.7738 - accuracy: 0.7298 - val_loss: 0.8629 - val_accuracy: 0.6945\n",
            "Epoch 6/20\n",
            "391/391 [==============================] - 8s 21ms/step - loss: 0.6743 - accuracy: 0.7649 - val_loss: 0.8424 - val_accuracy: 0.7060\n",
            "Epoch 7/20\n",
            "391/391 [==============================] - 8s 21ms/step - loss: 0.6013 - accuracy: 0.7866 - val_loss: 0.8278 - val_accuracy: 0.7199\n",
            "Epoch 8/20\n",
            "391/391 [==============================] - 8s 21ms/step - loss: 0.5281 - accuracy: 0.8154 - val_loss: 0.8209 - val_accuracy: 0.7227\n",
            "Epoch 9/20\n",
            "391/391 [==============================] - 8s 20ms/step - loss: 0.4689 - accuracy: 0.8353 - val_loss: 0.8269 - val_accuracy: 0.7225\n",
            "Epoch 10/20\n",
            "391/391 [==============================] - 8s 20ms/step - loss: 0.4202 - accuracy: 0.8527 - val_loss: 0.8413 - val_accuracy: 0.7224\n",
            "Epoch 11/20\n",
            "391/391 [==============================] - 8s 20ms/step - loss: 0.3804 - accuracy: 0.8666 - val_loss: 0.8390 - val_accuracy: 0.7243\n",
            "Epoch 12/20\n",
            "391/391 [==============================] - 8s 20ms/step - loss: 0.3382 - accuracy: 0.8811 - val_loss: 0.9780 - val_accuracy: 0.7088\n",
            "Epoch 13/20\n",
            "391/391 [==============================] - 8s 20ms/step - loss: 0.3111 - accuracy: 0.8902 - val_loss: 0.8885 - val_accuracy: 0.7267\n",
            "Epoch 14/20\n",
            "391/391 [==============================] - 8s 21ms/step - loss: 0.2871 - accuracy: 0.8998 - val_loss: 0.9047 - val_accuracy: 0.7229\n",
            "Epoch 15/20\n",
            "391/391 [==============================] - 8s 21ms/step - loss: 0.2702 - accuracy: 0.9049 - val_loss: 0.8974 - val_accuracy: 0.7299\n",
            "Epoch 16/20\n",
            "391/391 [==============================] - 8s 20ms/step - loss: 0.2478 - accuracy: 0.9156 - val_loss: 0.9338 - val_accuracy: 0.7245\n",
            "Epoch 17/20\n",
            "391/391 [==============================] - 8s 21ms/step - loss: 0.2369 - accuracy: 0.9185 - val_loss: 0.9381 - val_accuracy: 0.7285\n",
            "Epoch 18/20\n",
            "391/391 [==============================] - 8s 21ms/step - loss: 0.2265 - accuracy: 0.9213 - val_loss: 0.9947 - val_accuracy: 0.7269\n",
            "Epoch 19/20\n",
            "391/391 [==============================] - 8s 21ms/step - loss: 0.2158 - accuracy: 0.9245 - val_loss: 0.9877 - val_accuracy: 0.7248\n",
            "Epoch 20/20\n",
            "391/391 [==============================] - 8s 20ms/step - loss: 0.2044 - accuracy: 0.9289 - val_loss: 0.9693 - val_accuracy: 0.7271\n",
            "Epoch 1/20\n",
            "391/391 [==============================] - 5s 12ms/step - loss: 1.4454 - accuracy: 0.4811 - val_loss: 1.0900 - val_accuracy: 0.6140\n",
            "Epoch 2/20\n",
            "391/391 [==============================] - 4s 11ms/step - loss: 1.0418 - accuracy: 0.6296 - val_loss: 0.9534 - val_accuracy: 0.6642\n",
            "Epoch 3/20\n",
            "391/391 [==============================] - 4s 11ms/step - loss: 0.8854 - accuracy: 0.6877 - val_loss: 0.8747 - val_accuracy: 0.6906\n",
            "Epoch 4/20\n",
            "391/391 [==============================] - 4s 11ms/step - loss: 0.7720 - accuracy: 0.7271 - val_loss: 0.8411 - val_accuracy: 0.7066\n",
            "Epoch 5/20\n",
            "391/391 [==============================] - 4s 11ms/step - loss: 0.6694 - accuracy: 0.7638 - val_loss: 0.8326 - val_accuracy: 0.7163\n",
            "Epoch 6/20\n",
            "391/391 [==============================] - 4s 11ms/step - loss: 0.5761 - accuracy: 0.7987 - val_loss: 0.8181 - val_accuracy: 0.7181\n",
            "Epoch 7/20\n",
            "391/391 [==============================] - 4s 11ms/step - loss: 0.4883 - accuracy: 0.8265 - val_loss: 0.8244 - val_accuracy: 0.7244\n",
            "Epoch 8/20\n",
            "391/391 [==============================] - 4s 11ms/step - loss: 0.4098 - accuracy: 0.8571 - val_loss: 0.8167 - val_accuracy: 0.7369\n",
            "Epoch 9/20\n",
            "391/391 [==============================] - 4s 11ms/step - loss: 0.3539 - accuracy: 0.8757 - val_loss: 0.8199 - val_accuracy: 0.7307\n",
            "Epoch 10/20\n",
            "391/391 [==============================] - 4s 11ms/step - loss: 0.3111 - accuracy: 0.8909 - val_loss: 0.8435 - val_accuracy: 0.7410\n",
            "Epoch 11/20\n",
            "391/391 [==============================] - 4s 11ms/step - loss: 0.2664 - accuracy: 0.9078 - val_loss: 0.8808 - val_accuracy: 0.7392\n",
            "Epoch 12/20\n",
            "391/391 [==============================] - 4s 11ms/step - loss: 0.2350 - accuracy: 0.9179 - val_loss: 0.8817 - val_accuracy: 0.7385\n",
            "Epoch 13/20\n",
            "391/391 [==============================] - 4s 11ms/step - loss: 0.2113 - accuracy: 0.9265 - val_loss: 0.9236 - val_accuracy: 0.7367\n",
            "Epoch 14/20\n",
            "391/391 [==============================] - 4s 11ms/step - loss: 0.1910 - accuracy: 0.9339 - val_loss: 0.9242 - val_accuracy: 0.7375\n",
            "Epoch 15/20\n",
            "391/391 [==============================] - 4s 11ms/step - loss: 0.1795 - accuracy: 0.9362 - val_loss: 0.9555 - val_accuracy: 0.7345\n",
            "Epoch 16/20\n",
            "391/391 [==============================] - 4s 11ms/step - loss: 0.1728 - accuracy: 0.9407 - val_loss: 0.9928 - val_accuracy: 0.7358\n",
            "Epoch 17/20\n",
            "391/391 [==============================] - 4s 11ms/step - loss: 0.1603 - accuracy: 0.9450 - val_loss: 0.9915 - val_accuracy: 0.7388\n",
            "Epoch 18/20\n",
            "391/391 [==============================] - 4s 11ms/step - loss: 0.1501 - accuracy: 0.9482 - val_loss: 0.9951 - val_accuracy: 0.7394\n",
            "Epoch 19/20\n",
            "391/391 [==============================] - 4s 11ms/step - loss: 0.1423 - accuracy: 0.9519 - val_loss: 0.9941 - val_accuracy: 0.7442\n",
            "Epoch 20/20\n",
            "391/391 [==============================] - 4s 11ms/step - loss: 0.1347 - accuracy: 0.9539 - val_loss: 1.0444 - val_accuracy: 0.7412\n",
            "Epoch 1/20\n",
            "391/391 [==============================] - 3s 8ms/step - loss: 1.4895 - accuracy: 0.4660 - val_loss: 1.1773 - val_accuracy: 0.5785\n",
            "Epoch 2/20\n",
            "391/391 [==============================] - 3s 7ms/step - loss: 1.1161 - accuracy: 0.6056 - val_loss: 1.0295 - val_accuracy: 0.6321\n",
            "Epoch 3/20\n",
            "391/391 [==============================] - 3s 7ms/step - loss: 0.9586 - accuracy: 0.6619 - val_loss: 0.9192 - val_accuracy: 0.6731\n",
            "Epoch 4/20\n",
            "391/391 [==============================] - 3s 7ms/step - loss: 0.8388 - accuracy: 0.7055 - val_loss: 0.8832 - val_accuracy: 0.6919\n",
            "Epoch 5/20\n",
            "391/391 [==============================] - 3s 7ms/step - loss: 0.7396 - accuracy: 0.7397 - val_loss: 0.8303 - val_accuracy: 0.7130\n",
            "Epoch 6/20\n",
            "391/391 [==============================] - 3s 7ms/step - loss: 0.6448 - accuracy: 0.7738 - val_loss: 0.8301 - val_accuracy: 0.7157\n",
            "Epoch 7/20\n",
            "391/391 [==============================] - 3s 7ms/step - loss: 0.5560 - accuracy: 0.8038 - val_loss: 0.8034 - val_accuracy: 0.7229\n",
            "Epoch 8/20\n",
            "391/391 [==============================] - 3s 7ms/step - loss: 0.4822 - accuracy: 0.8317 - val_loss: 0.8193 - val_accuracy: 0.7257\n",
            "Epoch 9/20\n",
            "391/391 [==============================] - 3s 7ms/step - loss: 0.4170 - accuracy: 0.8545 - val_loss: 0.8150 - val_accuracy: 0.7332\n",
            "Epoch 10/20\n",
            "391/391 [==============================] - 3s 7ms/step - loss: 0.3577 - accuracy: 0.8756 - val_loss: 0.8493 - val_accuracy: 0.7288\n",
            "Epoch 11/20\n",
            "391/391 [==============================] - 3s 7ms/step - loss: 0.3148 - accuracy: 0.8910 - val_loss: 0.8685 - val_accuracy: 0.7289\n",
            "Epoch 12/20\n",
            "391/391 [==============================] - 3s 7ms/step - loss: 0.2858 - accuracy: 0.8999 - val_loss: 0.8960 - val_accuracy: 0.7271\n",
            "Epoch 13/20\n",
            "391/391 [==============================] - 3s 7ms/step - loss: 0.2546 - accuracy: 0.9114 - val_loss: 0.8904 - val_accuracy: 0.7288\n",
            "Epoch 14/20\n",
            "391/391 [==============================] - 3s 7ms/step - loss: 0.2351 - accuracy: 0.9196 - val_loss: 0.9507 - val_accuracy: 0.7260\n",
            "Epoch 15/20\n",
            "391/391 [==============================] - 3s 7ms/step - loss: 0.2123 - accuracy: 0.9259 - val_loss: 0.9416 - val_accuracy: 0.7312\n",
            "Epoch 16/20\n",
            "391/391 [==============================] - 3s 7ms/step - loss: 0.1944 - accuracy: 0.9319 - val_loss: 0.9699 - val_accuracy: 0.7285\n",
            "Epoch 17/20\n",
            "391/391 [==============================] - 3s 7ms/step - loss: 0.1884 - accuracy: 0.9353 - val_loss: 1.0215 - val_accuracy: 0.7204\n",
            "Epoch 18/20\n",
            "391/391 [==============================] - 3s 7ms/step - loss: 0.1750 - accuracy: 0.9401 - val_loss: 1.0009 - val_accuracy: 0.7290\n",
            "Epoch 19/20\n",
            "391/391 [==============================] - 3s 7ms/step - loss: 0.1589 - accuracy: 0.9456 - val_loss: 0.9759 - val_accuracy: 0.7279\n",
            "Epoch 20/20\n",
            "391/391 [==============================] - 3s 7ms/step - loss: 0.1572 - accuracy: 0.9461 - val_loss: 1.0739 - val_accuracy: 0.7232\n"
          ]
        }
      ]
    },
    {
      "cell_type": "code",
      "source": [
        "metrics_list_cifar"
      ],
      "metadata": {
        "colab": {
          "base_uri": "https://localhost:8080/"
        },
        "id": "4FSX7kQzXt2Y",
        "outputId": "26fc8373-44e6-45b6-c03b-3e5f922f924f"
      },
      "execution_count": 20,
      "outputs": [
        {
          "output_type": "execute_result",
          "data": {
            "text/plain": [
              "[['Conv2D - 2', 'pooling - 1', 256, 'drop - No', 0.674],\n",
              " ['Conv2D - 2', 'pooling - 1', 128, 'drop - No', 0.678],\n",
              " ['Conv2D - 2', 'pooling - 1', 64, 'drop - No', 0.689],\n",
              " ['Conv2D - 2', 'pooling - 1', 32, 'drop - No', 0.666],\n",
              " ['Conv2D - 2', 'pooling - 1', 16, 'drop - No', 0.67],\n",
              " ['Conv2D - 2', 'pooling - 1', 8, 'drop - No', 0.662],\n",
              " ['Conv2D - 2', 'pooling - 1', 2, 'drop - No', 0.483],\n",
              " ['Conv2D - 2', 'pooling - 1', 1, 'drop - No', 0.422],\n",
              " ['Conv2D - 2', 'pooling - 1', 128, 'drop - Yes', 0.727],\n",
              " ['Conv2D - 2', 'pooling - 1', 64, 'drop - Yes', 0.741],\n",
              " ['Conv2D - 2', 'pooling - 1', 32, 'drop - Yes', 0.723]]"
            ]
          },
          "metadata": {},
          "execution_count": 20
        }
      ]
    },
    {
      "cell_type": "markdown",
      "source": [
        " слой dropout повышает точность\n",
        "\n",
        " увеличим количество слоев"
      ],
      "metadata": {
        "id": "Bpsi1mKnbdQ5"
      }
    },
    {
      "cell_type": "code",
      "execution_count": 22,
      "metadata": {
        "id": "b7v3Y0EqxTd_",
        "colab": {
          "base_uri": "https://localhost:8080/"
        },
        "outputId": "cca5dddd-b30e-46e5-a876-50746f5b9c27"
      },
      "outputs": [
        {
          "output_type": "stream",
          "name": "stdout",
          "text": [
            "Epoch 1/20\n",
            "391/391 [==============================] - 17s 41ms/step - loss: 1.8026 - accuracy: 0.3231 - val_loss: 1.4033 - val_accuracy: 0.4767\n",
            "Epoch 2/20\n",
            "391/391 [==============================] - 16s 40ms/step - loss: 1.3567 - accuracy: 0.5066 - val_loss: 1.2097 - val_accuracy: 0.5546\n",
            "Epoch 3/20\n",
            "391/391 [==============================] - 16s 40ms/step - loss: 1.1653 - accuracy: 0.5789 - val_loss: 1.0102 - val_accuracy: 0.6369\n",
            "Epoch 4/20\n",
            "391/391 [==============================] - 16s 40ms/step - loss: 1.0406 - accuracy: 0.6288 - val_loss: 0.9951 - val_accuracy: 0.6496\n",
            "Epoch 5/20\n",
            "391/391 [==============================] - 16s 40ms/step - loss: 0.9548 - accuracy: 0.6609 - val_loss: 0.8892 - val_accuracy: 0.6793\n",
            "Epoch 6/20\n",
            "391/391 [==============================] - 16s 40ms/step - loss: 0.8806 - accuracy: 0.6873 - val_loss: 0.8312 - val_accuracy: 0.7078\n",
            "Epoch 7/20\n",
            "391/391 [==============================] - 16s 40ms/step - loss: 0.8255 - accuracy: 0.7094 - val_loss: 0.7528 - val_accuracy: 0.7370\n",
            "Epoch 8/20\n",
            "391/391 [==============================] - 16s 40ms/step - loss: 0.7799 - accuracy: 0.7246 - val_loss: 0.7430 - val_accuracy: 0.7369\n",
            "Epoch 9/20\n",
            "391/391 [==============================] - 16s 40ms/step - loss: 0.7407 - accuracy: 0.7381 - val_loss: 0.7162 - val_accuracy: 0.7505\n",
            "Epoch 10/20\n",
            "391/391 [==============================] - 16s 40ms/step - loss: 0.7119 - accuracy: 0.7494 - val_loss: 0.7190 - val_accuracy: 0.7535\n",
            "Epoch 11/20\n",
            "391/391 [==============================] - 16s 40ms/step - loss: 0.6771 - accuracy: 0.7633 - val_loss: 0.7118 - val_accuracy: 0.7593\n",
            "Epoch 12/20\n",
            "391/391 [==============================] - 16s 40ms/step - loss: 0.6671 - accuracy: 0.7658 - val_loss: 0.6584 - val_accuracy: 0.7796\n",
            "Epoch 13/20\n",
            "391/391 [==============================] - 16s 40ms/step - loss: 0.6339 - accuracy: 0.7757 - val_loss: 0.6587 - val_accuracy: 0.7792\n",
            "Epoch 14/20\n",
            "391/391 [==============================] - 16s 40ms/step - loss: 0.6228 - accuracy: 0.7794 - val_loss: 0.6632 - val_accuracy: 0.7744\n",
            "Epoch 15/20\n",
            "391/391 [==============================] - 16s 40ms/step - loss: 0.5970 - accuracy: 0.7909 - val_loss: 0.6574 - val_accuracy: 0.7782\n",
            "Epoch 16/20\n",
            "391/391 [==============================] - 16s 40ms/step - loss: 0.5815 - accuracy: 0.7945 - val_loss: 0.6396 - val_accuracy: 0.7870\n",
            "Epoch 17/20\n",
            "391/391 [==============================] - 16s 40ms/step - loss: 0.5654 - accuracy: 0.8017 - val_loss: 0.6524 - val_accuracy: 0.7854\n",
            "Epoch 18/20\n",
            "391/391 [==============================] - 16s 40ms/step - loss: 0.5554 - accuracy: 0.8027 - val_loss: 0.6636 - val_accuracy: 0.7868\n",
            "Epoch 19/20\n",
            "391/391 [==============================] - 16s 40ms/step - loss: 0.5386 - accuracy: 0.8113 - val_loss: 0.6601 - val_accuracy: 0.7843\n",
            "Epoch 20/20\n",
            "391/391 [==============================] - 16s 40ms/step - loss: 0.5247 - accuracy: 0.8151 - val_loss: 0.6397 - val_accuracy: 0.7935\n"
          ]
        }
      ],
      "source": [
        "model3 = Sequential()\n",
        "\n",
        "model3.add(Conv2D(256, 3, padding='same', input_shape=(32,32,3), activation='relu'))\n",
        "model3.add(Conv2D(256, 3, padding='same', activation='relu'))\n",
        "model3.add(MaxPooling2D())\n",
        "model3.add(Dropout(0.4))\n",
        "    \n",
        "\n",
        "model3.add(Conv2D(128, 3, padding='same', activation='relu'))\n",
        "model3.add(Conv2D(128, 3, padding='same', activation='relu'))\n",
        "model3.add(MaxPooling2D())\n",
        "model3.add(Dropout(0.4))\n",
        "    \n",
        "\n",
        "model3.add(Conv2D(64, 3, padding='same', activation='relu'))\n",
        "model3.add(Conv2D(64, 3, padding='same', activation='relu'))\n",
        "model3.add(Dropout(0.4))\n",
        "    \n",
        "\n",
        "model3.add(Conv2D(32, 3, padding='same', activation='relu'))\n",
        "model3.add(Conv2D(32, 3, padding='same', activation='relu'))\n",
        "model3.add(Dropout(0.4))\n",
        "\n",
        "model3.add(Flatten())\n",
        "\n",
        "model3.add(Dense(1024, activation='relu'))\n",
        "model3.add(Dropout(0.2))\n",
        "model3.add(Dense(512, activation='relu'))\n",
        "    \n",
        "model3.add(Dense(10, activation='softmax'))\n",
        "\n",
        "model3.compile(loss='categorical_crossentropy', optimizer='Adam', metrics=['accuracy'])\n",
        "model3.fit(x_train, y_train, batch_size=128,  epochs=20, validation_data=(x_test, y_test), verbose=1)\n",
        "metrics_list_cifar = metrics_list_cifar + [['Conv2D - 8','pooling - 2', '256-128-64-32', 'drop - Yes', round(model3.evaluate(x_test, y_test, verbose = 0)[1], 3)]]"
      ]
    },
    {
      "cell_type": "code",
      "source": [
        "metrics_list_cifar"
      ],
      "metadata": {
        "colab": {
          "base_uri": "https://localhost:8080/"
        },
        "id": "HSlFy7Hlc45y",
        "outputId": "799fabe9-16fe-47ea-936d-e4bb806ed886"
      },
      "execution_count": 23,
      "outputs": [
        {
          "output_type": "execute_result",
          "data": {
            "text/plain": [
              "[['Conv2D - 2', 'pooling - 1', 256, 'drop - No', 0.674],\n",
              " ['Conv2D - 2', 'pooling - 1', 128, 'drop - No', 0.678],\n",
              " ['Conv2D - 2', 'pooling - 1', 64, 'drop - No', 0.689],\n",
              " ['Conv2D - 2', 'pooling - 1', 32, 'drop - No', 0.666],\n",
              " ['Conv2D - 2', 'pooling - 1', 16, 'drop - No', 0.67],\n",
              " ['Conv2D - 2', 'pooling - 1', 8, 'drop - No', 0.662],\n",
              " ['Conv2D - 2', 'pooling - 1', 2, 'drop - No', 0.483],\n",
              " ['Conv2D - 2', 'pooling - 1', 1, 'drop - No', 0.422],\n",
              " ['Conv2D - 2', 'pooling - 1', 128, 'drop - Yes', 0.727],\n",
              " ['Conv2D - 2', 'pooling - 1', 64, 'drop - Yes', 0.741],\n",
              " ['Conv2D - 2', 'pooling - 1', 32, 'drop - Yes', 0.723],\n",
              " ['Conv2D - 8', 'pooling - 2', '256-128-64-32', 'drop - Yes', 0.794]]"
            ]
          },
          "metadata": {},
          "execution_count": 23
        }
      ]
    },
    {
      "cell_type": "markdown",
      "source": [
        "пока самая лучшая точность у этой модели"
      ],
      "metadata": {
        "id": "dMbwd5oiuWKI"
      }
    },
    {
      "cell_type": "code",
      "source": [
        "# добавим еще слоев\n",
        "\n",
        "model5 = Sequential()\n",
        "\n",
        "#model5.add(Conv2D(1024, 3, padding='same', input_shape=(32,32,3), activation='relu'))\n",
        "##model5.add(Conv2D(1024, 3, padding='same', activation='relu'))\n",
        "#model5.add(MaxPooling2D())\n",
        "#model5.add(Dropout(0.4))\n",
        "    \n",
        "\n",
        "model5.add(Conv2D(512, 3, padding='same', input_shape=(32,32,3), activation='relu'))\n",
        "model5.add(Conv2D(512, 3, padding='same', activation='relu'))\n",
        "model5.add(MaxPooling2D())\n",
        "model5.add(Dropout(0.4))\n",
        "\n",
        "model5.add(Conv2D(256, 3, padding='same', activation='relu'))\n",
        "model5.add(Conv2D(256, 3, padding='same', activation='relu'))\n",
        "model5.add(MaxPooling2D())\n",
        "model5.add(Dropout(0.4))\n",
        "    \n",
        "\n",
        "model5.add(Conv2D(128, 3, padding='same', activation='relu'))\n",
        "model5.add(Conv2D(128, 3, padding='same', activation='relu'))\n",
        "model5.add(MaxPooling2D())\n",
        "model5.add(Dropout(0.4))\n",
        "    \n",
        "\n",
        "model5.add(Conv2D(64, 3, padding='same', activation='relu'))\n",
        "model5.add(Conv2D(64, 3, padding='same', activation='relu'))\n",
        "model5.add(Dropout(0.4))\n",
        "    \n",
        "\n",
        "model5.add(Conv2D(32, 3, padding='same', activation='relu'))\n",
        "model5.add(Conv2D(32, 3, padding='same', activation='relu'))\n",
        "model5.add(Dropout(0.4))\n",
        "\n",
        "model5.add(Flatten())\n",
        "\n",
        "model5.add(Dense(1024, activation='relu'))\n",
        "model5.add(Dropout(0.2))\n",
        "model5.add(Dense(512, activation='relu'))\n",
        "    \n",
        "model5.add(Dense(10, activation='softmax'))\n",
        "\n",
        "model5.compile(loss='categorical_crossentropy', optimizer='Adam', metrics=['accuracy'])\n",
        "model5.fit(x_train, y_train, batch_size=128,  epochs=20, validation_data=(x_test, y_test), verbose=1)\n",
        "metrics_list_cifar = metrics_list_cifar + [['Conv2D - 10','pooling - 3', '512-256-128-64-32', 'drop - Yes', round(model5.evaluate(x_test, y_test, verbose = 0)[1], 3)]]"
      ],
      "metadata": {
        "colab": {
          "base_uri": "https://localhost:8080/"
        },
        "id": "smAxgpS8cXw0",
        "outputId": "7d7ddb7c-5521-4760-b6ff-1d8e457bebc2"
      },
      "execution_count": 25,
      "outputs": [
        {
          "output_type": "stream",
          "name": "stdout",
          "text": [
            "Epoch 1/20\n",
            "391/391 [==============================] - 46s 115ms/step - loss: 1.9590 - accuracy: 0.2531 - val_loss: 1.6375 - val_accuracy: 0.3818\n",
            "Epoch 2/20\n",
            "391/391 [==============================] - 42s 107ms/step - loss: 1.5358 - accuracy: 0.4260 - val_loss: 1.3393 - val_accuracy: 0.5049\n",
            "Epoch 3/20\n",
            "391/391 [==============================] - 42s 107ms/step - loss: 1.3181 - accuracy: 0.5233 - val_loss: 1.1275 - val_accuracy: 0.5906\n",
            "Epoch 4/20\n",
            "391/391 [==============================] - 42s 107ms/step - loss: 1.1794 - accuracy: 0.5774 - val_loss: 1.1905 - val_accuracy: 0.5805\n",
            "Epoch 5/20\n",
            "391/391 [==============================] - 42s 107ms/step - loss: 1.0627 - accuracy: 0.6245 - val_loss: 0.9616 - val_accuracy: 0.6531\n",
            "Epoch 6/20\n",
            "391/391 [==============================] - 42s 107ms/step - loss: 0.9766 - accuracy: 0.6596 - val_loss: 0.8954 - val_accuracy: 0.6985\n",
            "Epoch 7/20\n",
            "391/391 [==============================] - 42s 107ms/step - loss: 0.8988 - accuracy: 0.6870 - val_loss: 0.8069 - val_accuracy: 0.7202\n",
            "Epoch 8/20\n",
            "391/391 [==============================] - 42s 107ms/step - loss: 0.8516 - accuracy: 0.7043 - val_loss: 0.7832 - val_accuracy: 0.7391\n",
            "Epoch 9/20\n",
            "391/391 [==============================] - 42s 107ms/step - loss: 0.8092 - accuracy: 0.7235 - val_loss: 0.7287 - val_accuracy: 0.7490\n",
            "Epoch 10/20\n",
            "391/391 [==============================] - 42s 107ms/step - loss: 0.7627 - accuracy: 0.7409 - val_loss: 0.7274 - val_accuracy: 0.7547\n",
            "Epoch 11/20\n",
            "391/391 [==============================] - 42s 107ms/step - loss: 0.7272 - accuracy: 0.7532 - val_loss: 0.7033 - val_accuracy: 0.7593\n",
            "Epoch 12/20\n",
            "391/391 [==============================] - 42s 107ms/step - loss: 0.6982 - accuracy: 0.7657 - val_loss: 0.7857 - val_accuracy: 0.7435\n",
            "Epoch 13/20\n",
            "391/391 [==============================] - 42s 107ms/step - loss: 0.6824 - accuracy: 0.7695 - val_loss: 0.6612 - val_accuracy: 0.7818\n",
            "Epoch 14/20\n",
            "391/391 [==============================] - 42s 107ms/step - loss: 0.6613 - accuracy: 0.7779 - val_loss: 0.6863 - val_accuracy: 0.7786\n",
            "Epoch 15/20\n",
            "391/391 [==============================] - 42s 107ms/step - loss: 0.6341 - accuracy: 0.7881 - val_loss: 0.6749 - val_accuracy: 0.7822\n",
            "Epoch 16/20\n",
            "391/391 [==============================] - 42s 107ms/step - loss: 0.6076 - accuracy: 0.7956 - val_loss: 0.6147 - val_accuracy: 0.7998\n",
            "Epoch 17/20\n",
            "391/391 [==============================] - 42s 107ms/step - loss: 0.6020 - accuracy: 0.7988 - val_loss: 0.7104 - val_accuracy: 0.7828\n",
            "Epoch 18/20\n",
            "391/391 [==============================] - 42s 107ms/step - loss: 0.5827 - accuracy: 0.8055 - val_loss: 0.6261 - val_accuracy: 0.8014\n",
            "Epoch 19/20\n",
            "391/391 [==============================] - 42s 107ms/step - loss: 0.5704 - accuracy: 0.8097 - val_loss: 0.6041 - val_accuracy: 0.8007\n",
            "Epoch 20/20\n",
            "391/391 [==============================] - 42s 107ms/step - loss: 0.5667 - accuracy: 0.8128 - val_loss: 0.6036 - val_accuracy: 0.8069\n"
          ]
        }
      ]
    },
    {
      "cell_type": "code",
      "source": [
        "metrics_list_cifar"
      ],
      "metadata": {
        "colab": {
          "base_uri": "https://localhost:8080/"
        },
        "id": "qegtI-umes88",
        "outputId": "75abdcbd-8f61-4cf5-cb16-d207d1f66bce"
      },
      "execution_count": 27,
      "outputs": [
        {
          "output_type": "execute_result",
          "data": {
            "text/plain": [
              "[['Conv2D - 2', 'pooling - 1', 256, 'drop - No', 0.674],\n",
              " ['Conv2D - 2', 'pooling - 1', 128, 'drop - No', 0.678],\n",
              " ['Conv2D - 2', 'pooling - 1', 64, 'drop - No', 0.689],\n",
              " ['Conv2D - 2', 'pooling - 1', 32, 'drop - No', 0.666],\n",
              " ['Conv2D - 2', 'pooling - 1', 16, 'drop - No', 0.67],\n",
              " ['Conv2D - 2', 'pooling - 1', 8, 'drop - No', 0.662],\n",
              " ['Conv2D - 2', 'pooling - 1', 2, 'drop - No', 0.483],\n",
              " ['Conv2D - 2', 'pooling - 1', 1, 'drop - No', 0.422],\n",
              " ['Conv2D - 2', 'pooling - 1', 128, 'drop - Yes', 0.727],\n",
              " ['Conv2D - 2', 'pooling - 1', 64, 'drop - Yes', 0.741],\n",
              " ['Conv2D - 2', 'pooling - 1', 32, 'drop - Yes', 0.723],\n",
              " ['Conv2D - 8', 'pooling - 2', '256-128-64-32', 'drop - Yes', 0.794],\n",
              " ['Conv2D - 10', 'pooling - 3', '512-256-128-64-32', 'drop - Yes', 0.807]]"
            ]
          },
          "metadata": {},
          "execution_count": 27
        }
      ]
    },
    {
      "cell_type": "markdown",
      "source": [
        "увеличение Conv2D слоев до 10 увеличило точность"
      ],
      "metadata": {
        "id": "xyWOZN1ynhfz"
      }
    },
    {
      "cell_type": "code",
      "execution_count": 28,
      "metadata": {
        "id": "yvG4BrpCwuFz"
      },
      "outputs": [],
      "source": [
        "# добавим image augmentation\n",
        "# установка параметров нейросети\n",
        "batch_size = 128\n",
        "epochs = 5"
      ]
    },
    {
      "cell_type": "code",
      "execution_count": 29,
      "metadata": {
        "id": "H4Ob9X-gm5-W"
      },
      "outputs": [],
      "source": [
        "datagen = ImageDataGenerator(\n",
        "        featurewise_center=False,\n",
        "        samplewise_center=False,\n",
        "        featurewise_std_normalization=False,\n",
        "        samplewise_std_normalization=False,\n",
        "        zca_whitening=False, \n",
        "        zca_epsilon=1e-06, \n",
        "        rotation_range=5, \n",
        "        width_shift_range=0.1,\n",
        "        height_shift_range=0.1,\n",
        "        shear_range=0., \n",
        "        zoom_range=0., \n",
        "        channel_shift_range=0.,\n",
        "        fill_mode='nearest',\n",
        "        cval=0.,\n",
        "        horizontal_flip=True,\n",
        "        vertical_flip=False,\n",
        "        rescale=None,\n",
        "        preprocessing_function=None,\n",
        "        data_format=None,\n",
        "        validation_split=0.0)\n"
      ]
    },
    {
      "cell_type": "code",
      "source": [
        "datagen.fit(x_train) "
      ],
      "metadata": {
        "id": "hxmuRmdoin7M"
      },
      "execution_count": 30,
      "outputs": []
    },
    {
      "cell_type": "code",
      "metadata": {
        "id": "7R0M5BckrNQ_"
      },
      "source": [
        "steps_per_epoch = len(x_train) // batch_size # в документации"
      ],
      "execution_count": 36,
      "outputs": []
    },
    {
      "cell_type": "code",
      "source": [
        "\n",
        "model6 = Sequential()\n",
        "\n",
        "model6.add(Conv2D(512, 3, padding='same', input_shape=(32,32,3), activation='relu'))\n",
        "model6.add(Conv2D(512, 3, padding='same', activation='relu'))\n",
        "model6.add(MaxPooling2D())\n",
        "model6.add(Dropout(0.4))\n",
        "\n",
        "model6.add(Conv2D(256, 3, padding='same', activation='relu'))\n",
        "model6.add(Conv2D(256, 3, padding='same', activation='relu'))\n",
        "model6.add(MaxPooling2D())\n",
        "model6.add(Dropout(0.4))\n",
        "    \n",
        "\n",
        "model6.add(Conv2D(128, 3, padding='same', activation='relu'))\n",
        "model6.add(Conv2D(128, 3, padding='same', activation='relu'))\n",
        "model6.add(MaxPooling2D())\n",
        "model6.add(Dropout(0.4))\n",
        "    \n",
        "\n",
        "model6.add(Conv2D(64, 3, padding='same', activation='relu'))\n",
        "model6.add(Conv2D(64, 3, padding='same', activation='relu'))\n",
        "model6.add(Dropout(0.4))\n",
        "    \n",
        "\n",
        "model6.add(Conv2D(32, 3, padding='same', activation='relu'))\n",
        "model6.add(Conv2D(32, 3, padding='same', activation='relu'))\n",
        "model6.add(Dropout(0.4))\n",
        "\n",
        "model6.add(Flatten())\n",
        "\n",
        "model6.add(Dense(1024, activation='relu'))\n",
        "model6.add(Dropout(0.2))\n",
        "model6.add(Dense(512, activation='relu'))\n",
        "    \n",
        "model6.add(Dense(10, activation='softmax'))\n",
        "\n",
        "model6.compile(loss='categorical_crossentropy', optimizer='Adam', metrics=['accuracy'])\n",
        "\n",
        "history6 = model6.fit(datagen.flow(x_train, y_train, batch_size=batch_size),    \n",
        "                    steps_per_epoch=steps_per_epoch, \n",
        "                    epochs=10, \n",
        "                    validation_data=(x_test, y_test))\n",
        "\n"
      ],
      "metadata": {
        "colab": {
          "base_uri": "https://localhost:8080/"
        },
        "id": "fByDwy9ovShh",
        "outputId": "94cd9bbd-68d9-45bd-9324-d1a279dc02de"
      },
      "execution_count": 37,
      "outputs": [
        {
          "output_type": "stream",
          "name": "stdout",
          "text": [
            "Epoch 1/10\n",
            "390/390 [==============================] - 44s 110ms/step - loss: 1.9613 - accuracy: 0.2551 - val_loss: 1.6670 - val_accuracy: 0.3727\n",
            "Epoch 2/10\n",
            "390/390 [==============================] - 42s 109ms/step - loss: 1.6066 - accuracy: 0.3934 - val_loss: 1.4946 - val_accuracy: 0.4442\n",
            "Epoch 3/10\n",
            "390/390 [==============================] - 42s 109ms/step - loss: 1.4312 - accuracy: 0.4732 - val_loss: 1.2055 - val_accuracy: 0.5613\n",
            "Epoch 4/10\n",
            "390/390 [==============================] - 42s 109ms/step - loss: 1.3016 - accuracy: 0.5308 - val_loss: 1.1343 - val_accuracy: 0.5903\n",
            "Epoch 5/10\n",
            "390/390 [==============================] - 42s 109ms/step - loss: 1.2034 - accuracy: 0.5677 - val_loss: 1.0849 - val_accuracy: 0.6178\n",
            "Epoch 6/10\n",
            "390/390 [==============================] - 42s 109ms/step - loss: 1.1200 - accuracy: 0.6027 - val_loss: 1.0017 - val_accuracy: 0.6525\n",
            "Epoch 7/10\n",
            "390/390 [==============================] - 42s 109ms/step - loss: 1.0680 - accuracy: 0.6248 - val_loss: 1.0250 - val_accuracy: 0.6534\n",
            "Epoch 8/10\n",
            "390/390 [==============================] - 42s 109ms/step - loss: 1.0138 - accuracy: 0.6425 - val_loss: 0.9741 - val_accuracy: 0.6741\n",
            "Epoch 9/10\n",
            "390/390 [==============================] - 42s 109ms/step - loss: 0.9818 - accuracy: 0.6566 - val_loss: 0.8961 - val_accuracy: 0.6944\n",
            "Epoch 10/10\n",
            "390/390 [==============================] - 42s 109ms/step - loss: 0.9361 - accuracy: 0.6758 - val_loss: 0.8783 - val_accuracy: 0.7006\n"
          ]
        }
      ]
    },
    {
      "cell_type": "code",
      "source": [
        "metrics_list_cifar = metrics_list_cifar + [['Conv2D - 8','pooling - 2', '512-256-128-64-32', 'drop + genImage', round(model6.evaluate(x_test, y_test, verbose = 0)[1], 3)]]\n",
        "metrics_list_cifar"
      ],
      "metadata": {
        "colab": {
          "base_uri": "https://localhost:8080/"
        },
        "id": "jwmS9T_cs4BX",
        "outputId": "5f8a3916-e0cc-44b6-c663-76165e76113d"
      },
      "execution_count": 38,
      "outputs": [
        {
          "output_type": "execute_result",
          "data": {
            "text/plain": [
              "[['Conv2D - 2', 'pooling - 1', 256, 'drop - No', 0.674],\n",
              " ['Conv2D - 2', 'pooling - 1', 128, 'drop - No', 0.678],\n",
              " ['Conv2D - 2', 'pooling - 1', 64, 'drop - No', 0.689],\n",
              " ['Conv2D - 2', 'pooling - 1', 32, 'drop - No', 0.666],\n",
              " ['Conv2D - 2', 'pooling - 1', 16, 'drop - No', 0.67],\n",
              " ['Conv2D - 2', 'pooling - 1', 8, 'drop - No', 0.662],\n",
              " ['Conv2D - 2', 'pooling - 1', 2, 'drop - No', 0.483],\n",
              " ['Conv2D - 2', 'pooling - 1', 1, 'drop - No', 0.422],\n",
              " ['Conv2D - 2', 'pooling - 1', 128, 'drop - Yes', 0.727],\n",
              " ['Conv2D - 2', 'pooling - 1', 64, 'drop - Yes', 0.741],\n",
              " ['Conv2D - 2', 'pooling - 1', 32, 'drop - Yes', 0.723],\n",
              " ['Conv2D - 8', 'pooling - 2', '256-128-64-32', 'drop - Yes', 0.794],\n",
              " ['Conv2D - 10', 'pooling - 3', '512-256-128-64-32', 'drop - Yes', 0.807],\n",
              " ['Conv2D - 8', 'pooling - 2', '512-256-128-64-32', 'drop + genImage', 0.701]]"
            ]
          },
          "metadata": {},
          "execution_count": 38
        }
      ]
    },
    {
      "cell_type": "code",
      "metadata": {
        "id": "4x9kl2aVrNRD",
        "colab": {
          "base_uri": "https://localhost:8080/",
          "height": 279
        },
        "outputId": "30084a72-8085-403c-fc9a-00eecc2ad40a"
      },
      "source": [
        "# Отображаем график точности обучения\n",
        "plot_accuracy(history6)"
      ],
      "execution_count": 39,
      "outputs": [
        {
          "output_type": "display_data",
          "data": {
            "image/png": "[encoded data removed]",
            "text/plain": [
              "<Figure size 432x288 with 1 Axes>"
            ]
          },
          "metadata": {
            "needs_background": "light"
          }
        }
      ]
    },
    {
      "cell_type": "markdown",
      "source": [
        "с генератором модель показала хуже результат, чем без него (сравнивала после 10 эпох обучения)"
      ],
      "metadata": {
        "id": "mDN-KtBY7Nyv"
      }
    },
    {
      "cell_type": "markdown",
      "source": [
        "продолжение в части 2"
      ],
      "metadata": {
        "id": "hEa3slfyldJ2"
      }
    }
  ],
  "metadata": {
    "accelerator": "GPU",
    "colab": {
      "collapsed_sections": [],
      "name": "HW_04.ipynb",
      "provenance": [],
      "machine_shape": "hm",
      "include_colab_link": true
    },
    "kernelspec": {
      "display_name": "Python 3",
      "name": "python3"
    },
    "language_info": {
      "codemirror_mode": {
        "name": "ipython",
        "version": 3
      },
      "file_extension": ".py",
      "mimetype": "text/x-python",
      "name": "python",
      "nbconvert_exporter": "python",
      "pygments_lexer": "ipython3",
      "version": "3.7.3"
    }
  },
  "nbformat": 4,
  "nbformat_minor": 0
}