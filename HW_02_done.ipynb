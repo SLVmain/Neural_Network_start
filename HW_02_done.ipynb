{
  "nbformat": 4,
  "nbformat_minor": 0,
  "metadata": {
    "kernelspec": {
      "display_name": "Python 3",
      "language": "python",
      "name": "python3"
    },
    "language_info": {
      "codemirror_mode": {
        "name": "ipython",
        "version": 3
      },
      "file_extension": ".py",
      "mimetype": "text/x-python",
      "name": "python",
      "nbconvert_exporter": "python",
      "pygments_lexer": "ipython3",
      "version": "3.7.1"
    },
    "colab": {
      "name": "HW_02_done",
      "provenance": [],
      "collapsed_sections": [],
      "include_colab_link": true
    }
  },
  "cells": [
    {
      "cell_type": "markdown",
      "metadata": {
        "id": "view-in-github",
        "colab_type": "text"
      },
      "source": [
        "<a href=\"https://colab.research.google.com/github/SLVmain/Neural_Network_start/blob/Les_02/HW_02_done.ipynb\" target=\"_parent\"><img src=\"https://colab.research.google.com/assets/colab-badge.svg\" alt=\"Open In Colab\"/></a>"
      ]
    },
    {
      "cell_type": "markdown",
      "metadata": {
        "id": "XvhEhpGm9U8z"
      },
      "source": [
        "# Введение в искусственные нейронные сети\n",
        "# Урок 2. Keras"
      ]
    },
    {
      "cell_type": "markdown",
      "metadata": {
        "id": "LmKjkEH-9U84"
      },
      "source": [
        "## Практическое задание\n",
        "\n",
        "Используем набор примеров fashion-MNIST\n",
        "\n",
        "1.  Опишите - какой результата получен в нейросети в зависимости от:\n",
        "  -  числа нейронов в слое(для 2-хслойной сети), \n",
        "  - числа слоев (2, 3, 5, 10) при близких размерах сети (близкое число тренируемых парметров).\n",
        "  - фиксируйте для тренировочного и тестового набора метрики accuracy.\n",
        "2.  Проверьте работу разных оптимизаторов (SGD, Adam, RMSProp) для одной из моделей п.1.Фиксируйте для тренировочного и тестового набора метрики accuracy.\n",
        "\n",
        "3. Сделайте вывод - что помогло вам улучшить качество классификации в нейросети на тестовом наборе? \n",
        "\n",
        "4. Для одного варианта сетей сформируйте матрицу ошибок по классам. Оцените качество модели по каждому классу отдельно (полнота , точность). Сделайте вывод."
      ]
    },
    {
      "cell_type": "code",
      "metadata": {
        "id": "TQMMZ_jw9U9N"
      },
      "source": [
        "import numpy as np\n",
        "import pandas as pd\n",
        "\n",
        "import keras\n",
        "from keras.datasets import mnist, fashion_mnist\n",
        "\n",
        "(train_imagef,train_labels),(test_imagef,test_labels)=fashion_mnist.load_data()\n"
      ],
      "execution_count": null,
      "outputs": []
    },
    {
      "cell_type": "code",
      "source": [
        "# Normalize the images приведем изображение к диапазону (-1,1)\n",
        "train_imagef_norm = (train_imagef / 127) - 1\n",
        "test_imagef_norm = (test_imagef / 127) - 1"
      ],
      "metadata": {
        "id": "UYWTNjckIPAh"
      },
      "execution_count": null,
      "outputs": []
    },
    {
      "cell_type": "code",
      "source": [
        "# Flatten the images делаем векторизацию, т.к. наши слои полносвязные и хотят на вход вектор\n",
        "train_images = train_imagef_norm.reshape((-1, 784))\n",
        "test_images = test_imagef_norm.reshape((-1, 784))\n",
        "\n",
        "print(train_images.shape) # (60000, 784)\n",
        "print(test_images.shape)  # (10000, 784)"
      ],
      "metadata": {
        "colab": {
          "base_uri": "https://localhost:8080/"
        },
        "id": "KBMjvy-nIs0I",
        "outputId": "ec16ec15-ffae-4e85-bfa6-4e6c94644d4b"
      },
      "execution_count": null,
      "outputs": [
        {
          "output_type": "stream",
          "name": "stdout",
          "text": [
            "(60000, 784)\n",
            "(10000, 784)\n"
          ]
        }
      ]
    },
    {
      "cell_type": "code",
      "metadata": {
        "id": "3fwDFMMPJDFE",
        "colab": {
          "base_uri": "https://localhost:8080/",
          "height": 35
        },
        "outputId": "ca05f52e-2ffd-4f8e-acb6-3abcc1f89210"
      },
      "source": [
        "keras.backend.backend()"
      ],
      "execution_count": null,
      "outputs": [
        {
          "output_type": "execute_result",
          "data": {
            "application/vnd.google.colaboratory.intrinsic+json": {
              "type": "string"
            },
            "text/plain": [
              "'tensorflow'"
            ]
          },
          "metadata": {},
          "execution_count": 13
        }
      ]
    },
    {
      "cell_type": "code",
      "metadata": {
        "id": "Jp0WM1sS1DFX"
      },
      "source": [
        "import matplotlib.pyplot as plt"
      ],
      "execution_count": null,
      "outputs": []
    },
    {
      "cell_type": "code",
      "metadata": {
        "colab": {
          "base_uri": "https://localhost:8080/",
          "height": 265
        },
        "id": "1GG9Z5HDEEWW",
        "outputId": "72eb3b07-5057-464c-83df-35b67c0fabd3"
      },
      "source": [
        "plt.imshow(train_imagef[6,:,:])\n",
        "plt.show()"
      ],
      "execution_count": null,
      "outputs": [
        {
          "output_type": "display_data",
          "data": {
            "image/png": "[encoded data removed]",
            "text/plain": [
              "<Figure size 432x288 with 1 Axes>"
            ]
          },
          "metadata": {
            "needs_background": "light"
          }
        }
      ]
    },
    {
      "cell_type": "code",
      "metadata": {
        "colab": {
          "base_uri": "https://localhost:8080/"
        },
        "id": "t58_YKCl38rz",
        "outputId": "f9b9fb20-8188-4293-dd60-cdccee5e666c"
      },
      "source": [
        "train_labels[:12]"
      ],
      "execution_count": null,
      "outputs": [
        {
          "output_type": "execute_result",
          "data": {
            "text/plain": [
              "array([9, 0, 0, 3, 0, 2, 7, 2, 5, 5, 0, 9], dtype=uint8)"
            ]
          },
          "metadata": {},
          "execution_count": 16
        }
      ]
    },
    {
      "cell_type": "code",
      "metadata": {
        "colab": {
          "base_uri": "https://localhost:8080/"
        },
        "id": "1_Ae7niGnjb6",
        "outputId": "614f7805-3ff1-432c-9876-ebea8d6ade48"
      },
      "source": [
        "train_images[202,150:160]"
      ],
      "execution_count": null,
      "outputs": [
        {
          "output_type": "execute_result",
          "data": {
            "text/plain": [
              "array([-0.5984252 , -0.62204724, -0.64566929, -0.56692913, -0.59055118,\n",
              "       -0.62992126, -0.61417323, -0.61417323, -0.66929134, -0.58267717])"
            ]
          },
          "metadata": {},
          "execution_count": 17
        }
      ]
    },
    {
      "cell_type": "markdown",
      "metadata": {
        "id": "Y6btW5Oz9U9W"
      },
      "source": [
        "**Создание модели**"
      ]
    },
    {
      "cell_type": "code",
      "metadata": {
        "id": "hf6f_oe7EH7A"
      },
      "source": [
        "from keras.models import Sequential\n",
        "from keras.layers import Dense\n",
        "from tensorflow.keras.utils import to_categorical"
      ],
      "execution_count": null,
      "outputs": []
    },
    {
      "cell_type": "code",
      "metadata": {
        "id": "XLsN2KNiNHEf",
        "colab": {
          "base_uri": "https://localhost:8080/"
        },
        "outputId": "834005d1-c918-4c74-c216-4be309c9227a"
      },
      "source": [
        "train_images.shape"
      ],
      "execution_count": null,
      "outputs": [
        {
          "output_type": "execute_result",
          "data": {
            "text/plain": [
              "(60000, 784)"
            ]
          },
          "metadata": {},
          "execution_count": 15
        }
      ]
    },
    {
      "cell_type": "code",
      "metadata": {
        "id": "b0-xDKrNHNrv"
      },
      "source": [
        "model1 = Sequential(name='my_model')\n",
        "model1.add(Dense( 128, activation='relu', input_shape=(784,)))  \n",
        "for k in range(2):\n",
        "  model1.add(Dense(  10+(10-k)*10, activation='tanh')) \n",
        "\n",
        "model1.add(Dense(10, activation='softmax')) "
      ],
      "execution_count": null,
      "outputs": []
    },
    {
      "cell_type": "code",
      "metadata": {
        "id": "WjoJONokxO70"
      },
      "source": [
        "#loss виды для мультифакторной класс.\n",
        "#keras.losses.SparseCategoricalCrossentropy().\n",
        "#keras.losses.categorical_crossentropy()\n",
        "#keras.metrics.accuracy"
      ],
      "execution_count": null,
      "outputs": []
    },
    {
      "cell_type": "code",
      "metadata": {
        "id": "6pZ5taUWHke6"
      },
      "source": [
        "model1.compile(\n",
        "  optimizer='adam', \n",
        "  loss=keras.losses.CategoricalCrossentropy(), \n",
        "  metrics=['accuracy'], \n",
        ") "
      ],
      "execution_count": null,
      "outputs": []
    },
    {
      "cell_type": "code",
      "metadata": {
        "colab": {
          "base_uri": "https://localhost:8080/"
        },
        "id": "MdAHcWIoE8rf",
        "outputId": "cacc6999-f957-4d40-accc-1e9c2ad83a81"
      },
      "source": [
        "model1.summary()"
      ],
      "execution_count": null,
      "outputs": [
        {
          "output_type": "stream",
          "name": "stdout",
          "text": [
            "Model: \"my_model\"\n",
            "_________________________________________________________________\n",
            " Layer (type)                Output Shape              Param #   \n",
            "=================================================================\n",
            " dense (Dense)               (None, 128)               100480    \n",
            "                                                                 \n",
            " dense_1 (Dense)             (None, 110)               14190     \n",
            "                                                                 \n",
            " dense_2 (Dense)             (None, 100)               11100     \n",
            "                                                                 \n",
            " dense_3 (Dense)             (None, 10)                1010      \n",
            "                                                                 \n",
            "=================================================================\n",
            "Total params: 126,780\n",
            "Trainable params: 126,780\n",
            "Non-trainable params: 0\n",
            "_________________________________________________________________\n"
          ]
        }
      ]
    },
    {
      "cell_type": "code",
      "source": [
        "model1.get_config()"
      ],
      "metadata": {
        "colab": {
          "base_uri": "https://localhost:8080/"
        },
        "id": "cIfZVojKaR68",
        "outputId": "d051bcd7-b8a5-48ec-b1e2-265081eb0c29"
      },
      "execution_count": null,
      "outputs": [
        {
          "output_type": "execute_result",
          "data": {
            "text/plain": [
              "{'layers': [{'class_name': 'InputLayer',\n",
              "   'config': {'batch_input_shape': (None, 784),\n",
              "    'dtype': 'float32',\n",
              "    'name': 'dense_input',\n",
              "    'ragged': False,\n",
              "    'sparse': False}},\n",
              "  {'class_name': 'Dense',\n",
              "   'config': {'activation': 'relu',\n",
              "    'activity_regularizer': None,\n",
              "    'batch_input_shape': (None, 784),\n",
              "    'bias_constraint': None,\n",
              "    'bias_initializer': {'class_name': 'Zeros', 'config': {}},\n",
              "    'bias_regularizer': None,\n",
              "    'dtype': 'float32',\n",
              "    'kernel_constraint': None,\n",
              "    'kernel_initializer': {'class_name': 'GlorotUniform',\n",
              "     'config': {'seed': None}},\n",
              "    'kernel_regularizer': None,\n",
              "    'name': 'dense',\n",
              "    'trainable': True,\n",
              "    'units': 128,\n",
              "    'use_bias': True}},\n",
              "  {'class_name': 'Dense',\n",
              "   'config': {'activation': 'tanh',\n",
              "    'activity_regularizer': None,\n",
              "    'bias_constraint': None,\n",
              "    'bias_initializer': {'class_name': 'Zeros', 'config': {}},\n",
              "    'bias_regularizer': None,\n",
              "    'dtype': 'float32',\n",
              "    'kernel_constraint': None,\n",
              "    'kernel_initializer': {'class_name': 'GlorotUniform',\n",
              "     'config': {'seed': None}},\n",
              "    'kernel_regularizer': None,\n",
              "    'name': 'dense_1',\n",
              "    'trainable': True,\n",
              "    'units': 110,\n",
              "    'use_bias': True}},\n",
              "  {'class_name': 'Dense',\n",
              "   'config': {'activation': 'tanh',\n",
              "    'activity_regularizer': None,\n",
              "    'bias_constraint': None,\n",
              "    'bias_initializer': {'class_name': 'Zeros', 'config': {}},\n",
              "    'bias_regularizer': None,\n",
              "    'dtype': 'float32',\n",
              "    'kernel_constraint': None,\n",
              "    'kernel_initializer': {'class_name': 'GlorotUniform',\n",
              "     'config': {'seed': None}},\n",
              "    'kernel_regularizer': None,\n",
              "    'name': 'dense_2',\n",
              "    'trainable': True,\n",
              "    'units': 100,\n",
              "    'use_bias': True}},\n",
              "  {'class_name': 'Dense',\n",
              "   'config': {'activation': 'softmax',\n",
              "    'activity_regularizer': None,\n",
              "    'bias_constraint': None,\n",
              "    'bias_initializer': {'class_name': 'Zeros', 'config': {}},\n",
              "    'bias_regularizer': None,\n",
              "    'dtype': 'float32',\n",
              "    'kernel_constraint': None,\n",
              "    'kernel_initializer': {'class_name': 'GlorotUniform',\n",
              "     'config': {'seed': None}},\n",
              "    'kernel_regularizer': None,\n",
              "    'name': 'dense_3',\n",
              "    'trainable': True,\n",
              "    'units': 10,\n",
              "    'use_bias': True}}],\n",
              " 'name': 'my_model'}"
            ]
          },
          "metadata": {},
          "execution_count": 25
        }
      ]
    },
    {
      "cell_type": "markdown",
      "metadata": {
        "id": "Og3zBOXKUt6Q"
      },
      "source": [
        "Превратим выходы в векторые (OHE в keras - from keras.utils import to_categorical)"
      ]
    },
    {
      "cell_type": "code",
      "metadata": {
        "colab": {
          "base_uri": "https://localhost:8080/"
        },
        "id": "r4vfB93ZMa7k",
        "outputId": "6246d3a3-4c48-4b91-f118-f34afcde0662"
      },
      "source": [
        "train_labels[:7]"
      ],
      "execution_count": null,
      "outputs": [
        {
          "output_type": "execute_result",
          "data": {
            "text/plain": [
              "array([9, 0, 0, 3, 0, 2, 7], dtype=uint8)"
            ]
          },
          "metadata": {},
          "execution_count": 26
        }
      ]
    },
    {
      "cell_type": "code",
      "metadata": {
        "id": "fXgYOrUwGwzG"
      },
      "source": [
        "y_train = to_categorical(train_labels)\n",
        "y_test = to_categorical(test_labels)"
      ],
      "execution_count": null,
      "outputs": []
    },
    {
      "cell_type": "code",
      "metadata": {
        "colab": {
          "base_uri": "https://localhost:8080/"
        },
        "id": "HWKHT3kpG6yw",
        "outputId": "5febac00-babd-4959-f9b6-b36cbb241ae7"
      },
      "source": [
        "y_train[:3,:]"
      ],
      "execution_count": null,
      "outputs": [
        {
          "output_type": "execute_result",
          "data": {
            "text/plain": [
              "array([[0., 0., 0., 0., 0., 0., 0., 0., 0., 1.],\n",
              "       [1., 0., 0., 0., 0., 0., 0., 0., 0., 0.],\n",
              "       [1., 0., 0., 0., 0., 0., 0., 0., 0., 0.]], dtype=float32)"
            ]
          },
          "metadata": {},
          "execution_count": 28
        }
      ]
    },
    {
      "cell_type": "code",
      "metadata": {
        "colab": {
          "base_uri": "https://localhost:8080/"
        },
        "id": "13v9kMf5Ouq_",
        "outputId": "0884da16-be85-40a9-a5e0-ce0128c43036"
      },
      "source": [
        "train_labels[:5]"
      ],
      "execution_count": null,
      "outputs": [
        {
          "output_type": "execute_result",
          "data": {
            "text/plain": [
              "array([9, 0, 0, 3, 0], dtype=uint8)"
            ]
          },
          "metadata": {},
          "execution_count": 29
        }
      ]
    },
    {
      "cell_type": "code",
      "metadata": {
        "id": "9lCF4zXv9U90",
        "colab": {
          "base_uri": "https://localhost:8080/"
        },
        "outputId": "f1bd670e-f266-4127-b395-e0eb27b376e5"
      },
      "source": [
        "# Train the model.\n",
        "model1.fit(train_images, y_train, epochs=15, batch_size=32, validation_split=0.2)"
      ],
      "execution_count": null,
      "outputs": [
        {
          "output_type": "stream",
          "name": "stdout",
          "text": [
            "Epoch 1/15\n",
            "1500/1500 [==============================] - 5s 3ms/step - loss: 0.4990 - accuracy: 0.8214 - val_loss: 0.3982 - val_accuracy: 0.8578\n",
            "Epoch 2/15\n",
            "1500/1500 [==============================] - 5s 3ms/step - loss: 0.3810 - accuracy: 0.8619 - val_loss: 0.3892 - val_accuracy: 0.8643\n",
            "Epoch 3/15\n",
            "1500/1500 [==============================] - 5s 3ms/step - loss: 0.3464 - accuracy: 0.8735 - val_loss: 0.3709 - val_accuracy: 0.8661\n",
            "Epoch 4/15\n",
            "1500/1500 [==============================] - 5s 3ms/step - loss: 0.3238 - accuracy: 0.8813 - val_loss: 0.3560 - val_accuracy: 0.8727\n",
            "Epoch 5/15\n",
            "1500/1500 [==============================] - 5s 3ms/step - loss: 0.3077 - accuracy: 0.8868 - val_loss: 0.3457 - val_accuracy: 0.8745\n",
            "Epoch 6/15\n",
            "1500/1500 [==============================] - 5s 3ms/step - loss: 0.2926 - accuracy: 0.8919 - val_loss: 0.3369 - val_accuracy: 0.8780\n",
            "Epoch 7/15\n",
            "1500/1500 [==============================] - 6s 4ms/step - loss: 0.2763 - accuracy: 0.8970 - val_loss: 0.3367 - val_accuracy: 0.8817\n",
            "Epoch 8/15\n",
            "1500/1500 [==============================] - 6s 4ms/step - loss: 0.2671 - accuracy: 0.9013 - val_loss: 0.3306 - val_accuracy: 0.8841\n",
            "Epoch 9/15\n",
            "1500/1500 [==============================] - 6s 4ms/step - loss: 0.2532 - accuracy: 0.9066 - val_loss: 0.3155 - val_accuracy: 0.8904\n",
            "Epoch 10/15\n",
            "1500/1500 [==============================] - 6s 4ms/step - loss: 0.2462 - accuracy: 0.9080 - val_loss: 0.3366 - val_accuracy: 0.8835\n",
            "Epoch 11/15\n",
            "1500/1500 [==============================] - 6s 4ms/step - loss: 0.2372 - accuracy: 0.9121 - val_loss: 0.3276 - val_accuracy: 0.8864\n",
            "Epoch 12/15\n",
            "1500/1500 [==============================] - 6s 4ms/step - loss: 0.2320 - accuracy: 0.9139 - val_loss: 0.3427 - val_accuracy: 0.8848\n",
            "Epoch 13/15\n",
            "1500/1500 [==============================] - 6s 4ms/step - loss: 0.2243 - accuracy: 0.9168 - val_loss: 0.3140 - val_accuracy: 0.8908\n",
            "Epoch 14/15\n",
            "1500/1500 [==============================] - 6s 4ms/step - loss: 0.2168 - accuracy: 0.9203 - val_loss: 0.3232 - val_accuracy: 0.8891\n",
            "Epoch 15/15\n",
            "1500/1500 [==============================] - 6s 4ms/step - loss: 0.2101 - accuracy: 0.9208 - val_loss: 0.3265 - val_accuracy: 0.8908\n"
          ]
        },
        {
          "output_type": "execute_result",
          "data": {
            "text/plain": [
              "<keras.callbacks.History at 0x7f64197f8c10>"
            ]
          },
          "metadata": {},
          "execution_count": 30
        }
      ]
    },
    {
      "cell_type": "code",
      "source": [
        "# Evaluate the model.\n",
        "model1.evaluate(test_images, y_test)"
      ],
      "metadata": {
        "colab": {
          "base_uri": "https://localhost:8080/"
        },
        "id": "gDCxqvFmLNY1",
        "outputId": "6ef8bf0b-dae8-47ca-9cc2-5eea7d261f88"
      },
      "execution_count": null,
      "outputs": [
        {
          "output_type": "stream",
          "name": "stdout",
          "text": [
            "313/313 [==============================] - 1s 3ms/step - loss: 0.3476 - accuracy: 0.8852\n"
          ]
        },
        {
          "output_type": "execute_result",
          "data": {
            "text/plain": [
              "[0.3475631773471832, 0.885200023651123]"
            ]
          },
          "metadata": {},
          "execution_count": 31
        }
      ]
    },
    {
      "cell_type": "code",
      "source": [
        "# Predict on the first 5 test images.\n",
        "predictions = model1.predict(test_images[:5])\n",
        "\n",
        "# Print our model's predictions.\n",
        "print(np.argmax(predictions, axis=1)) # [7, 2, 1, 0, 4]\n",
        "\n",
        "# Check our predictions against the ground truths.\n",
        "print(test_labels[:5]) # [7, 2, 1, 0, 4]"
      ],
      "metadata": {
        "colab": {
          "base_uri": "https://localhost:8080/"
        },
        "id": "yUje5h-9Lu7-",
        "outputId": "f1f77299-5000-427f-a049-9e6557229d65"
      },
      "execution_count": null,
      "outputs": [
        {
          "output_type": "stream",
          "name": "stdout",
          "text": [
            "[9 2 1 1 6]\n",
            "[9 2 1 1 6]\n"
          ]
        }
      ]
    },
    {
      "cell_type": "markdown",
      "metadata": {
        "id": "CUndBqeOVY1_"
      },
      "source": [
        "И можем еще один добавить (продолжаем от предществующего состояния)"
      ]
    },
    {
      "cell_type": "code",
      "metadata": {
        "colab": {
          "base_uri": "https://localhost:8080/"
        },
        "id": "z3Qc2u0mHfBJ",
        "outputId": "6465e892-1e60-4696-cd99-6d7f6e4edd09"
      },
      "source": [
        "model1.fit(\n",
        "  train_images,\n",
        "  y_train,\n",
        "  epochs=3,\n",
        "  batch_size=1024, validation_split=0.2\n",
        ")"
      ],
      "execution_count": null,
      "outputs": [
        {
          "output_type": "stream",
          "name": "stdout",
          "text": [
            "Epoch 1/3\n",
            "47/47 [==============================] - 1s 23ms/step - loss: 0.1701 - accuracy: 0.9375 - val_loss: 0.3106 - val_accuracy: 0.8944\n",
            "Epoch 2/3\n",
            "47/47 [==============================] - 1s 22ms/step - loss: 0.1503 - accuracy: 0.9459 - val_loss: 0.3095 - val_accuracy: 0.8968\n",
            "Epoch 3/3\n",
            "47/47 [==============================] - 1s 22ms/step - loss: 0.1442 - accuracy: 0.9481 - val_loss: 0.3095 - val_accuracy: 0.8954\n"
          ]
        },
        {
          "output_type": "execute_result",
          "data": {
            "text/plain": [
              "<keras.callbacks.History at 0x7f6419660b10>"
            ]
          },
          "metadata": {},
          "execution_count": 33
        }
      ]
    },
    {
      "cell_type": "markdown",
      "metadata": {
        "id": "EpxXh0NiVg8p"
      },
      "source": [
        "Сохраним веса модели на диск"
      ]
    },
    {
      "cell_type": "code",
      "source": [
        "from google.colab import drive\n",
        "drive.mount('/content/drive')"
      ],
      "metadata": {
        "colab": {
          "base_uri": "https://localhost:8080/"
        },
        "id": "9hYbCJFuMzHS",
        "outputId": "3c31b1f3-bb53-46f6-cef6-34a1e8eea788"
      },
      "execution_count": null,
      "outputs": [
        {
          "output_type": "stream",
          "name": "stdout",
          "text": [
            "Mounted at /content/drive\n"
          ]
        }
      ]
    },
    {
      "cell_type": "code",
      "metadata": {
        "id": "He1a5EemElpX"
      },
      "source": [
        "# сохранить веса модели\n",
        "path = '/content/drive/MyDrive/Colab_Notebooks/GB_N_Networks/02/'\n",
        "model1.save_weights(path + 'model.h5')\n",
        "\n",
        "# загрузить веса модели:\n",
        "# model.load_weights(path + 'model.h5')\n"
      ],
      "execution_count": null,
      "outputs": []
    },
    {
      "cell_type": "code",
      "source": [
        "# задание 1 - Опишите - какой результата получен в нейросети в зависимости от:\n",
        "\n",
        "#числа нейронов в слое(для 2-хслойной сети),\n",
        "#числа слоев (2, 3, 5, 10) при близких размерах сети (близкое число тренируемых парметров).\n",
        "#фиксируйте для тренировочного и тестового набора метрики accuracy.\n",
        "\n",
        "metrics = []\n",
        "\n",
        "N = [10, 100, 5000, 50000] # Кол-во нейронов в скрытом слое\n",
        "for i in N:\n",
        "    model = Sequential() \n",
        "    model.add(Dense(i, input_shape=(784,), activation='relu'))\n",
        "    model.add(Dense(10, activation='softmax')) \n",
        "\n",
        "\n",
        "    model.compile(loss='categorical_crossentropy', optimizer='adam', metrics=['accuracy']) \n",
        "\n",
        "    history = model.fit(train_images, y_train, batch_size=128, epochs=10, verbose=0,) # validation_split=0.2)\n",
        "\n",
        "    metrics = metrics + [[i, 'relu', history.history['accuracy'][-1], round(model.evaluate(test_images, y_test, verbose = 0)[1], 3)]]\n",
        "\n",
        "  \n",
        "df = pd.DataFrame(metrics, columns = ['neurons', 'activation', 'train_accuracy','val_accuracy'])\n",
        "df"
      ],
      "metadata": {
        "colab": {
          "base_uri": "https://localhost:8080/",
          "height": 175
        },
        "id": "NAhzda-2O3pR",
        "outputId": "33aad142-1e21-483c-ea88-ee2e1b339cf5"
      },
      "execution_count": null,
      "outputs": [
        {
          "output_type": "execute_result",
          "data": {
            "text/html": [
              "<div>\n",
              "<style scoped>\n",
              "    .dataframe tbody tr th:only-of-type {\n",
              "        vertical-align: middle;\n",
              "    }\n",
              "\n",
              "    .dataframe tbody tr th {\n",
              "        vertical-align: top;\n",
              "    }\n",
              "\n",
              "    .dataframe thead th {\n",
              "        text-align: right;\n",
              "    }\n",
              "</style>\n",
              "<table border=\"1\" class=\"dataframe\">\n",
              "  <thead>\n",
              "    <tr style=\"text-align: right;\">\n",
              "      <th></th>\n",
              "      <th>neurons</th>\n",
              "      <th>activation</th>\n",
              "      <th>train_accuracy</th>\n",
              "      <th>val_accuracy</th>\n",
              "    </tr>\n",
              "  </thead>\n",
              "  <tbody>\n",
              "    <tr>\n",
              "      <th>0</th>\n",
              "      <td>10</td>\n",
              "      <td>relu</td>\n",
              "      <td>0.861417</td>\n",
              "      <td>0.844</td>\n",
              "    </tr>\n",
              "    <tr>\n",
              "      <th>1</th>\n",
              "      <td>100</td>\n",
              "      <td>relu</td>\n",
              "      <td>0.905933</td>\n",
              "      <td>0.875</td>\n",
              "    </tr>\n",
              "    <tr>\n",
              "      <th>2</th>\n",
              "      <td>5000</td>\n",
              "      <td>relu</td>\n",
              "      <td>0.918967</td>\n",
              "      <td>0.876</td>\n",
              "    </tr>\n",
              "    <tr>\n",
              "      <th>3</th>\n",
              "      <td>50000</td>\n",
              "      <td>relu</td>\n",
              "      <td>0.921517</td>\n",
              "      <td>0.880</td>\n",
              "    </tr>\n",
              "  </tbody>\n",
              "</table>\n",
              "</div>"
            ],
            "text/plain": [
              "   neurons activation  train_accuracy  val_accuracy\n",
              "0       10       relu        0.861417         0.844\n",
              "1      100       relu        0.905933         0.875\n",
              "2     5000       relu        0.918967         0.876\n",
              "3    50000       relu        0.921517         0.880"
            ]
          },
          "metadata": {},
          "execution_count": 53
        }
      ]
    },
    {
      "cell_type": "markdown",
      "source": [
        "Вывод: с увеличением количества нейронов с 10 до 50 000 accuracy увеличивается и на трейне и на тесте"
      ],
      "metadata": {
        "id": "Yu-FK7I3VbXr"
      }
    },
    {
      "cell_type": "code",
      "source": [
        "#числа слоев (2, 3, 5, 10) при близких размерах сети (близкое число тренируемых парметров)\n",
        "\n",
        "metrics = []\n",
        "\n",
        "N = [2, 3, 5, 10, 100] # Кол-во слоев\n",
        "for i in N:\n",
        "    model = Sequential() \n",
        "    model.add(Dense(100, input_shape=(784,), activation='relu'))\n",
        "    \n",
        "    for k in range(i):\n",
        "      model1.add(Dense(50, activation='tanh')) \n",
        "    \n",
        "    \n",
        "    model.add(Dense(10, activation='softmax')) \n",
        "\n",
        "\n",
        "    model.compile(loss='categorical_crossentropy', optimizer='adam', metrics=['accuracy']) \n",
        "\n",
        "    history = model.fit(train_images, y_train, batch_size=128, epochs=10, verbose=0,) # validation_split=0.2)\n",
        "\n",
        "    metrics = metrics + [[i, 'relu', history.history['accuracy'][-1], round(model.evaluate(test_images, y_test, verbose = 0)[1], 3)]]\n",
        "\n",
        "  \n",
        "df = pd.DataFrame(metrics, columns = ['num_layers', 'activation', 'train_accuracy','val_accuracy'])\n",
        "df"
      ],
      "metadata": {
        "colab": {
          "base_uri": "https://localhost:8080/",
          "height": 206
        },
        "id": "jtdtjQ20b2EK",
        "outputId": "058fc2ba-7c53-4129-d36e-d6f9ba1a3498"
      },
      "execution_count": null,
      "outputs": [
        {
          "output_type": "execute_result",
          "data": {
            "text/html": [
              "<div>\n",
              "<style scoped>\n",
              "    .dataframe tbody tr th:only-of-type {\n",
              "        vertical-align: middle;\n",
              "    }\n",
              "\n",
              "    .dataframe tbody tr th {\n",
              "        vertical-align: top;\n",
              "    }\n",
              "\n",
              "    .dataframe thead th {\n",
              "        text-align: right;\n",
              "    }\n",
              "</style>\n",
              "<table border=\"1\" class=\"dataframe\">\n",
              "  <thead>\n",
              "    <tr style=\"text-align: right;\">\n",
              "      <th></th>\n",
              "      <th>num_layers</th>\n",
              "      <th>activation</th>\n",
              "      <th>train_accuracy</th>\n",
              "      <th>val_accuracy</th>\n",
              "    </tr>\n",
              "  </thead>\n",
              "  <tbody>\n",
              "    <tr>\n",
              "      <th>0</th>\n",
              "      <td>2</td>\n",
              "      <td>relu</td>\n",
              "      <td>0.907050</td>\n",
              "      <td>0.879</td>\n",
              "    </tr>\n",
              "    <tr>\n",
              "      <th>1</th>\n",
              "      <td>3</td>\n",
              "      <td>relu</td>\n",
              "      <td>0.907017</td>\n",
              "      <td>0.879</td>\n",
              "    </tr>\n",
              "    <tr>\n",
              "      <th>2</th>\n",
              "      <td>5</td>\n",
              "      <td>relu</td>\n",
              "      <td>0.906800</td>\n",
              "      <td>0.878</td>\n",
              "    </tr>\n",
              "    <tr>\n",
              "      <th>3</th>\n",
              "      <td>10</td>\n",
              "      <td>relu</td>\n",
              "      <td>0.905433</td>\n",
              "      <td>0.875</td>\n",
              "    </tr>\n",
              "    <tr>\n",
              "      <th>4</th>\n",
              "      <td>100</td>\n",
              "      <td>relu</td>\n",
              "      <td>0.907850</td>\n",
              "      <td>0.874</td>\n",
              "    </tr>\n",
              "  </tbody>\n",
              "</table>\n",
              "</div>"
            ],
            "text/plain": [
              "   num_layers activation  train_accuracy  val_accuracy\n",
              "0           2       relu        0.907050         0.879\n",
              "1           3       relu        0.907017         0.879\n",
              "2           5       relu        0.906800         0.878\n",
              "3          10       relu        0.905433         0.875\n",
              "4         100       relu        0.907850         0.874"
            ]
          },
          "metadata": {},
          "execution_count": 58
        }
      ]
    },
    {
      "cell_type": "markdown",
      "source": [
        "при увеличении скрытых слоев c 2 до 3 точность примерно одинаковая, потом на 5, 10 и 100 точность уменьшается, то есть добавление слоев не влияет на точность"
      ],
      "metadata": {
        "id": "Kr_e3v1AenC0"
      }
    },
    {
      "cell_type": "code",
      "source": [
        "# Проверьте работу разных оптимизаторов (SGD, Adam, RMSProp) для одной из моделей п.1.Фиксируйте для тренировочного и тестового набора метрики accuracy."
      ],
      "metadata": {
        "id": "i_fyrTqZPOXR"
      },
      "execution_count": null,
      "outputs": []
    },
    {
      "cell_type": "code",
      "metadata": {
        "colab": {
          "base_uri": "https://localhost:8080/",
          "height": 458
        },
        "id": "jaqCLGg3w_Nl",
        "outputId": "011768d9-17cf-4743-a49b-9644dc68754e"
      },
      "source": [
        "# создаем модель model\n",
        "model = Sequential([\n",
        "                      Dense(100, activation='relu', input_shape=(784,)),\n",
        "                      Dense(100, activation='tanh'),\n",
        "                      Dense(100, activation='tanh'),\n",
        "                      Dense(100, activation='tanh'),\n",
        "                      Dense(100, activation='tanh'),\n",
        "                      Dense(10, activation='softmax'),\n",
        "                      ])\n",
        "# сохраняем ее веса (это начальная точка) model.save_weights('model.h5')\n",
        "model.save_weights('model3.h5')\n",
        "\n",
        "plt.figure(figsize=(16,7))\n",
        "\n",
        "# число рабочих эпох\n",
        "epochs = 17\n",
        "# вектор для выводв результатов\n",
        "epoch = np.arange(epochs+1)\n",
        "\n",
        "# будем изменять оптимизаторы\n",
        "\n",
        "#opt_list = [keras.optimizers.SGD( ),keras.optimizers.Adam( ),keras.optimizers.Nadam( ), keras.optimizers.RMSProp( )]\n",
        "for i_optim in ['SGD','adam', 'RMSProp',]:\n",
        "  # создаем рабочую модель modeli куда будем загружать эти веса (она должна быть идентичной структуры)\n",
        "  modeli = Sequential([\n",
        "                      Dense(100, activation='relu', input_shape=(784,)),\n",
        "                      Dense(100, activation='tanh'),\n",
        "                      Dense(100, activation='tanh'),\n",
        "                      Dense(100, activation='tanh'),\n",
        "                      Dense(100, activation='tanh'),\n",
        "                      Dense(10, activation='softmax'),\n",
        "                      ])\n",
        "  # загружаем веса modeli.load_weights('model.h5')\n",
        "  modeli.load_weights('model3.h5')\n",
        "  \n",
        "  modeli.compile(\n",
        "      optimizer=i_optim,\n",
        "      loss='categorical_crossentropy',\n",
        "      metrics=['accuracy'],\n",
        "      )\n",
        "  \n",
        "  hh = modeli.fit(\n",
        "                  train_images,\n",
        "                  to_categorical(train_labels),\n",
        "                  epochs=epochs,\n",
        "                  batch_size=128, validation_split=0.2, verbose = 0\n",
        "                  )\n",
        "  \n",
        "  plt.plot(hh.history['accuracy'],'-',label = modeli.optimizer.get_config()['name']+' train')\n",
        "  plt.plot(hh.history['val_accuracy'],'--',label = modeli.optimizer.get_config()['name']+' val')\n",
        "plt.legend()\n",
        "plt.grid('On')\n",
        "\n",
        "plt.title('нейросети от оптимизатора - accuracy')\n",
        "plt.xlabel('epoch')\n",
        "plt.ylabel('accuracy')\n",
        "plt.show()\n"
      ],
      "execution_count": null,
      "outputs": [
        {
          "output_type": "display_data",
          "data": {
            "image/png": "[encoded data removed]",
            "text/plain": [
              "<Figure size 1152x504 with 1 Axes>"
            ]
          },
          "metadata": {
            "needs_background": "light"
          }
        }
      ]
    },
    {
      "cell_type": "markdown",
      "source": [
        "при количестве эпох более 12 точность на тесте при ADAM и RMSprop начинает сближаться (SGD хуже остальных), но после 12-14 эпох начинается переобучение"
      ],
      "metadata": {
        "id": "9IUKgLSqiYBL"
      }
    },
    {
      "cell_type": "code",
      "metadata": {
        "id": "viS_E5s6z2UU"
      },
      "source": [
        " # Для одного варианта сетей сформируйте матрицу ошибок по классам. Оцените качество модели по каждому классу отдельно (полнота , точность). Сделайте вывод."
      ],
      "execution_count": null,
      "outputs": []
    },
    {
      "cell_type": "code",
      "source": [
        "model_final = Sequential([\n",
        "                      Dense(100, activation='tanh', input_shape=(784,)),\n",
        "                      Dense(800, activation='tanh'),\n",
        "                      Dense(10, activation='softmax'),\n",
        "                      ])\n",
        "  \n",
        "model_final.compile(\n",
        "      optimizer= 'adam',\n",
        "      loss='categorical_crossentropy',\n",
        "      metrics=['accuracy'],\n",
        "      )\n",
        "  \n",
        "hh = model_final.fit(train_images,\n",
        "                  to_categorical(train_labels),\n",
        "                  epochs=13,\n",
        "                  batch_size=32, validation_split=0.2, verbose = 0\n",
        "                  )\n",
        "  \n",
        "\n",
        "\n",
        "y_pred = np.argmax(model_final.predict(test_images), axis=1)\n",
        "y_pred[:10]"
      ],
      "metadata": {
        "colab": {
          "base_uri": "https://localhost:8080/"
        },
        "id": "Mub6M4f6jjd0",
        "outputId": "e3ccf2e6-93d6-451a-db63-6e73b72de5de"
      },
      "execution_count": null,
      "outputs": [
        {
          "output_type": "execute_result",
          "data": {
            "text/plain": [
              "array([9, 2, 1, 1, 6, 1, 4, 6, 5, 7])"
            ]
          },
          "metadata": {},
          "execution_count": 34
        }
      ]
    },
    {
      "cell_type": "code",
      "source": [
        "from sklearn.metrics import confusion_matrix, ConfusionMatrixDisplay"
      ],
      "metadata": {
        "id": "H4dFYSBtsmHl"
      },
      "execution_count": null,
      "outputs": []
    },
    {
      "cell_type": "code",
      "source": [
        "CM = confusion_matrix(test_labels,y_pred)\n",
        "print(CM)"
      ],
      "metadata": {
        "colab": {
          "base_uri": "https://localhost:8080/"
        },
        "id": "JNSn9rW7sd0r",
        "outputId": "919fd66b-b331-4cac-eee5-311573ab0f99"
      },
      "execution_count": null,
      "outputs": [
        {
          "output_type": "stream",
          "name": "stdout",
          "text": [
            "[[837   8  17  23   9   3  91   0  12   0]\n",
            " [  1 970   0  19   3   0   4   0   3   0]\n",
            " [  9   6 696  11 144   1 127   0   6   0]\n",
            " [ 29  38  11 852  48   1  17   0   4   0]\n",
            " [  0   3  60  30 847   0  57   0   3   0]\n",
            " [  0   0   0   0   0 920   0  50   5  25]\n",
            " [154   6  62  29  96   0 637   0  16   0]\n",
            " [  0   0   0   0   0  11   0 975   0  14]\n",
            " [  3   0   4   2   5   3   4   7 972   0]\n",
            " [  0   0   0   1   0   8   0  86   2 903]]\n"
          ]
        }
      ]
    },
    {
      "cell_type": "code",
      "source": [
        "import seaborn as sns\n",
        "sns.heatmap(CM.astype(int), annot=True, cmap='Blues', fmt='')"
      ],
      "metadata": {
        "colab": {
          "base_uri": "https://localhost:8080/",
          "height": 282
        },
        "id": "PEGZuzxIqxzS",
        "outputId": "0c03d47c-960d-4aee-d7ed-62d6625ad948"
      },
      "execution_count": null,
      "outputs": [
        {
          "output_type": "execute_result",
          "data": {
            "text/plain": [
              "<matplotlib.axes._subplots.AxesSubplot at 0x7f6415fc6bd0>"
            ]
          },
          "metadata": {},
          "execution_count": 38
        },
        {
          "output_type": "display_data",
          "data": {
            "image/png": "[encoded data removed]",
            "text/plain": [
              "<Figure size 432x288 with 2 Axes>"
            ]
          },
          "metadata": {
            "needs_background": "light"
          }
        }
      ]
    },
    {
      "cell_type": "code",
      "metadata": {
        "colab": {
          "base_uri": "https://localhost:8080/",
          "height": 205
        },
        "id": "wj7fhqd3FKFe",
        "outputId": "7d8ad322-497c-4e2e-aedf-dae843dcf4f6"
      },
      "source": [
        "N = 9\n",
        "#y_pred = model1.predict(test_images[:N,:])\n",
        "#y_pred_class = np.argmax(y_pred,axis=1)\n",
        "plt.figure(figsize =(3*N,5))\n",
        "for i in range(N):\n",
        "  plt.subplot(1,N,i+1)\n",
        "  plt.imshow(test_images[i,:].reshape(28,28))\n",
        "  plt.xlabel(str(y_pred[i]))\n",
        "plt.show()  "
      ],
      "execution_count": null,
      "outputs": [
        {
          "output_type": "display_data",
          "data": {
            "image/png": "[encoded data removed]",
            "text/plain": [
              "<Figure size 1944x360 with 9 Axes>"
            ]
          },
          "metadata": {
            "needs_background": "light"
          }
        }
      ]
    },
    {
      "cell_type": "code",
      "metadata": {
        "colab": {
          "base_uri": "https://localhost:8080/"
        },
        "id": "Q561c6eaGxcB",
        "outputId": "2235640a-0cee-425e-f412-cfef8d8ef80b"
      },
      "source": [
        "y_pred"
      ],
      "execution_count": null,
      "outputs": [
        {
          "output_type": "execute_result",
          "data": {
            "text/plain": [
              "array([9, 2, 1, ..., 8, 1, 5])"
            ]
          },
          "metadata": {},
          "execution_count": 40
        }
      ]
    },
    {
      "cell_type": "code",
      "metadata": {
        "colab": {
          "base_uri": "https://localhost:8080/"
        },
        "id": "EREg7l6YUK7P",
        "outputId": "b0aabde0-c594-4530-f57b-7eef1fadcf83"
      },
      "source": [
        "len(np.where(test_labels != y_pred)[0])"
      ],
      "execution_count": null,
      "outputs": [
        {
          "output_type": "execute_result",
          "data": {
            "text/plain": [
              "1391"
            ]
          },
          "metadata": {},
          "execution_count": 41
        }
      ]
    },
    {
      "cell_type": "code",
      "source": [
        "from sklearn.metrics import classification_report\n",
        "\n",
        "target_names = ['class 0', 'class 1', 'class 2', 'class 3', 'class 4', 'class 5', 'class 6', 'class 7', 'class 8', 'class 9']\n",
        "print(classification_report(test_labels, y_pred, target_names=target_names))\n"
      ],
      "metadata": {
        "colab": {
          "base_uri": "https://localhost:8080/"
        },
        "id": "ZRYhE2k1wsb2",
        "outputId": "a8a258e7-cceb-49b8-a18d-935642567575"
      },
      "execution_count": null,
      "outputs": [
        {
          "output_type": "stream",
          "name": "stdout",
          "text": [
            "              precision    recall  f1-score   support\n",
            "\n",
            "     class 0       0.81      0.84      0.82      1000\n",
            "     class 1       0.94      0.97      0.96      1000\n",
            "     class 2       0.82      0.70      0.75      1000\n",
            "     class 3       0.88      0.85      0.87      1000\n",
            "     class 4       0.74      0.85      0.79      1000\n",
            "     class 5       0.97      0.92      0.95      1000\n",
            "     class 6       0.68      0.64      0.66      1000\n",
            "     class 7       0.87      0.97      0.92      1000\n",
            "     class 8       0.95      0.97      0.96      1000\n",
            "     class 9       0.96      0.90      0.93      1000\n",
            "\n",
            "    accuracy                           0.86     10000\n",
            "   macro avg       0.86      0.86      0.86     10000\n",
            "weighted avg       0.86      0.86      0.86     10000\n",
            "\n"
          ]
        }
      ]
    },
    {
      "cell_type": "markdown",
      "source": [
        "2, 4, 6 классы похуже метрики показывают, самый \"плохой\" - 6 класс"
      ],
      "metadata": {
        "id": "mReW_xV2dhqM"
      }
    }
  ]
}